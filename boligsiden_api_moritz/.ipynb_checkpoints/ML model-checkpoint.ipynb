{
 "cells": [
  {
   "cell_type": "code",
   "execution_count": 333,
   "id": "c4180bb3-e1aa-4937-98ec-adc4e2b2e0ab",
   "metadata": {},
   "outputs": [],
   "source": [
    "import pandas as pd\n",
    "import numpy as np\n",
    "import matplotlib.pyplot as plt\n",
    "from sklearn.preprocessing import PolynomialFeatures"
   ]
  },
  {
   "cell_type": "code",
   "execution_count": 334,
   "id": "1a4257e3-a1f6-47a0-afc2-33f00a38ec78",
   "metadata": {},
   "outputs": [],
   "source": [
    "def removeValue(givenlist, valuelist):\n",
    "    # Traverse the value list\n",
    "    for value in valuelist:\n",
    "       # using while loop to remove all occurrences of given value\n",
    "        while(value in givenlist):\n",
    "            # removing the value using remove()\n",
    "            givenlist.remove(value)\n",
    "           # return the list\n",
    "    return givenlist"
   ]
  },
  {
   "cell_type": "code",
   "execution_count": 335,
   "id": "e0aa0b96-c851-47c6-8253-f83a3eb497e1",
   "metadata": {},
   "outputs": [],
   "source": [
    "df = pd.read_csv(\"data/boligsiden_2.csv\")"
   ]
  },
  {
   "cell_type": "code",
   "execution_count": 336,
   "id": "02170c55-ef7f-43ff-8e27-0d68ea8959a3",
   "metadata": {},
   "outputs": [],
   "source": [
    "df.drop(\"Unnamed: 0\", axis = 1, inplace = True)"
   ]
  },
  {
   "cell_type": "code",
   "execution_count": 337,
   "id": "36070487-9de7-44a3-8a1b-2e902e9569b8",
   "metadata": {},
   "outputs": [],
   "source": [
    "df.drop(\"Unnamed: 0.1\", axis = 1, inplace = True)"
   ]
  },
  {
   "cell_type": "code",
   "execution_count": 338,
   "id": "64c8bfdf-d5ae-4f82-9808-832c1521e51f",
   "metadata": {},
   "outputs": [
    {
     "data": {
      "text/html": [
       "<div>\n",
       "<style scoped>\n",
       "    .dataframe tbody tr th:only-of-type {\n",
       "        vertical-align: middle;\n",
       "    }\n",
       "\n",
       "    .dataframe tbody tr th {\n",
       "        vertical-align: top;\n",
       "    }\n",
       "\n",
       "    .dataframe thead th {\n",
       "        text-align: right;\n",
       "    }\n",
       "</style>\n",
       "<table border=\"1\" class=\"dataframe\">\n",
       "  <thead>\n",
       "    <tr style=\"text-align: right;\">\n",
       "      <th></th>\n",
       "      <th>addressType</th>\n",
       "      <th>basementArea</th>\n",
       "      <th>caseUrl</th>\n",
       "      <th>energyLabel</th>\n",
       "      <th>housingArea</th>\n",
       "      <th>lotArea</th>\n",
       "      <th>monthlyExpense</th>\n",
       "      <th>numberOfFloors</th>\n",
       "      <th>numberOfRooms</th>\n",
       "      <th>perAreaPrice</th>\n",
       "      <th>...</th>\n",
       "      <th>priceChangePercentage</th>\n",
       "      <th>yearBuilt</th>\n",
       "      <th>municipalityCode</th>\n",
       "      <th>numberOfBuildings</th>\n",
       "      <th>zipCode</th>\n",
       "      <th>municipality</th>\n",
       "      <th>latitude</th>\n",
       "      <th>longitude</th>\n",
       "      <th>basement</th>\n",
       "      <th>lot</th>\n",
       "    </tr>\n",
       "  </thead>\n",
       "  <tbody>\n",
       "    <tr>\n",
       "      <th>0</th>\n",
       "      <td>villa</td>\n",
       "      <td>60.0</td>\n",
       "      <td>https://www.brikk.dk/ejendom/industrivej-2-662...</td>\n",
       "      <td>d</td>\n",
       "      <td>210.0</td>\n",
       "      <td>1233.0</td>\n",
       "      <td>1718</td>\n",
       "      <td>2.0</td>\n",
       "      <td>6.0</td>\n",
       "      <td>4629.0</td>\n",
       "      <td>...</td>\n",
       "      <td>0.00</td>\n",
       "      <td>1968.0</td>\n",
       "      <td>575</td>\n",
       "      <td>1</td>\n",
       "      <td>6622</td>\n",
       "      <td>Vejen</td>\n",
       "      <td>55.571290</td>\n",
       "      <td>9.146651</td>\n",
       "      <td>1</td>\n",
       "      <td>1</td>\n",
       "    </tr>\n",
       "    <tr>\n",
       "      <th>1</th>\n",
       "      <td>farm</td>\n",
       "      <td>0.0</td>\n",
       "      <td>https://www.estaldo.com/listing/22fa0be5-dd95-...</td>\n",
       "      <td>e</td>\n",
       "      <td>472.0</td>\n",
       "      <td>84093.0</td>\n",
       "      <td>2334</td>\n",
       "      <td>1.0</td>\n",
       "      <td>4.0</td>\n",
       "      <td>6345.0</td>\n",
       "      <td>...</td>\n",
       "      <td>0.00</td>\n",
       "      <td>1936.0</td>\n",
       "      <td>860</td>\n",
       "      <td>1</td>\n",
       "      <td>9800</td>\n",
       "      <td>Hjørring</td>\n",
       "      <td>57.416790</td>\n",
       "      <td>9.964815</td>\n",
       "      <td>0</td>\n",
       "      <td>1</td>\n",
       "    </tr>\n",
       "    <tr>\n",
       "      <th>2</th>\n",
       "      <td>villa</td>\n",
       "      <td>127.0</td>\n",
       "      <td>https://www.brikk.dk/ejendom/storegade-33-6640...</td>\n",
       "      <td>e</td>\n",
       "      <td>124.0</td>\n",
       "      <td>614.0</td>\n",
       "      <td>2169</td>\n",
       "      <td>3.0</td>\n",
       "      <td>5.0</td>\n",
       "      <td>9783.0</td>\n",
       "      <td>...</td>\n",
       "      <td>0.00</td>\n",
       "      <td>1945.0</td>\n",
       "      <td>621</td>\n",
       "      <td>1</td>\n",
       "      <td>6640</td>\n",
       "      <td>Kolding</td>\n",
       "      <td>55.479263</td>\n",
       "      <td>9.298074</td>\n",
       "      <td>1</td>\n",
       "      <td>1</td>\n",
       "    </tr>\n",
       "    <tr>\n",
       "      <th>3</th>\n",
       "      <td>villa</td>\n",
       "      <td>69.0</td>\n",
       "      <td>http://www.nybolig.dk/maegler/pages/property-p...</td>\n",
       "      <td>e</td>\n",
       "      <td>69.0</td>\n",
       "      <td>497.0</td>\n",
       "      <td>2415</td>\n",
       "      <td>2.0</td>\n",
       "      <td>2.0</td>\n",
       "      <td>23841.0</td>\n",
       "      <td>...</td>\n",
       "      <td>0.00</td>\n",
       "      <td>1946.0</td>\n",
       "      <td>400</td>\n",
       "      <td>1</td>\n",
       "      <td>3700</td>\n",
       "      <td>Bornholm</td>\n",
       "      <td>55.109230</td>\n",
       "      <td>14.709151</td>\n",
       "      <td>1</td>\n",
       "      <td>1</td>\n",
       "    </tr>\n",
       "    <tr>\n",
       "      <th>4</th>\n",
       "      <td>villa</td>\n",
       "      <td>80.0</td>\n",
       "      <td>https://www.danbolig.dk?propertyid=0950000496&amp;...</td>\n",
       "      <td>c</td>\n",
       "      <td>179.0</td>\n",
       "      <td>1078.0</td>\n",
       "      <td>3634</td>\n",
       "      <td>2.0</td>\n",
       "      <td>5.0</td>\n",
       "      <td>31648.0</td>\n",
       "      <td>...</td>\n",
       "      <td>0.00</td>\n",
       "      <td>1961.0</td>\n",
       "      <td>630</td>\n",
       "      <td>1</td>\n",
       "      <td>7100</td>\n",
       "      <td>Vejle</td>\n",
       "      <td>55.694424</td>\n",
       "      <td>9.553193</td>\n",
       "      <td>1</td>\n",
       "      <td>1</td>\n",
       "    </tr>\n",
       "    <tr>\n",
       "      <th>...</th>\n",
       "      <td>...</td>\n",
       "      <td>...</td>\n",
       "      <td>...</td>\n",
       "      <td>...</td>\n",
       "      <td>...</td>\n",
       "      <td>...</td>\n",
       "      <td>...</td>\n",
       "      <td>...</td>\n",
       "      <td>...</td>\n",
       "      <td>...</td>\n",
       "      <td>...</td>\n",
       "      <td>...</td>\n",
       "      <td>...</td>\n",
       "      <td>...</td>\n",
       "      <td>...</td>\n",
       "      <td>...</td>\n",
       "      <td>...</td>\n",
       "      <td>...</td>\n",
       "      <td>...</td>\n",
       "      <td>...</td>\n",
       "      <td>...</td>\n",
       "    </tr>\n",
       "    <tr>\n",
       "      <th>9995</th>\n",
       "      <td>villa</td>\n",
       "      <td>0.0</td>\n",
       "      <td>https://home.dk/sag/8010000572</td>\n",
       "      <td>c</td>\n",
       "      <td>143.0</td>\n",
       "      <td>1062.0</td>\n",
       "      <td>1658</td>\n",
       "      <td>2.0</td>\n",
       "      <td>4.0</td>\n",
       "      <td>4741.0</td>\n",
       "      <td>...</td>\n",
       "      <td>0.00</td>\n",
       "      <td>1900.0</td>\n",
       "      <td>813</td>\n",
       "      <td>1</td>\n",
       "      <td>9900</td>\n",
       "      <td>Frederikshavn</td>\n",
       "      <td>57.473946</td>\n",
       "      <td>10.481430</td>\n",
       "      <td>0</td>\n",
       "      <td>1</td>\n",
       "    </tr>\n",
       "    <tr>\n",
       "      <th>9996</th>\n",
       "      <td>villa</td>\n",
       "      <td>0.0</td>\n",
       "      <td>http://www.estate-maeglerne.dk/maegler/pages/p...</td>\n",
       "      <td>d</td>\n",
       "      <td>232.0</td>\n",
       "      <td>1214.0</td>\n",
       "      <td>6232</td>\n",
       "      <td>1.0</td>\n",
       "      <td>6.0</td>\n",
       "      <td>33174.0</td>\n",
       "      <td>...</td>\n",
       "      <td>0.00</td>\n",
       "      <td>1961.0</td>\n",
       "      <td>190</td>\n",
       "      <td>1</td>\n",
       "      <td>3500</td>\n",
       "      <td>Furesø</td>\n",
       "      <td>55.756330</td>\n",
       "      <td>12.415566</td>\n",
       "      <td>0</td>\n",
       "      <td>1</td>\n",
       "    </tr>\n",
       "    <tr>\n",
       "      <th>9997</th>\n",
       "      <td>villa</td>\n",
       "      <td>0.0</td>\n",
       "      <td>https://www.danbolig.dk?propertyid=0140000466&amp;...</td>\n",
       "      <td>d</td>\n",
       "      <td>134.0</td>\n",
       "      <td>1027.0</td>\n",
       "      <td>1692</td>\n",
       "      <td>2.0</td>\n",
       "      <td>3.0</td>\n",
       "      <td>18058.0</td>\n",
       "      <td>...</td>\n",
       "      <td>0.00</td>\n",
       "      <td>1947.0</td>\n",
       "      <td>316</td>\n",
       "      <td>1</td>\n",
       "      <td>4340</td>\n",
       "      <td>Holbæk</td>\n",
       "      <td>55.593227</td>\n",
       "      <td>11.750100</td>\n",
       "      <td>0</td>\n",
       "      <td>1</td>\n",
       "    </tr>\n",
       "    <tr>\n",
       "      <th>9998</th>\n",
       "      <td>condo</td>\n",
       "      <td>0.0</td>\n",
       "      <td>https://www.danbolig.dk?propertyid=2100000090&amp;...</td>\n",
       "      <td>a2010</td>\n",
       "      <td>95.0</td>\n",
       "      <td>0.0</td>\n",
       "      <td>3085</td>\n",
       "      <td>5.0</td>\n",
       "      <td>3.0</td>\n",
       "      <td>57842.0</td>\n",
       "      <td>...</td>\n",
       "      <td>-1.79</td>\n",
       "      <td>1989.0</td>\n",
       "      <td>101</td>\n",
       "      <td>1</td>\n",
       "      <td>2400</td>\n",
       "      <td>København</td>\n",
       "      <td>55.705082</td>\n",
       "      <td>12.531357</td>\n",
       "      <td>0</td>\n",
       "      <td>0</td>\n",
       "    </tr>\n",
       "    <tr>\n",
       "      <th>9999</th>\n",
       "      <td>holiday house</td>\n",
       "      <td>0.0</td>\n",
       "      <td>https://home.dk/sag/2100000610</td>\n",
       "      <td>NaN</td>\n",
       "      <td>92.0</td>\n",
       "      <td>74918.0</td>\n",
       "      <td>2893</td>\n",
       "      <td>2.0</td>\n",
       "      <td>4.0</td>\n",
       "      <td>21685.0</td>\n",
       "      <td>...</td>\n",
       "      <td>0.00</td>\n",
       "      <td>1979.0</td>\n",
       "      <td>400</td>\n",
       "      <td>1</td>\n",
       "      <td>3770</td>\n",
       "      <td>Bornholm</td>\n",
       "      <td>55.276905</td>\n",
       "      <td>14.760906</td>\n",
       "      <td>0</td>\n",
       "      <td>1</td>\n",
       "    </tr>\n",
       "  </tbody>\n",
       "</table>\n",
       "<p>10000 rows × 21 columns</p>\n",
       "</div>"
      ],
      "text/plain": [
       "        addressType  basementArea  \\\n",
       "0             villa          60.0   \n",
       "1              farm           0.0   \n",
       "2             villa         127.0   \n",
       "3             villa          69.0   \n",
       "4             villa          80.0   \n",
       "...             ...           ...   \n",
       "9995          villa           0.0   \n",
       "9996          villa           0.0   \n",
       "9997          villa           0.0   \n",
       "9998          condo           0.0   \n",
       "9999  holiday house           0.0   \n",
       "\n",
       "                                                caseUrl energyLabel  \\\n",
       "0     https://www.brikk.dk/ejendom/industrivej-2-662...           d   \n",
       "1     https://www.estaldo.com/listing/22fa0be5-dd95-...           e   \n",
       "2     https://www.brikk.dk/ejendom/storegade-33-6640...           e   \n",
       "3     http://www.nybolig.dk/maegler/pages/property-p...           e   \n",
       "4     https://www.danbolig.dk?propertyid=0950000496&...           c   \n",
       "...                                                 ...         ...   \n",
       "9995                     https://home.dk/sag/8010000572           c   \n",
       "9996  http://www.estate-maeglerne.dk/maegler/pages/p...           d   \n",
       "9997  https://www.danbolig.dk?propertyid=0140000466&...           d   \n",
       "9998  https://www.danbolig.dk?propertyid=2100000090&...       a2010   \n",
       "9999                     https://home.dk/sag/2100000610         NaN   \n",
       "\n",
       "      housingArea  lotArea  monthlyExpense  numberOfFloors  numberOfRooms  \\\n",
       "0           210.0   1233.0            1718             2.0            6.0   \n",
       "1           472.0  84093.0            2334             1.0            4.0   \n",
       "2           124.0    614.0            2169             3.0            5.0   \n",
       "3            69.0    497.0            2415             2.0            2.0   \n",
       "4           179.0   1078.0            3634             2.0            5.0   \n",
       "...           ...      ...             ...             ...            ...   \n",
       "9995        143.0   1062.0            1658             2.0            4.0   \n",
       "9996        232.0   1214.0            6232             1.0            6.0   \n",
       "9997        134.0   1027.0            1692             2.0            3.0   \n",
       "9998         95.0      0.0            3085             5.0            3.0   \n",
       "9999         92.0  74918.0            2893             2.0            4.0   \n",
       "\n",
       "      perAreaPrice  ...  priceChangePercentage  yearBuilt  municipalityCode  \\\n",
       "0           4629.0  ...                   0.00     1968.0               575   \n",
       "1           6345.0  ...                   0.00     1936.0               860   \n",
       "2           9783.0  ...                   0.00     1945.0               621   \n",
       "3          23841.0  ...                   0.00     1946.0               400   \n",
       "4          31648.0  ...                   0.00     1961.0               630   \n",
       "...            ...  ...                    ...        ...               ...   \n",
       "9995        4741.0  ...                   0.00     1900.0               813   \n",
       "9996       33174.0  ...                   0.00     1961.0               190   \n",
       "9997       18058.0  ...                   0.00     1947.0               316   \n",
       "9998       57842.0  ...                  -1.79     1989.0               101   \n",
       "9999       21685.0  ...                   0.00     1979.0               400   \n",
       "\n",
       "      numberOfBuildings  zipCode   municipality   latitude  longitude  \\\n",
       "0                     1     6622          Vejen  55.571290   9.146651   \n",
       "1                     1     9800       Hjørring  57.416790   9.964815   \n",
       "2                     1     6640        Kolding  55.479263   9.298074   \n",
       "3                     1     3700       Bornholm  55.109230  14.709151   \n",
       "4                     1     7100          Vejle  55.694424   9.553193   \n",
       "...                 ...      ...            ...        ...        ...   \n",
       "9995                  1     9900  Frederikshavn  57.473946  10.481430   \n",
       "9996                  1     3500         Furesø  55.756330  12.415566   \n",
       "9997                  1     4340         Holbæk  55.593227  11.750100   \n",
       "9998                  1     2400      København  55.705082  12.531357   \n",
       "9999                  1     3770       Bornholm  55.276905  14.760906   \n",
       "\n",
       "      basement  lot  \n",
       "0            1    1  \n",
       "1            0    1  \n",
       "2            1    1  \n",
       "3            1    1  \n",
       "4            1    1  \n",
       "...        ...  ...  \n",
       "9995         0    1  \n",
       "9996         0    1  \n",
       "9997         0    1  \n",
       "9998         0    0  \n",
       "9999         0    1  \n",
       "\n",
       "[10000 rows x 21 columns]"
      ]
     },
     "execution_count": 338,
     "metadata": {},
     "output_type": "execute_result"
    }
   ],
   "source": [
    "df"
   ]
  },
  {
   "cell_type": "code",
   "execution_count": 339,
   "id": "e99e60b4-76bb-4ffc-bd2e-5411315b6270",
   "metadata": {},
   "outputs": [],
   "source": [
    "drop_list = [\"caseUrl\", \"latitude\", \"longitude\", \"zipCode\", \"municipality\", \"perAreaPrice\", \"priceChangePercentage\"]"
   ]
  },
  {
   "cell_type": "code",
   "execution_count": 340,
   "id": "658e01f0-fb0e-4886-8130-8370db6b8b1b",
   "metadata": {},
   "outputs": [],
   "source": [
    "X = df.drop(drop_list, axis = 1)"
   ]
  },
  {
   "cell_type": "code",
   "execution_count": 341,
   "id": "0dfd3ed4-c6bc-42bf-849e-527551c51dbc",
   "metadata": {},
   "outputs": [],
   "source": [
    "X.dropna(axis=0, how='any', thresh=None, subset=None, inplace=True)"
   ]
  },
  {
   "cell_type": "code",
   "execution_count": 342,
   "id": "3c02edf1-d942-42a2-ad64-071cecba5dff",
   "metadata": {},
   "outputs": [],
   "source": [
    "X = X.reset_index(drop=True)"
   ]
  },
  {
   "cell_type": "code",
   "execution_count": 343,
   "id": "e0d2a204-4817-4906-bd7c-f8413524d991",
   "metadata": {},
   "outputs": [
    {
     "data": {
      "text/html": [
       "<div>\n",
       "<style scoped>\n",
       "    .dataframe tbody tr th:only-of-type {\n",
       "        vertical-align: middle;\n",
       "    }\n",
       "\n",
       "    .dataframe tbody tr th {\n",
       "        vertical-align: top;\n",
       "    }\n",
       "\n",
       "    .dataframe thead th {\n",
       "        text-align: right;\n",
       "    }\n",
       "</style>\n",
       "<table border=\"1\" class=\"dataframe\">\n",
       "  <thead>\n",
       "    <tr style=\"text-align: right;\">\n",
       "      <th></th>\n",
       "      <th>addressType</th>\n",
       "      <th>basementArea</th>\n",
       "      <th>energyLabel</th>\n",
       "      <th>housingArea</th>\n",
       "      <th>lotArea</th>\n",
       "      <th>monthlyExpense</th>\n",
       "      <th>numberOfFloors</th>\n",
       "      <th>numberOfRooms</th>\n",
       "      <th>priceCash</th>\n",
       "      <th>yearBuilt</th>\n",
       "      <th>municipalityCode</th>\n",
       "      <th>numberOfBuildings</th>\n",
       "      <th>basement</th>\n",
       "      <th>lot</th>\n",
       "    </tr>\n",
       "  </thead>\n",
       "  <tbody>\n",
       "    <tr>\n",
       "      <th>0</th>\n",
       "      <td>villa</td>\n",
       "      <td>60.0</td>\n",
       "      <td>d</td>\n",
       "      <td>210.0</td>\n",
       "      <td>1233.0</td>\n",
       "      <td>1718</td>\n",
       "      <td>2.0</td>\n",
       "      <td>6.0</td>\n",
       "      <td>1148000</td>\n",
       "      <td>1968.0</td>\n",
       "      <td>575</td>\n",
       "      <td>1</td>\n",
       "      <td>1</td>\n",
       "      <td>1</td>\n",
       "    </tr>\n",
       "    <tr>\n",
       "      <th>1</th>\n",
       "      <td>farm</td>\n",
       "      <td>0.0</td>\n",
       "      <td>e</td>\n",
       "      <td>472.0</td>\n",
       "      <td>84093.0</td>\n",
       "      <td>2334</td>\n",
       "      <td>1.0</td>\n",
       "      <td>4.0</td>\n",
       "      <td>2995000</td>\n",
       "      <td>1936.0</td>\n",
       "      <td>860</td>\n",
       "      <td>1</td>\n",
       "      <td>0</td>\n",
       "      <td>1</td>\n",
       "    </tr>\n",
       "    <tr>\n",
       "      <th>2</th>\n",
       "      <td>villa</td>\n",
       "      <td>127.0</td>\n",
       "      <td>e</td>\n",
       "      <td>124.0</td>\n",
       "      <td>614.0</td>\n",
       "      <td>2169</td>\n",
       "      <td>3.0</td>\n",
       "      <td>5.0</td>\n",
       "      <td>2095000</td>\n",
       "      <td>1945.0</td>\n",
       "      <td>621</td>\n",
       "      <td>1</td>\n",
       "      <td>1</td>\n",
       "      <td>1</td>\n",
       "    </tr>\n",
       "    <tr>\n",
       "      <th>3</th>\n",
       "      <td>villa</td>\n",
       "      <td>69.0</td>\n",
       "      <td>e</td>\n",
       "      <td>69.0</td>\n",
       "      <td>497.0</td>\n",
       "      <td>2415</td>\n",
       "      <td>2.0</td>\n",
       "      <td>2.0</td>\n",
       "      <td>1645000</td>\n",
       "      <td>1946.0</td>\n",
       "      <td>400</td>\n",
       "      <td>1</td>\n",
       "      <td>1</td>\n",
       "      <td>1</td>\n",
       "    </tr>\n",
       "    <tr>\n",
       "      <th>4</th>\n",
       "      <td>villa</td>\n",
       "      <td>80.0</td>\n",
       "      <td>c</td>\n",
       "      <td>179.0</td>\n",
       "      <td>1078.0</td>\n",
       "      <td>3634</td>\n",
       "      <td>2.0</td>\n",
       "      <td>5.0</td>\n",
       "      <td>5665000</td>\n",
       "      <td>1961.0</td>\n",
       "      <td>630</td>\n",
       "      <td>1</td>\n",
       "      <td>1</td>\n",
       "      <td>1</td>\n",
       "    </tr>\n",
       "    <tr>\n",
       "      <th>...</th>\n",
       "      <td>...</td>\n",
       "      <td>...</td>\n",
       "      <td>...</td>\n",
       "      <td>...</td>\n",
       "      <td>...</td>\n",
       "      <td>...</td>\n",
       "      <td>...</td>\n",
       "      <td>...</td>\n",
       "      <td>...</td>\n",
       "      <td>...</td>\n",
       "      <td>...</td>\n",
       "      <td>...</td>\n",
       "      <td>...</td>\n",
       "      <td>...</td>\n",
       "    </tr>\n",
       "    <tr>\n",
       "      <th>8670</th>\n",
       "      <td>terraced house</td>\n",
       "      <td>0.0</td>\n",
       "      <td>c</td>\n",
       "      <td>139.0</td>\n",
       "      <td>218.0</td>\n",
       "      <td>3759</td>\n",
       "      <td>2.0</td>\n",
       "      <td>4.0</td>\n",
       "      <td>3475000</td>\n",
       "      <td>1959.0</td>\n",
       "      <td>253</td>\n",
       "      <td>1</td>\n",
       "      <td>0</td>\n",
       "      <td>1</td>\n",
       "    </tr>\n",
       "    <tr>\n",
       "      <th>8671</th>\n",
       "      <td>villa</td>\n",
       "      <td>0.0</td>\n",
       "      <td>c</td>\n",
       "      <td>143.0</td>\n",
       "      <td>1062.0</td>\n",
       "      <td>1658</td>\n",
       "      <td>2.0</td>\n",
       "      <td>4.0</td>\n",
       "      <td>695000</td>\n",
       "      <td>1900.0</td>\n",
       "      <td>813</td>\n",
       "      <td>1</td>\n",
       "      <td>0</td>\n",
       "      <td>1</td>\n",
       "    </tr>\n",
       "    <tr>\n",
       "      <th>8672</th>\n",
       "      <td>villa</td>\n",
       "      <td>0.0</td>\n",
       "      <td>d</td>\n",
       "      <td>232.0</td>\n",
       "      <td>1214.0</td>\n",
       "      <td>6232</td>\n",
       "      <td>1.0</td>\n",
       "      <td>6.0</td>\n",
       "      <td>7995000</td>\n",
       "      <td>1961.0</td>\n",
       "      <td>190</td>\n",
       "      <td>1</td>\n",
       "      <td>0</td>\n",
       "      <td>1</td>\n",
       "    </tr>\n",
       "    <tr>\n",
       "      <th>8673</th>\n",
       "      <td>villa</td>\n",
       "      <td>0.0</td>\n",
       "      <td>d</td>\n",
       "      <td>134.0</td>\n",
       "      <td>1027.0</td>\n",
       "      <td>1692</td>\n",
       "      <td>2.0</td>\n",
       "      <td>3.0</td>\n",
       "      <td>2595000</td>\n",
       "      <td>1947.0</td>\n",
       "      <td>316</td>\n",
       "      <td>1</td>\n",
       "      <td>0</td>\n",
       "      <td>1</td>\n",
       "    </tr>\n",
       "    <tr>\n",
       "      <th>8674</th>\n",
       "      <td>condo</td>\n",
       "      <td>0.0</td>\n",
       "      <td>a2010</td>\n",
       "      <td>95.0</td>\n",
       "      <td>0.0</td>\n",
       "      <td>3085</td>\n",
       "      <td>5.0</td>\n",
       "      <td>3.0</td>\n",
       "      <td>5495000</td>\n",
       "      <td>1989.0</td>\n",
       "      <td>101</td>\n",
       "      <td>1</td>\n",
       "      <td>0</td>\n",
       "      <td>0</td>\n",
       "    </tr>\n",
       "  </tbody>\n",
       "</table>\n",
       "<p>8675 rows × 14 columns</p>\n",
       "</div>"
      ],
      "text/plain": [
       "         addressType  basementArea energyLabel  housingArea  lotArea  \\\n",
       "0              villa          60.0           d        210.0   1233.0   \n",
       "1               farm           0.0           e        472.0  84093.0   \n",
       "2              villa         127.0           e        124.0    614.0   \n",
       "3              villa          69.0           e         69.0    497.0   \n",
       "4              villa          80.0           c        179.0   1078.0   \n",
       "...              ...           ...         ...          ...      ...   \n",
       "8670  terraced house           0.0           c        139.0    218.0   \n",
       "8671           villa           0.0           c        143.0   1062.0   \n",
       "8672           villa           0.0           d        232.0   1214.0   \n",
       "8673           villa           0.0           d        134.0   1027.0   \n",
       "8674           condo           0.0       a2010         95.0      0.0   \n",
       "\n",
       "      monthlyExpense  numberOfFloors  numberOfRooms  priceCash  yearBuilt  \\\n",
       "0               1718             2.0            6.0    1148000     1968.0   \n",
       "1               2334             1.0            4.0    2995000     1936.0   \n",
       "2               2169             3.0            5.0    2095000     1945.0   \n",
       "3               2415             2.0            2.0    1645000     1946.0   \n",
       "4               3634             2.0            5.0    5665000     1961.0   \n",
       "...              ...             ...            ...        ...        ...   \n",
       "8670            3759             2.0            4.0    3475000     1959.0   \n",
       "8671            1658             2.0            4.0     695000     1900.0   \n",
       "8672            6232             1.0            6.0    7995000     1961.0   \n",
       "8673            1692             2.0            3.0    2595000     1947.0   \n",
       "8674            3085             5.0            3.0    5495000     1989.0   \n",
       "\n",
       "      municipalityCode  numberOfBuildings  basement  lot  \n",
       "0                  575                  1         1    1  \n",
       "1                  860                  1         0    1  \n",
       "2                  621                  1         1    1  \n",
       "3                  400                  1         1    1  \n",
       "4                  630                  1         1    1  \n",
       "...                ...                ...       ...  ...  \n",
       "8670               253                  1         0    1  \n",
       "8671               813                  1         0    1  \n",
       "8672               190                  1         0    1  \n",
       "8673               316                  1         0    1  \n",
       "8674               101                  1         0    0  \n",
       "\n",
       "[8675 rows x 14 columns]"
      ]
     },
     "execution_count": 343,
     "metadata": {},
     "output_type": "execute_result"
    }
   ],
   "source": [
    "X"
   ]
  },
  {
   "cell_type": "code",
   "execution_count": 344,
   "id": "2a3a3a61-d633-4459-af6e-c3f9ff02c44a",
   "metadata": {},
   "outputs": [],
   "source": [
    "address_dummies = pd.get_dummies(X[\"addressType\"])\n",
    "energy_dummies = pd.get_dummies(X[\"energyLabel\"])\n",
    "municipality_dummies =  pd.get_dummies(X[\"municipalityCode\"])"
   ]
  },
  {
   "cell_type": "code",
   "execution_count": 345,
   "id": "073c0905-ebd9-46be-8bf3-d1ad4dfe9095",
   "metadata": {},
   "outputs": [],
   "source": [
    "y = X[\"priceCash\"]"
   ]
  },
  {
   "cell_type": "code",
   "execution_count": 346,
   "id": "eb7fbf7d-38ee-43e8-bc30-902591da454f",
   "metadata": {},
   "outputs": [],
   "source": [
    "X = X.drop(\"priceCash\", axis = 1)"
   ]
  },
  {
   "cell_type": "code",
   "execution_count": 347,
   "id": "2ae7fe83-b7ee-4cd6-b4b6-b71a8dd38279",
   "metadata": {},
   "outputs": [],
   "source": [
    "X_variables = X.columns.values.tolist()"
   ]
  },
  {
   "cell_type": "code",
   "execution_count": 348,
   "id": "3e0a1553-cd5d-479e-83f3-15412ba05854",
   "metadata": {},
   "outputs": [],
   "source": [
    "X_variables = removeValue(X_variables, [\"addressType\", \"energyLabel\", \"municipalityCode\"])"
   ]
  },
  {
   "cell_type": "code",
   "execution_count": 349,
   "id": "cd0c1718-1a8d-4f06-8770-019a50f7d644",
   "metadata": {},
   "outputs": [
    {
     "data": {
      "text/plain": [
       "['basementArea',\n",
       " 'housingArea',\n",
       " 'lotArea',\n",
       " 'monthlyExpense',\n",
       " 'numberOfFloors',\n",
       " 'numberOfRooms',\n",
       " 'yearBuilt',\n",
       " 'numberOfBuildings',\n",
       " 'basement',\n",
       " 'lot']"
      ]
     },
     "execution_count": 349,
     "metadata": {},
     "output_type": "execute_result"
    }
   ],
   "source": [
    "X_variables"
   ]
  },
  {
   "cell_type": "code",
   "execution_count": 350,
   "id": "eef75c5d-6bb1-4843-b687-5535423c5e83",
   "metadata": {},
   "outputs": [],
   "source": [
    "drop_list_2 = [\"addressType\", \"energyLabel\", \"municipalityCode\"]\n",
    "\n",
    "X = X.drop(drop_list_2, axis = 1)"
   ]
  },
  {
   "cell_type": "code",
   "execution_count": 351,
   "id": "c9fb4ade-8e74-4212-a365-c94acff316ee",
   "metadata": {},
   "outputs": [],
   "source": [
    "#X = pd.concat([X, pd.get_dummies(X[\"addressType\"]), pd.get_dummies(X[\"energyLabel\"]), pd.get_dummies(X[\"municipalityCode\"])], axis=1)"
   ]
  },
  {
   "cell_type": "code",
   "execution_count": 352,
   "id": "49847d1e-ea3c-4aed-948b-4e505780fb39",
   "metadata": {},
   "outputs": [
    {
     "data": {
      "text/plain": [
       "array([1], dtype=int64)"
      ]
     },
     "execution_count": 352,
     "metadata": {},
     "output_type": "execute_result"
    }
   ],
   "source": [
    "X.numberOfBuildings.unique()"
   ]
  },
  {
   "cell_type": "code",
   "execution_count": 353,
   "id": "7d581721-b350-4a2c-89dc-f313799fa07c",
   "metadata": {},
   "outputs": [],
   "source": [
    "X = X.drop(\"numberOfBuildings\", axis = 1) # drop number of buildings - those with more than one building (mostly farms) had NAN values for some variables"
   ]
  },
  {
   "cell_type": "markdown",
   "id": "5d06aa8a-a5cf-41fa-b602-7dc04f5946bb",
   "metadata": {},
   "source": [
    "Dataframe X and DataFrames with Dummies\n",
    "\n",
    "X\n",
    "\n",
    "address_dummies\n",
    "\n",
    "energy_dummies\n",
    "\n",
    "municipality_dummies"
   ]
  },
  {
   "cell_type": "code",
   "execution_count": 354,
   "id": "f1f520a2-aeb4-4a71-b02d-f5b9f59443da",
   "metadata": {},
   "outputs": [],
   "source": [
    "X.columns = X.columns.astype(str)\n",
    "address_dummies.columns = address_dummies.columns.astype(str)\n",
    "energy_dummies.columns = energy_dummies.columns.astype(str)\n",
    "municipality_dummies.columns = municipality_dummies.columns.astype(str)"
   ]
  },
  {
   "cell_type": "code",
   "execution_count": 355,
   "id": "100f8035-e445-4933-9793-1089990c66f2",
   "metadata": {},
   "outputs": [],
   "source": [
    "address_dummies[\"basement\"] = X.basement\n",
    "address_dummies[\"lot\"] = X.lot"
   ]
  },
  {
   "cell_type": "code",
   "execution_count": 356,
   "id": "8d4d5b5b-1889-4eca-abff-c23103adfd2d",
   "metadata": {},
   "outputs": [],
   "source": [
    "X = X.drop([\"basement\", \"lot\"], axis = 1)"
   ]
  },
  {
   "cell_type": "markdown",
   "id": "cf6583f2-bfb8-4ee7-8b3d-ef78e1d9c5ad",
   "metadata": {
    "tags": []
   },
   "source": [
    "## 1. Only variables regarding the House itself\n",
    "\n",
    "['basementArea',\n",
    " 'housingArea',\n",
    " 'lotArea',\n",
    " 'monthlyExpense',\n",
    " 'numberOfFloors',\n",
    " 'numberOfRooms',\n",
    " 'yearBuilt',\n",
    " 'basement',\n",
    " 'lot']\n",
    " \n",
    " "
   ]
  },
  {
   "cell_type": "code",
   "execution_count": 357,
   "id": "11017361-3ca5-4a56-9350-f2477c64a47f",
   "metadata": {},
   "outputs": [],
   "source": [
    "from sklearn.linear_model import LassoCV\n",
    "from sklearn.model_selection import train_test_split\n",
    "from sklearn.metrics import mean_squared_error as mse\n",
    "from sklearn.pipeline import make_pipeline\n",
    "from sklearn.preprocessing import StandardScaler, PolynomialFeatures"
   ]
  },
  {
   "cell_type": "code",
   "execution_count": 380,
   "id": "35b1e199-6306-4526-9247-f36927e8b348",
   "metadata": {},
   "outputs": [],
   "source": [
    "#X"
   ]
  },
  {
   "cell_type": "code",
   "execution_count": 359,
   "id": "b75ecd56-0f69-45fe-be96-59a17c544ad5",
   "metadata": {},
   "outputs": [],
   "source": [
    "poly = PolynomialFeatures(2, include_bias = False)\n",
    "X_poly_int = poly.fit_transform(X)"
   ]
  },
  {
   "cell_type": "code",
   "execution_count": 360,
   "id": "8bae57cf-6dc2-464f-8654-09dfa353dbf5",
   "metadata": {},
   "outputs": [],
   "source": [
    "X_poly_int = pd.DataFrame(X_poly_int, columns = poly.get_feature_names_out())"
   ]
  },
  {
   "cell_type": "code",
   "execution_count": 375,
   "id": "89c529c4-ddf0-4bb2-8612-a1335912a20f",
   "metadata": {},
   "outputs": [],
   "source": [
    "X_train, X_test, y_train, y_test = train_test_split(X_poly_int, y, test_size=.2, random_state=1)\n",
    "\n",
    "\"\"\"pipe = make_pipeline(#PolynomialFeatures(interaction_only=True),\n",
    "                    StandardScaler(),\n",
    "                    LassoCV(max_iter = 10000))\"\"\"\n",
    "scaler = StandardScaler()\n",
    "\n",
    "X_train_sc = scaler.fit_transform(X_train)\n",
    "X_test_sc = scaler.fit_transform(X_test)\n",
    "\n",
    "# X_train_sc2 = scaler.transform(X_train_sc)\n",
    "# X_test_sc2 = scaler.transform(X_test_sc)\n",
    "\n",
    "\n",
    "reg = LassoCV(cv=5, random_state=0, max_iter = 10000).fit(X_train_sc, y_train)\n",
    "\n",
    "\n",
    "y_pred = reg.predict(X_test_sc)\n",
    "\n",
    "rmse_1 = np.sqrt(mse(y_pred, y_test))\n",
    "score_1 = reg.score(X_train_sc, y_train)"
   ]
  },
  {
   "cell_type": "code",
   "execution_count": 377,
   "id": "020daf94-5a2f-4cd0-a0cb-c840f33d8757",
   "metadata": {},
   "outputs": [
    {
     "data": {
      "text/plain": [
       "1747939.2683861977"
      ]
     },
     "execution_count": 377,
     "metadata": {},
     "output_type": "execute_result"
    }
   ],
   "source": [
    "rmse_1"
   ]
  },
  {
   "cell_type": "code",
   "execution_count": 378,
   "id": "f4baa6bb-1081-4d4b-aa30-47060d234815",
   "metadata": {},
   "outputs": [
    {
     "data": {
      "text/plain": [
       "0.69747483140947"
      ]
     },
     "execution_count": 378,
     "metadata": {},
     "output_type": "execute_result"
    }
   ],
   "source": [
    "score_1"
   ]
  },
  {
   "cell_type": "markdown",
   "id": "d96b97c3-b3dd-486e-adac-b1a363a1b0af",
   "metadata": {},
   "source": [
    "## address type dummies"
   ]
  },
  {
   "cell_type": "code",
   "execution_count": 381,
   "id": "161d2f2d-02fa-4dd8-99d7-132f53b6c0d8",
   "metadata": {},
   "outputs": [
    {
     "data": {
      "text/html": [
       "<div>\n",
       "<style scoped>\n",
       "    .dataframe tbody tr th:only-of-type {\n",
       "        vertical-align: middle;\n",
       "    }\n",
       "\n",
       "    .dataframe tbody tr th {\n",
       "        vertical-align: top;\n",
       "    }\n",
       "\n",
       "    .dataframe thead th {\n",
       "        text-align: right;\n",
       "    }\n",
       "</style>\n",
       "<table border=\"1\" class=\"dataframe\">\n",
       "  <thead>\n",
       "    <tr style=\"text-align: right;\">\n",
       "      <th></th>\n",
       "      <th>condo</th>\n",
       "      <th>cooperative</th>\n",
       "      <th>farm</th>\n",
       "      <th>full year plot</th>\n",
       "      <th>hobby farm</th>\n",
       "      <th>holiday house</th>\n",
       "      <th>terraced house</th>\n",
       "      <th>villa</th>\n",
       "      <th>villa apartment</th>\n",
       "      <th>basement</th>\n",
       "      <th>lot</th>\n",
       "    </tr>\n",
       "  </thead>\n",
       "  <tbody>\n",
       "    <tr>\n",
       "      <th>0</th>\n",
       "      <td>0</td>\n",
       "      <td>0</td>\n",
       "      <td>0</td>\n",
       "      <td>0</td>\n",
       "      <td>0</td>\n",
       "      <td>0</td>\n",
       "      <td>0</td>\n",
       "      <td>1</td>\n",
       "      <td>0</td>\n",
       "      <td>1</td>\n",
       "      <td>1</td>\n",
       "    </tr>\n",
       "    <tr>\n",
       "      <th>1</th>\n",
       "      <td>0</td>\n",
       "      <td>0</td>\n",
       "      <td>1</td>\n",
       "      <td>0</td>\n",
       "      <td>0</td>\n",
       "      <td>0</td>\n",
       "      <td>0</td>\n",
       "      <td>0</td>\n",
       "      <td>0</td>\n",
       "      <td>0</td>\n",
       "      <td>1</td>\n",
       "    </tr>\n",
       "    <tr>\n",
       "      <th>2</th>\n",
       "      <td>0</td>\n",
       "      <td>0</td>\n",
       "      <td>0</td>\n",
       "      <td>0</td>\n",
       "      <td>0</td>\n",
       "      <td>0</td>\n",
       "      <td>0</td>\n",
       "      <td>1</td>\n",
       "      <td>0</td>\n",
       "      <td>1</td>\n",
       "      <td>1</td>\n",
       "    </tr>\n",
       "    <tr>\n",
       "      <th>3</th>\n",
       "      <td>0</td>\n",
       "      <td>0</td>\n",
       "      <td>0</td>\n",
       "      <td>0</td>\n",
       "      <td>0</td>\n",
       "      <td>0</td>\n",
       "      <td>0</td>\n",
       "      <td>1</td>\n",
       "      <td>0</td>\n",
       "      <td>1</td>\n",
       "      <td>1</td>\n",
       "    </tr>\n",
       "    <tr>\n",
       "      <th>4</th>\n",
       "      <td>0</td>\n",
       "      <td>0</td>\n",
       "      <td>0</td>\n",
       "      <td>0</td>\n",
       "      <td>0</td>\n",
       "      <td>0</td>\n",
       "      <td>0</td>\n",
       "      <td>1</td>\n",
       "      <td>0</td>\n",
       "      <td>1</td>\n",
       "      <td>1</td>\n",
       "    </tr>\n",
       "    <tr>\n",
       "      <th>...</th>\n",
       "      <td>...</td>\n",
       "      <td>...</td>\n",
       "      <td>...</td>\n",
       "      <td>...</td>\n",
       "      <td>...</td>\n",
       "      <td>...</td>\n",
       "      <td>...</td>\n",
       "      <td>...</td>\n",
       "      <td>...</td>\n",
       "      <td>...</td>\n",
       "      <td>...</td>\n",
       "    </tr>\n",
       "    <tr>\n",
       "      <th>8670</th>\n",
       "      <td>0</td>\n",
       "      <td>0</td>\n",
       "      <td>0</td>\n",
       "      <td>0</td>\n",
       "      <td>0</td>\n",
       "      <td>0</td>\n",
       "      <td>1</td>\n",
       "      <td>0</td>\n",
       "      <td>0</td>\n",
       "      <td>0</td>\n",
       "      <td>1</td>\n",
       "    </tr>\n",
       "    <tr>\n",
       "      <th>8671</th>\n",
       "      <td>0</td>\n",
       "      <td>0</td>\n",
       "      <td>0</td>\n",
       "      <td>0</td>\n",
       "      <td>0</td>\n",
       "      <td>0</td>\n",
       "      <td>0</td>\n",
       "      <td>1</td>\n",
       "      <td>0</td>\n",
       "      <td>0</td>\n",
       "      <td>1</td>\n",
       "    </tr>\n",
       "    <tr>\n",
       "      <th>8672</th>\n",
       "      <td>0</td>\n",
       "      <td>0</td>\n",
       "      <td>0</td>\n",
       "      <td>0</td>\n",
       "      <td>0</td>\n",
       "      <td>0</td>\n",
       "      <td>0</td>\n",
       "      <td>1</td>\n",
       "      <td>0</td>\n",
       "      <td>0</td>\n",
       "      <td>1</td>\n",
       "    </tr>\n",
       "    <tr>\n",
       "      <th>8673</th>\n",
       "      <td>0</td>\n",
       "      <td>0</td>\n",
       "      <td>0</td>\n",
       "      <td>0</td>\n",
       "      <td>0</td>\n",
       "      <td>0</td>\n",
       "      <td>0</td>\n",
       "      <td>1</td>\n",
       "      <td>0</td>\n",
       "      <td>0</td>\n",
       "      <td>1</td>\n",
       "    </tr>\n",
       "    <tr>\n",
       "      <th>8674</th>\n",
       "      <td>1</td>\n",
       "      <td>0</td>\n",
       "      <td>0</td>\n",
       "      <td>0</td>\n",
       "      <td>0</td>\n",
       "      <td>0</td>\n",
       "      <td>0</td>\n",
       "      <td>0</td>\n",
       "      <td>0</td>\n",
       "      <td>0</td>\n",
       "      <td>0</td>\n",
       "    </tr>\n",
       "  </tbody>\n",
       "</table>\n",
       "<p>8675 rows × 11 columns</p>\n",
       "</div>"
      ],
      "text/plain": [
       "      condo  cooperative  farm  full year plot  hobby farm  holiday house  \\\n",
       "0         0            0     0               0           0              0   \n",
       "1         0            0     1               0           0              0   \n",
       "2         0            0     0               0           0              0   \n",
       "3         0            0     0               0           0              0   \n",
       "4         0            0     0               0           0              0   \n",
       "...     ...          ...   ...             ...         ...            ...   \n",
       "8670      0            0     0               0           0              0   \n",
       "8671      0            0     0               0           0              0   \n",
       "8672      0            0     0               0           0              0   \n",
       "8673      0            0     0               0           0              0   \n",
       "8674      1            0     0               0           0              0   \n",
       "\n",
       "      terraced house  villa  villa apartment  basement  lot  \n",
       "0                  0      1                0         1    1  \n",
       "1                  0      0                0         0    1  \n",
       "2                  0      1                0         1    1  \n",
       "3                  0      1                0         1    1  \n",
       "4                  0      1                0         1    1  \n",
       "...              ...    ...              ...       ...  ...  \n",
       "8670               1      0                0         0    1  \n",
       "8671               0      1                0         0    1  \n",
       "8672               0      1                0         0    1  \n",
       "8673               0      1                0         0    1  \n",
       "8674               0      0                0         0    0  \n",
       "\n",
       "[8675 rows x 11 columns]"
      ]
     },
     "execution_count": 381,
     "metadata": {},
     "output_type": "execute_result"
    }
   ],
   "source": [
    "address_dummies"
   ]
  },
  {
   "cell_type": "code",
   "execution_count": 382,
   "id": "768982d9-4f6c-446a-89b2-1c9c76e19833",
   "metadata": {},
   "outputs": [],
   "source": [
    "X_poly_int_address = pd.concat([X_poly_int, address_dummies], axis=1)"
   ]
  },
  {
   "cell_type": "code",
   "execution_count": 189,
   "id": "58cc100d-dcec-4576-a90b-553f1c58410d",
   "metadata": {},
   "outputs": [],
   "source": [
    "#poly = PolynomialFeatures(interaction_only=True, include_bias = False)\n",
    "#X = poly.fit_transform(X)\n",
    "\n",
    "#X = pd.DataFrame(X, columns = poly.get_feature_names_out())\n",
    "\n",
    "#X = X.loc[:, (X != 0).any(axis=0)]\n",
    "\n",
    "#X = X.loc[:,~X.apply(lambda x: x.duplicated(),axis=1).all()].copy() # this removes the duplicates of interaction terms"
   ]
  },
  {
   "cell_type": "code",
   "execution_count": 386,
   "id": "fe7e5c85-0815-4d30-95b4-9561f3daac99",
   "metadata": {},
   "outputs": [],
   "source": [
    "X_train, X_test, y_train, y_test = train_test_split(X_poly_int_address, y, test_size=.2, random_state=1)\n",
    "scaler = StandardScaler()\n",
    "\n",
    "X_train_sc = scaler.fit_transform(X_train)\n",
    "X_test_sc = scaler.fit_transform(X_test)\n",
    "\n",
    "# X_train_sc2 = scaler.transform(X_train_sc)\n",
    "# X_test_sc2 = scaler.transform(X_test_sc)\n",
    "\n",
    "\n",
    "reg = LassoCV(cv=5, random_state=0, max_iter = 10000).fit(X_train_sc, y_train)\n",
    "\n",
    "\n",
    "y_pred = reg.predict(X_test_sc)\n",
    "\n",
    "rmse_2 = np.sqrt(mse(y_pred, y_test))\n",
    "score_2 = reg.score(X_train_sc, y_train)"
   ]
  },
  {
   "cell_type": "raw",
   "id": "78ab5247-eb2e-4833-bb92-782007f1f6d5",
   "metadata": {},
   "source": [
    "X_train, X_test, y_train, y_test = train_test_split(X_poly_int_address, y, test_size=.2, random_state=1)\n",
    "\n",
    "pipe = make_pipeline(#PolynomialFeatures(interaction_only=True),\n",
    "                    StandardScaler(),\n",
    "                    LassoCV(max_iter = 10000))\n",
    "pipe.fit(X_train, y_train)\n",
    "y_pred = pipe.predict(X_test)\n",
    "\n",
    "rmse_address = np.sqrt(mse(y_pred, y_test))"
   ]
  },
  {
   "cell_type": "code",
   "execution_count": 387,
   "id": "0ff29f4a-4a4b-40ae-8b87-3b8754c9ea12",
   "metadata": {},
   "outputs": [
    {
     "data": {
      "text/plain": [
       "1677438.5819331682"
      ]
     },
     "execution_count": 387,
     "metadata": {},
     "output_type": "execute_result"
    }
   ],
   "source": [
    "rmse_2"
   ]
  },
  {
   "cell_type": "code",
   "execution_count": 388,
   "id": "5523cdd4-f5be-4088-a455-e0dfdea3ccc3",
   "metadata": {},
   "outputs": [
    {
     "data": {
      "text/plain": [
       "0.7372850517407253"
      ]
     },
     "execution_count": 388,
     "metadata": {},
     "output_type": "execute_result"
    }
   ],
   "source": [
    "score_2"
   ]
  },
  {
   "cell_type": "markdown",
   "id": "a0efe0b3-a761-4940-a917-3b80bfc7844b",
   "metadata": {},
   "source": [
    "## Now also with energy codes"
   ]
  },
  {
   "cell_type": "code",
   "execution_count": 389,
   "id": "f00a42fc-820f-4ab8-b3fe-3917ecbe0e4e",
   "metadata": {},
   "outputs": [],
   "source": [
    "X_poly_int_address_energy = pd.concat([X_poly_int_address, energy_dummies], axis=1)"
   ]
  },
  {
   "cell_type": "code",
   "execution_count": 390,
   "id": "f1a770d6-3add-49f7-87da-920f51359639",
   "metadata": {},
   "outputs": [],
   "source": [
    "X_train, X_test, y_train, y_test = train_test_split(X_poly_int_address_energy, y, test_size=.2, random_state=1)\n",
    "scaler = StandardScaler()\n",
    "\n",
    "X_train_sc = scaler.fit_transform(X_train)\n",
    "X_test_sc = scaler.fit_transform(X_test)\n",
    "\n",
    "# X_train_sc2 = scaler.transform(X_train_sc)\n",
    "# X_test_sc2 = scaler.transform(X_test_sc)\n",
    "\n",
    "\n",
    "reg = LassoCV(cv=5, random_state=0, max_iter = 10000).fit(X_train_sc, y_train)\n",
    "\n",
    "\n",
    "y_pred = reg.predict(X_test_sc)\n",
    "\n",
    "rmse_3 = np.sqrt(mse(y_pred, y_test))\n",
    "score_3 = reg.score(X_train_sc, y_train)"
   ]
  },
  {
   "cell_type": "code",
   "execution_count": 391,
   "id": "35b9cba7-3e5d-46fd-8917-2a561602e723",
   "metadata": {},
   "outputs": [
    {
     "data": {
      "text/plain": [
       "1659162.5717530884"
      ]
     },
     "execution_count": 391,
     "metadata": {},
     "output_type": "execute_result"
    }
   ],
   "source": [
    "rmse_3"
   ]
  },
  {
   "cell_type": "code",
   "execution_count": 392,
   "id": "f822e804-9527-4393-a3ae-0aa871fcdff9",
   "metadata": {},
   "outputs": [
    {
     "data": {
      "text/plain": [
       "0.744785439612457"
      ]
     },
     "execution_count": 392,
     "metadata": {},
     "output_type": "execute_result"
    }
   ],
   "source": [
    "score_3"
   ]
  },
  {
   "cell_type": "raw",
   "id": "923d8586-04f7-48bc-9413-27adf8178bf8",
   "metadata": {},
   "source": [
    "#X = pd.concat([X, energy_dummies], axis=1)\n",
    "\n",
    "X_train, X_test, y_train, y_test = train_test_split(X, y, test_size=.2, random_state=1)\n",
    "\n",
    "pipe = make_pipeline(#PolynomialFeatures(interaction_only=True),\n",
    "                    StandardScaler(),\n",
    "                    LassoCV(max_iter = 10000))\n",
    "pipe.fit(X_train, y_train)\n",
    "y_pred = pipe.predict(X_test)\n",
    "\n",
    "rmse_address_energy = np.sqrt(mse(y_pred, y_test))\n",
    "\n",
    "rmse_address_energy"
   ]
  },
  {
   "cell_type": "markdown",
   "id": "eed36e88-2005-4c89-bd03-ba8bcaad6372",
   "metadata": {},
   "source": [
    "## Now with house variables, address type, energy and municipality\n"
   ]
  },
  {
   "cell_type": "code",
   "execution_count": 393,
   "id": "0893d122-818f-4334-9de8-7910d6e6251b",
   "metadata": {},
   "outputs": [],
   "source": [
    "X_poly_int_address_energy_municipality = pd.concat([X_poly_int_address_energy, municipality_dummies], axis=1)"
   ]
  },
  {
   "cell_type": "code",
   "execution_count": 394,
   "id": "ec562c93-051b-4e36-a2fe-5e099a967cbf",
   "metadata": {},
   "outputs": [],
   "source": [
    "X_train, X_test, y_train, y_test = train_test_split(X_poly_int_address_energy_municipality, y, test_size=.2, random_state=1)\n",
    "scaler = StandardScaler()\n",
    "\n",
    "X_train_sc = scaler.fit_transform(X_train)\n",
    "X_test_sc = scaler.fit_transform(X_test)\n",
    "\n",
    "# X_train_sc2 = scaler.transform(X_train_sc)\n",
    "# X_test_sc2 = scaler.transform(X_test_sc)\n",
    "\n",
    "\n",
    "reg = LassoCV(cv=5, random_state=0, max_iter = 10000).fit(X_train_sc, y_train)\n",
    "\n",
    "\n",
    "y_pred = reg.predict(X_test_sc)\n",
    "\n",
    "rmse_4 = np.sqrt(mse(y_pred, y_test))\n",
    "score_4 = reg.score(X_train_sc, y_train)"
   ]
  },
  {
   "cell_type": "code",
   "execution_count": 395,
   "id": "0d66c3ba-8f6b-427a-a37d-31d708abde2a",
   "metadata": {},
   "outputs": [
    {
     "data": {
      "text/plain": [
       "1504671.4533923788"
      ]
     },
     "execution_count": 395,
     "metadata": {},
     "output_type": "execute_result"
    }
   ],
   "source": [
    "rmse_4"
   ]
  },
  {
   "cell_type": "code",
   "execution_count": 396,
   "id": "bfe71d42-ba6c-4225-9390-9b54b8829f8e",
   "metadata": {},
   "outputs": [
    {
     "data": {
      "text/plain": [
       "0.8039550048457592"
      ]
     },
     "execution_count": 396,
     "metadata": {},
     "output_type": "execute_result"
    }
   ],
   "source": [
    "score_4"
   ]
  },
  {
   "cell_type": "raw",
   "id": "d71411a2-cec2-4134-a3c7-9138befdfef9",
   "metadata": {},
   "source": [
    "X = pd.concat([X, municipality_dummies], axis=1)\n",
    "\n",
    "X_train, X_test, y_train, y_test = train_test_split(X, y, test_size=.2, random_state=1)\n",
    "\n",
    "pipe = make_pipeline(#PolynomialFeatures(interaction_only=True),\n",
    "                    StandardScaler(),\n",
    "                    LassoCV(max_iter = 10000))\n",
    "pipe.fit(X_train, y_train)\n",
    "y_pred = pipe.predict(X_test)\n",
    "\n",
    "rmse_address_energy_municipality = np.sqrt(mse(y_pred, y_test))\n",
    "\n",
    "rmse_address_energy_municipality"
   ]
  },
  {
   "cell_type": "code",
   "execution_count": 226,
   "id": "456a009a-2654-4d28-a027-2a90fb005042",
   "metadata": {},
   "outputs": [],
   "source": [
    "#.coef_"
   ]
  },
  {
   "cell_type": "code",
   "execution_count": null,
   "id": "1b291850-4521-4057-b642-ed8d1325b67a",
   "metadata": {},
   "outputs": [],
   "source": []
  },
  {
   "cell_type": "code",
   "execution_count": 204,
   "id": "bbad10f0-9b9c-4f83-876f-55eee1a07ab8",
   "metadata": {},
   "outputs": [
    {
     "name": "stderr",
     "output_type": "stream",
     "text": [
      "C:\\Users\\MZB\\anaconda3\\envs\\ISDS\\lib\\site-packages\\sklearn\\linear_model\\_coordinate_descent.py:634: ConvergenceWarning: Objective did not converge. You might want to increase the number of iterations. Duality gap: 4427393283204.0, tolerance: 4382880872312.298\n",
      "  model = cd_fast.enet_coordinate_descent_gram(\n",
      "C:\\Users\\MZB\\anaconda3\\envs\\ISDS\\lib\\site-packages\\sklearn\\linear_model\\_coordinate_descent.py:634: ConvergenceWarning: Objective did not converge. You might want to increase the number of iterations. Duality gap: 11649384016318.0, tolerance: 4657733547796.466\n",
      "  model = cd_fast.enet_coordinate_descent_gram(\n"
     ]
    },
    {
     "data": {
      "text/plain": [
       "1514911.080449193"
      ]
     },
     "execution_count": 204,
     "metadata": {},
     "output_type": "execute_result"
    }
   ],
   "source": [
    "poly = PolynomialFeatures(2, include_bias = False)\n",
    "X = poly.fit_transform(X)\n",
    "\n",
    "X = pd.DataFrame(X, columns = poly.get_feature_names_out())\n",
    "\n",
    "X = X.loc[:, (X != 0).any(axis=0)]\n",
    "\n",
    "X = X.loc[:,~X.apply(lambda x: x.duplicated(),axis=1).all()].copy() # this removes the duplicates of interaction terms\n",
    "\n",
    "X = pd.concat([X, municipality_dummies], axis=1)\n",
    "\n",
    "X_train, X_test, y_train, y_test = train_test_split(X, y, test_size=.2, random_state=1)\n",
    "\n",
    "pipe = make_pipeline(#PolynomialFeatures(interaction_only=True),\n",
    "                    StandardScaler(),\n",
    "                    LassoCV(max_iter = 10000))\n",
    "pipe.fit(X_train, y_train)\n",
    "y_pred = pipe.predict(X_test)\n",
    "\n",
    "rmse_full_power = np.sqrt(mse(y_pred, y_test))\n",
    "\n",
    "rmse_full_power"
   ]
  },
  {
   "cell_type": "code",
   "execution_count": null,
   "id": "ae1329a4-ef64-4d70-bef9-c52ce52ed217",
   "metadata": {},
   "outputs": [],
   "source": []
  }
 ],
 "metadata": {
  "kernelspec": {
   "display_name": "Python 3 (ipykernel)",
   "language": "python",
   "name": "python3"
  },
  "language_info": {
   "codemirror_mode": {
    "name": "ipython",
    "version": 3
   },
   "file_extension": ".py",
   "mimetype": "text/x-python",
   "name": "python",
   "nbconvert_exporter": "python",
   "pygments_lexer": "ipython3",
   "version": "3.8.13"
  }
 },
 "nbformat": 4,
 "nbformat_minor": 5
}
