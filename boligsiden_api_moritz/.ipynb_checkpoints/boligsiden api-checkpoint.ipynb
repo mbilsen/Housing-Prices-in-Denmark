{
 "cells": [
  {
   "cell_type": "code",
   "execution_count": 19,
   "id": "45fd608f",
   "metadata": {},
   "outputs": [],
   "source": [
    "import pandas as pd\n",
    "import numpy as np\n",
    "import requests\n",
    "import json\n",
    "import tqdm\n",
    "import os\n",
    "import time"
   ]
  },
  {
   "cell_type": "code",
   "execution_count": 20,
   "id": "f86593f0",
   "metadata": {},
   "outputs": [],
   "source": [
    "#base_url = \"https://api.prod.bs-aws-stage.com/search/cases?addressTypes=villa,condo,terraced+house,holiday+house,cooperative,farm,hobby+farm,full+year+plot,villa+apartment,holiday+plot&per_page=50&page=1&sortAscending=true&sortBy=timeOnMarket\""
   ]
  },
  {
   "cell_type": "code",
   "execution_count": 21,
   "id": "0988226c-f250-4f9b-a940-99af6bed4cdd",
   "metadata": {},
   "outputs": [],
   "source": [
    "def log(response, logfile, output_path = os.getcwd()):\n",
    "    if os.path.isfile(logfile):\n",
    "        log = open(logfile, \"a\")\n",
    "    else: \n",
    "        log = open(logfile, \"w\")\n",
    "        header = [\"timestamp\", \"status_code\", \"length\", \"output_file\"]\n",
    "        log.write(\";\".join(header) + \"\\n\")\n",
    "    status_code = response.status_code\n",
    "    timestamp = time.strftime(\"%Y-%m-%d %H:%M:%S\")\n",
    "    length = len(response.text)\n",
    "    with open(logfile, \"a\") as log:\n",
    "        log.write(f\"{timestamp};{status_code};{length};{output_path}\" + \"\\n\")"
   ]
  },
  {
   "cell_type": "code",
   "execution_count": null,
   "id": "58a3a91c-1ba6-4d11-9838-19e51803a63c",
   "metadata": {},
   "outputs": [],
   "source": [
    "lists_html = []\n",
    "logfile = \"log.csv\"\n",
    "for strings in tqdm.tqdm(links):\n",
    "    try:\n",
    "        response = requests.get(strings)\n",
    "    except Exception as e:\n",
    "        print(url)\n",
    "        print(e)\n",
    "        with open(\"list_html\", \"w\") as l:\n",
    "            json.dump(list_html, l)\n",
    "        continue\n",
    "    html = response.text\n",
    "    lists_html.append(html)\n",
    "    time.sleep(0.2)\n",
    "    log(response, logfile)"
   ]
  },
  {
   "cell_type": "code",
   "execution_count": 22,
   "id": "971e0965",
   "metadata": {},
   "outputs": [],
   "source": [
    "n_max = 45134\n",
    "per_page = 500\n",
    "pages = [x for x in range(1,int(n_max/per_page)+1,1)]"
   ]
  },
  {
   "cell_type": "code",
   "execution_count": 23,
   "id": "c025b8c5",
   "metadata": {},
   "outputs": [],
   "source": [
    "urls = [f\"https://api.prod.bs-aws-stage.com/search/cases?addressTypes=villa,condo,terraced+house,holiday+house,cooperative,farm,hobby+farm,full+year+plot,villa+apartment,holiday+plot&per_page={per_page}&page={x}&sortAscending=true&sortBy=timeOnMarket\" for x in pages]"
   ]
  },
  {
   "cell_type": "code",
   "execution_count": 24,
   "id": "2db3bb4a",
   "metadata": {},
   "outputs": [
    {
     "name": "stderr",
     "output_type": "stream",
     "text": [
      "  0%|          | 0/20 [00:00<?, ?it/s]"
     ]
    },
    {
     "name": "stdout",
     "output_type": "stream",
     "text": [
      "https://api.prod.bs-aws-stage.com/search/cases?addressTypes=villa,condo,terraced+house,holiday+house,cooperative,farm,hobby+farm,full+year+plot,villa+apartment,holiday+plot&per_page=500&page=1&sortAscending=true&sortBy=timeOnMarket\n"
     ]
    },
    {
     "name": "stderr",
     "output_type": "stream",
     "text": [
      "  5%|▌         | 1/20 [00:04<01:16,  4.00s/it]"
     ]
    },
    {
     "name": "stdout",
     "output_type": "stream",
     "text": [
      "https://api.prod.bs-aws-stage.com/search/cases?addressTypes=villa,condo,terraced+house,holiday+house,cooperative,farm,hobby+farm,full+year+plot,villa+apartment,holiday+plot&per_page=500&page=2&sortAscending=true&sortBy=timeOnMarket\n"
     ]
    },
    {
     "name": "stderr",
     "output_type": "stream",
     "text": [
      " 10%|█         | 2/20 [00:09<01:28,  4.90s/it]"
     ]
    },
    {
     "name": "stdout",
     "output_type": "stream",
     "text": [
      "https://api.prod.bs-aws-stage.com/search/cases?addressTypes=villa,condo,terraced+house,holiday+house,cooperative,farm,hobby+farm,full+year+plot,villa+apartment,holiday+plot&per_page=500&page=3&sortAscending=true&sortBy=timeOnMarket\n"
     ]
    },
    {
     "name": "stderr",
     "output_type": "stream",
     "text": [
      " 15%|█▌        | 3/20 [00:12<01:09,  4.11s/it]"
     ]
    },
    {
     "name": "stdout",
     "output_type": "stream",
     "text": [
      "https://api.prod.bs-aws-stage.com/search/cases?addressTypes=villa,condo,terraced+house,holiday+house,cooperative,farm,hobby+farm,full+year+plot,villa+apartment,holiday+plot&per_page=500&page=4&sortAscending=true&sortBy=timeOnMarket\n"
     ]
    },
    {
     "name": "stderr",
     "output_type": "stream",
     "text": [
      " 20%|██        | 4/20 [00:18<01:14,  4.68s/it]"
     ]
    },
    {
     "name": "stdout",
     "output_type": "stream",
     "text": [
      "https://api.prod.bs-aws-stage.com/search/cases?addressTypes=villa,condo,terraced+house,holiday+house,cooperative,farm,hobby+farm,full+year+plot,villa+apartment,holiday+plot&per_page=500&page=5&sortAscending=true&sortBy=timeOnMarket\n"
     ]
    },
    {
     "name": "stderr",
     "output_type": "stream",
     "text": [
      " 25%|██▌       | 5/20 [00:23<01:11,  4.76s/it]"
     ]
    },
    {
     "name": "stdout",
     "output_type": "stream",
     "text": [
      "https://api.prod.bs-aws-stage.com/search/cases?addressTypes=villa,condo,terraced+house,holiday+house,cooperative,farm,hobby+farm,full+year+plot,villa+apartment,holiday+plot&per_page=500&page=6&sortAscending=true&sortBy=timeOnMarket\n"
     ]
    },
    {
     "name": "stderr",
     "output_type": "stream",
     "text": [
      " 30%|███       | 6/20 [00:28<01:09,  4.97s/it]"
     ]
    },
    {
     "name": "stdout",
     "output_type": "stream",
     "text": [
      "https://api.prod.bs-aws-stage.com/search/cases?addressTypes=villa,condo,terraced+house,holiday+house,cooperative,farm,hobby+farm,full+year+plot,villa+apartment,holiday+plot&per_page=500&page=7&sortAscending=true&sortBy=timeOnMarket\n"
     ]
    },
    {
     "name": "stderr",
     "output_type": "stream",
     "text": [
      " 35%|███▌      | 7/20 [00:33<01:06,  5.11s/it]"
     ]
    },
    {
     "name": "stdout",
     "output_type": "stream",
     "text": [
      "https://api.prod.bs-aws-stage.com/search/cases?addressTypes=villa,condo,terraced+house,holiday+house,cooperative,farm,hobby+farm,full+year+plot,villa+apartment,holiday+plot&per_page=500&page=8&sortAscending=true&sortBy=timeOnMarket\n"
     ]
    },
    {
     "name": "stderr",
     "output_type": "stream",
     "text": [
      " 40%|████      | 8/20 [00:37<00:54,  4.52s/it]"
     ]
    },
    {
     "name": "stdout",
     "output_type": "stream",
     "text": [
      "https://api.prod.bs-aws-stage.com/search/cases?addressTypes=villa,condo,terraced+house,holiday+house,cooperative,farm,hobby+farm,full+year+plot,villa+apartment,holiday+plot&per_page=500&page=9&sortAscending=true&sortBy=timeOnMarket\n"
     ]
    },
    {
     "name": "stderr",
     "output_type": "stream",
     "text": [
      " 45%|████▌     | 9/20 [00:42<00:52,  4.75s/it]"
     ]
    },
    {
     "name": "stdout",
     "output_type": "stream",
     "text": [
      "https://api.prod.bs-aws-stage.com/search/cases?addressTypes=villa,condo,terraced+house,holiday+house,cooperative,farm,hobby+farm,full+year+plot,villa+apartment,holiday+plot&per_page=500&page=10&sortAscending=true&sortBy=timeOnMarket\n"
     ]
    },
    {
     "name": "stderr",
     "output_type": "stream",
     "text": [
      " 50%|█████     | 10/20 [00:45<00:43,  4.34s/it]"
     ]
    },
    {
     "name": "stdout",
     "output_type": "stream",
     "text": [
      "https://api.prod.bs-aws-stage.com/search/cases?addressTypes=villa,condo,terraced+house,holiday+house,cooperative,farm,hobby+farm,full+year+plot,villa+apartment,holiday+plot&per_page=500&page=11&sortAscending=true&sortBy=timeOnMarket\n"
     ]
    },
    {
     "name": "stderr",
     "output_type": "stream",
     "text": [
      " 55%|█████▌    | 11/20 [00:49<00:37,  4.12s/it]"
     ]
    },
    {
     "name": "stdout",
     "output_type": "stream",
     "text": [
      "https://api.prod.bs-aws-stage.com/search/cases?addressTypes=villa,condo,terraced+house,holiday+house,cooperative,farm,hobby+farm,full+year+plot,villa+apartment,holiday+plot&per_page=500&page=12&sortAscending=true&sortBy=timeOnMarket\n"
     ]
    },
    {
     "name": "stderr",
     "output_type": "stream",
     "text": [
      " 60%|██████    | 12/20 [00:54<00:36,  4.54s/it]"
     ]
    },
    {
     "name": "stdout",
     "output_type": "stream",
     "text": [
      "https://api.prod.bs-aws-stage.com/search/cases?addressTypes=villa,condo,terraced+house,holiday+house,cooperative,farm,hobby+farm,full+year+plot,villa+apartment,holiday+plot&per_page=500&page=13&sortAscending=true&sortBy=timeOnMarket\n"
     ]
    },
    {
     "name": "stderr",
     "output_type": "stream",
     "text": [
      " 65%|██████▌   | 13/20 [01:00<00:33,  4.78s/it]"
     ]
    },
    {
     "name": "stdout",
     "output_type": "stream",
     "text": [
      "https://api.prod.bs-aws-stage.com/search/cases?addressTypes=villa,condo,terraced+house,holiday+house,cooperative,farm,hobby+farm,full+year+plot,villa+apartment,holiday+plot&per_page=500&page=14&sortAscending=true&sortBy=timeOnMarket\n"
     ]
    },
    {
     "name": "stderr",
     "output_type": "stream",
     "text": [
      " 70%|███████   | 14/20 [01:06<00:30,  5.13s/it]"
     ]
    },
    {
     "name": "stdout",
     "output_type": "stream",
     "text": [
      "https://api.prod.bs-aws-stage.com/search/cases?addressTypes=villa,condo,terraced+house,holiday+house,cooperative,farm,hobby+farm,full+year+plot,villa+apartment,holiday+plot&per_page=500&page=15&sortAscending=true&sortBy=timeOnMarket\n"
     ]
    },
    {
     "name": "stderr",
     "output_type": "stream",
     "text": [
      " 75%|███████▌  | 15/20 [01:12<00:27,  5.55s/it]"
     ]
    },
    {
     "name": "stdout",
     "output_type": "stream",
     "text": [
      "https://api.prod.bs-aws-stage.com/search/cases?addressTypes=villa,condo,terraced+house,holiday+house,cooperative,farm,hobby+farm,full+year+plot,villa+apartment,holiday+plot&per_page=500&page=16&sortAscending=true&sortBy=timeOnMarket\n"
     ]
    },
    {
     "name": "stderr",
     "output_type": "stream",
     "text": [
      " 80%|████████  | 16/20 [01:17<00:21,  5.31s/it]"
     ]
    },
    {
     "name": "stdout",
     "output_type": "stream",
     "text": [
      "https://api.prod.bs-aws-stage.com/search/cases?addressTypes=villa,condo,terraced+house,holiday+house,cooperative,farm,hobby+farm,full+year+plot,villa+apartment,holiday+plot&per_page=500&page=17&sortAscending=true&sortBy=timeOnMarket\n"
     ]
    },
    {
     "name": "stderr",
     "output_type": "stream",
     "text": [
      " 85%|████████▌ | 17/20 [01:23<00:16,  5.42s/it]"
     ]
    },
    {
     "name": "stdout",
     "output_type": "stream",
     "text": [
      "https://api.prod.bs-aws-stage.com/search/cases?addressTypes=villa,condo,terraced+house,holiday+house,cooperative,farm,hobby+farm,full+year+plot,villa+apartment,holiday+plot&per_page=500&page=18&sortAscending=true&sortBy=timeOnMarket\n"
     ]
    },
    {
     "name": "stderr",
     "output_type": "stream",
     "text": [
      " 95%|█████████▌| 19/20 [01:34<00:05,  5.80s/it]"
     ]
    },
    {
     "name": "stdout",
     "output_type": "stream",
     "text": [
      "https://api.prod.bs-aws-stage.com/search/cases?addressTypes=villa,condo,terraced+house,holiday+house,cooperative,farm,hobby+farm,full+year+plot,villa+apartment,holiday+plot&per_page=500&page=19&sortAscending=true&sortBy=timeOnMarket\n",
      "https://api.prod.bs-aws-stage.com/search/cases?addressTypes=villa,condo,terraced+house,holiday+house,cooperative,farm,hobby+farm,full+year+plot,villa+apartment,holiday+plot&per_page=500&page=20&sortAscending=true&sortBy=timeOnMarket\n"
     ]
    },
    {
     "name": "stderr",
     "output_type": "stream",
     "text": [
      "100%|██████████| 20/20 [01:40<00:00,  5.04s/it]\n"
     ]
    }
   ],
   "source": [
    "data = pd.DataFrame()\n",
    "logfile = \"log.csv\"\n",
    "for url in tqdm.tqdm(urls[:20]):\n",
    "    try:\n",
    "        response = requests.get(url)\n",
    "    except Exception as e:\n",
    "        print(url)\n",
    "        print(e)\n",
    "        with open(\"list_html\", \"w\") as l:\n",
    "            json.dump(list_html, l)\n",
    "        continue\n",
    "    #response = requests.get(url[:20]) # at urls[21] there is an error, so we only request for the first 10,000 observations\n",
    "    print(url)\n",
    "    data_500 = pd.DataFrame(response.json()[\"cases\"])\n",
    "    df_2 = [data, data_500]\n",
    "    data = pd.concat(df_2, ignore_index=True)\n",
    "    log(response, logfile)"
   ]
  },
  {
   "cell_type": "code",
   "execution_count": 25,
   "id": "ccc4ca71",
   "metadata": {},
   "outputs": [
    {
     "data": {
      "text/html": [
       "<div>\n",
       "<style scoped>\n",
       "    .dataframe tbody tr th:only-of-type {\n",
       "        vertical-align: middle;\n",
       "    }\n",
       "\n",
       "    .dataframe tbody tr th {\n",
       "        vertical-align: top;\n",
       "    }\n",
       "\n",
       "    .dataframe thead th {\n",
       "        text-align: right;\n",
       "    }\n",
       "</style>\n",
       "<table border=\"1\" class=\"dataframe\">\n",
       "  <thead>\n",
       "    <tr style=\"text-align: right;\">\n",
       "      <th></th>\n",
       "      <th>_links</th>\n",
       "      <th>address</th>\n",
       "      <th>addressType</th>\n",
       "      <th>caseID</th>\n",
       "      <th>caseUrl</th>\n",
       "      <th>coordinates</th>\n",
       "      <th>daysOnMarket</th>\n",
       "      <th>defaultImage</th>\n",
       "      <th>descriptionBody</th>\n",
       "      <th>descriptionTitle</th>\n",
       "      <th>...</th>\n",
       "      <th>housingArea</th>\n",
       "      <th>numberOfFloors</th>\n",
       "      <th>numberOfRooms</th>\n",
       "      <th>weightedArea</th>\n",
       "      <th>yearBuilt</th>\n",
       "      <th>energyLabel</th>\n",
       "      <th>nextOpenHouse</th>\n",
       "      <th>basementArea</th>\n",
       "      <th>cooperative</th>\n",
       "      <th>secondaryAddressType</th>\n",
       "    </tr>\n",
       "  </thead>\n",
       "  <tbody>\n",
       "    <tr>\n",
       "      <th>0</th>\n",
       "      <td>{'self': {'href': '/cases/aa6b760e-4574-408e-a...</td>\n",
       "      <td>{'_links': {'self': {'href': '/addresses/939a8...</td>\n",
       "      <td>full year plot</td>\n",
       "      <td>aa6b760e-4574-408e-a53e-c3ee1dfaefab</td>\n",
       "      <td>http://www.nybolig.dk/maegler/pages/property-p...</td>\n",
       "      <td>{'lat': 55.543777, 'lon': 9.766696, 'type': 'E...</td>\n",
       "      <td>0</td>\n",
       "      <td>{'imageSources': [{'size': {'height': 80, 'wid...</td>\n",
       "      <td>Sjældent udbudt strandparcel med et grundareal...</td>\n",
       "      <td>Strandparcel med unik beliggenhed</td>\n",
       "      <td>...</td>\n",
       "      <td>NaN</td>\n",
       "      <td>NaN</td>\n",
       "      <td>NaN</td>\n",
       "      <td>NaN</td>\n",
       "      <td>NaN</td>\n",
       "      <td>NaN</td>\n",
       "      <td>NaN</td>\n",
       "      <td>NaN</td>\n",
       "      <td>NaN</td>\n",
       "      <td>NaN</td>\n",
       "    </tr>\n",
       "    <tr>\n",
       "      <th>1</th>\n",
       "      <td>{'self': {'href': '/cases/e5e8f78c-15b5-4229-8...</td>\n",
       "      <td>{'_links': {'self': {'href': '/addresses/0a3f5...</td>\n",
       "      <td>holiday house</td>\n",
       "      <td>e5e8f78c-15b5-4229-8df6-3d7db4ae9339</td>\n",
       "      <td>https://www.mikkelsentoftlund.dk/redirect/?cas...</td>\n",
       "      <td>{'lat': 55.197132, 'lon': 9.60336, 'type': 'EP...</td>\n",
       "      <td>0</td>\n",
       "      <td>{'imageSources': [{'size': {'height': 80, 'wid...</td>\n",
       "      <td>Nyrenoveret sommerhus med skøn beliggenhed ved...</td>\n",
       "      <td>Nyrenoveret sommerhus med skøn beliggenhed ved...</td>\n",
       "      <td>...</td>\n",
       "      <td>67.0</td>\n",
       "      <td>1.0</td>\n",
       "      <td>3.0</td>\n",
       "      <td>68.60</td>\n",
       "      <td>1965.0</td>\n",
       "      <td>NaN</td>\n",
       "      <td>NaN</td>\n",
       "      <td>NaN</td>\n",
       "      <td>NaN</td>\n",
       "      <td>NaN</td>\n",
       "    </tr>\n",
       "    <tr>\n",
       "      <th>2</th>\n",
       "      <td>{'self': {'href': '/cases/a5d68299-327c-4d66-8...</td>\n",
       "      <td>{'_links': {'self': {'href': '/addresses/0a3f5...</td>\n",
       "      <td>villa</td>\n",
       "      <td>a5d68299-327c-4d66-82bf-d6881506dd00</td>\n",
       "      <td>https://www.maegleren.dk/sag.aspx?mgl=2563&amp;sag...</td>\n",
       "      <td>{'lat': 56.833515, 'lon': 9.288974, 'type': 'E...</td>\n",
       "      <td>0</td>\n",
       "      <td>{'imageSources': [{'size': {'height': 80, 'wid...</td>\n",
       "      <td>Du får god plads både indenfor og ude, når det...</td>\n",
       "      <td>Rummelig ejendom og stor have i Hyllebjerg</td>\n",
       "      <td>...</td>\n",
       "      <td>203.0</td>\n",
       "      <td>2.0</td>\n",
       "      <td>7.0</td>\n",
       "      <td>203.45</td>\n",
       "      <td>1973.0</td>\n",
       "      <td>d</td>\n",
       "      <td>{'date': '2022-08-20T08:00:00Z', 'duration': 1...</td>\n",
       "      <td>NaN</td>\n",
       "      <td>NaN</td>\n",
       "      <td>NaN</td>\n",
       "    </tr>\n",
       "    <tr>\n",
       "      <th>3</th>\n",
       "      <td>{'self': {'href': '/cases/355112ff-af08-41ff-9...</td>\n",
       "      <td>{'_links': {'self': {'href': '/addresses/0a3f5...</td>\n",
       "      <td>holiday house</td>\n",
       "      <td>355112ff-af08-41ff-9047-2b9f588b99f2</td>\n",
       "      <td>http://www.nybolig.dk/maegler/pages/property-p...</td>\n",
       "      <td>{'lat': 55.866306, 'lon': 8.176336, 'type': 'E...</td>\n",
       "      <td>0</td>\n",
       "      <td>{'imageSources': [{'size': {'height': 80, 'wid...</td>\n",
       "      <td>EJENDOMSBESKRIVELSE:\\nINDEHOLDER:\\nUDLEJNING:\\n</td>\n",
       "      <td>NaN</td>\n",
       "      <td>...</td>\n",
       "      <td>78.0</td>\n",
       "      <td>1.0</td>\n",
       "      <td>4.0</td>\n",
       "      <td>81.20</td>\n",
       "      <td>1992.0</td>\n",
       "      <td>NaN</td>\n",
       "      <td>NaN</td>\n",
       "      <td>NaN</td>\n",
       "      <td>NaN</td>\n",
       "      <td>NaN</td>\n",
       "    </tr>\n",
       "    <tr>\n",
       "      <th>4</th>\n",
       "      <td>{'self': {'href': '/cases/d2ea0106-81e1-42e6-9...</td>\n",
       "      <td>{'_links': {'self': {'href': '/addresses/0a3f5...</td>\n",
       "      <td>villa</td>\n",
       "      <td>d2ea0106-81e1-42e6-9d22-1868e0fbefae</td>\n",
       "      <td>https://www.danbolig.dk?propertyid=2910000159&amp;...</td>\n",
       "      <td>{'lat': 55.333633, 'lon': 12.050508, 'type': '...</td>\n",
       "      <td>0</td>\n",
       "      <td>{'imageSources': [{'size': {'height': 80, 'wid...</td>\n",
       "      <td>Det er kombinationen mellem det naturskønne og...</td>\n",
       "      <td>Villa med naturskøn beliggenhed med kort afsta...</td>\n",
       "      <td>...</td>\n",
       "      <td>152.0</td>\n",
       "      <td>1.0</td>\n",
       "      <td>5.0</td>\n",
       "      <td>159.30</td>\n",
       "      <td>1920.0</td>\n",
       "      <td>d</td>\n",
       "      <td>NaN</td>\n",
       "      <td>NaN</td>\n",
       "      <td>NaN</td>\n",
       "      <td>NaN</td>\n",
       "    </tr>\n",
       "  </tbody>\n",
       "</table>\n",
       "<p>5 rows × 36 columns</p>\n",
       "</div>"
      ],
      "text/plain": [
       "                                              _links  \\\n",
       "0  {'self': {'href': '/cases/aa6b760e-4574-408e-a...   \n",
       "1  {'self': {'href': '/cases/e5e8f78c-15b5-4229-8...   \n",
       "2  {'self': {'href': '/cases/a5d68299-327c-4d66-8...   \n",
       "3  {'self': {'href': '/cases/355112ff-af08-41ff-9...   \n",
       "4  {'self': {'href': '/cases/d2ea0106-81e1-42e6-9...   \n",
       "\n",
       "                                             address     addressType  \\\n",
       "0  {'_links': {'self': {'href': '/addresses/939a8...  full year plot   \n",
       "1  {'_links': {'self': {'href': '/addresses/0a3f5...   holiday house   \n",
       "2  {'_links': {'self': {'href': '/addresses/0a3f5...           villa   \n",
       "3  {'_links': {'self': {'href': '/addresses/0a3f5...   holiday house   \n",
       "4  {'_links': {'self': {'href': '/addresses/0a3f5...           villa   \n",
       "\n",
       "                                 caseID  \\\n",
       "0  aa6b760e-4574-408e-a53e-c3ee1dfaefab   \n",
       "1  e5e8f78c-15b5-4229-8df6-3d7db4ae9339   \n",
       "2  a5d68299-327c-4d66-82bf-d6881506dd00   \n",
       "3  355112ff-af08-41ff-9047-2b9f588b99f2   \n",
       "4  d2ea0106-81e1-42e6-9d22-1868e0fbefae   \n",
       "\n",
       "                                             caseUrl  \\\n",
       "0  http://www.nybolig.dk/maegler/pages/property-p...   \n",
       "1  https://www.mikkelsentoftlund.dk/redirect/?cas...   \n",
       "2  https://www.maegleren.dk/sag.aspx?mgl=2563&sag...   \n",
       "3  http://www.nybolig.dk/maegler/pages/property-p...   \n",
       "4  https://www.danbolig.dk?propertyid=2910000159&...   \n",
       "\n",
       "                                         coordinates  daysOnMarket  \\\n",
       "0  {'lat': 55.543777, 'lon': 9.766696, 'type': 'E...             0   \n",
       "1  {'lat': 55.197132, 'lon': 9.60336, 'type': 'EP...             0   \n",
       "2  {'lat': 56.833515, 'lon': 9.288974, 'type': 'E...             0   \n",
       "3  {'lat': 55.866306, 'lon': 8.176336, 'type': 'E...             0   \n",
       "4  {'lat': 55.333633, 'lon': 12.050508, 'type': '...             0   \n",
       "\n",
       "                                        defaultImage  \\\n",
       "0  {'imageSources': [{'size': {'height': 80, 'wid...   \n",
       "1  {'imageSources': [{'size': {'height': 80, 'wid...   \n",
       "2  {'imageSources': [{'size': {'height': 80, 'wid...   \n",
       "3  {'imageSources': [{'size': {'height': 80, 'wid...   \n",
       "4  {'imageSources': [{'size': {'height': 80, 'wid...   \n",
       "\n",
       "                                     descriptionBody  \\\n",
       "0  Sjældent udbudt strandparcel med et grundareal...   \n",
       "1  Nyrenoveret sommerhus med skøn beliggenhed ved...   \n",
       "2  Du får god plads både indenfor og ude, når det...   \n",
       "3    EJENDOMSBESKRIVELSE:\\nINDEHOLDER:\\nUDLEJNING:\\n   \n",
       "4  Det er kombinationen mellem det naturskønne og...   \n",
       "\n",
       "                                    descriptionTitle  ... housingArea  \\\n",
       "0                  Strandparcel med unik beliggenhed  ...         NaN   \n",
       "1  Nyrenoveret sommerhus med skøn beliggenhed ved...  ...        67.0   \n",
       "2         Rummelig ejendom og stor have i Hyllebjerg  ...       203.0   \n",
       "3                                                NaN  ...        78.0   \n",
       "4  Villa med naturskøn beliggenhed med kort afsta...  ...       152.0   \n",
       "\n",
       "   numberOfFloors numberOfRooms  weightedArea  yearBuilt  energyLabel  \\\n",
       "0             NaN           NaN           NaN        NaN          NaN   \n",
       "1             1.0           3.0         68.60     1965.0          NaN   \n",
       "2             2.0           7.0        203.45     1973.0            d   \n",
       "3             1.0           4.0         81.20     1992.0          NaN   \n",
       "4             1.0           5.0        159.30     1920.0            d   \n",
       "\n",
       "                                       nextOpenHouse  basementArea  \\\n",
       "0                                                NaN           NaN   \n",
       "1                                                NaN           NaN   \n",
       "2  {'date': '2022-08-20T08:00:00Z', 'duration': 1...           NaN   \n",
       "3                                                NaN           NaN   \n",
       "4                                                NaN           NaN   \n",
       "\n",
       "   cooperative secondaryAddressType  \n",
       "0          NaN                  NaN  \n",
       "1          NaN                  NaN  \n",
       "2          NaN                  NaN  \n",
       "3          NaN                  NaN  \n",
       "4          NaN                  NaN  \n",
       "\n",
       "[5 rows x 36 columns]"
      ]
     },
     "execution_count": 25,
     "metadata": {},
     "output_type": "execute_result"
    }
   ],
   "source": [
    "data.head()"
   ]
  },
  {
   "cell_type": "code",
   "execution_count": 26,
   "id": "70a59506",
   "metadata": {},
   "outputs": [],
   "source": [
    "data.drop('_links', axis=1, inplace=True)\n",
    "\n",
    "data.drop('caseID', axis=1, inplace=True)\n",
    "\n",
    "data.drop('defaultImage', axis=1, inplace=True)\n",
    "\n",
    "data.drop('images', axis=1, inplace=True)\n",
    "\n",
    "data.drop('totalFavourites', axis=1, inplace=True)\n",
    "\n",
    "data.drop('weightedArea', axis=1, inplace=True)\n",
    "\n",
    "data.drop('distinction', axis=1, inplace=True)\n",
    "\n",
    "data.drop('pageViews', axis=1, inplace=True)\n",
    "\n",
    "data.drop('highlighted', axis=1, inplace=True)\n",
    "\n",
    "data.drop('totalClickCount', axis=1, inplace=True)\n",
    "\n",
    "data.drop('nextOpenHouse', axis=1, inplace=True)\n",
    "\n",
    "data.drop('providerCaseID', axis=1, inplace=True)\n",
    "\n",
    "data.drop('secondaryAddressType', axis=1, inplace=True)\n",
    "\n",
    "data.drop('descriptionBody', axis=1, inplace=True)\n",
    "\n",
    "data.drop('descriptionTitle', axis=1, inplace=True)\n",
    "\n",
    "data.drop('slug', axis=1, inplace=True)\n",
    "\n",
    "data.drop('status', axis=1, inplace=True)\n",
    "\n",
    "data.drop('realtor', axis=1, inplace=True)\n",
    "\n",
    "data.drop('cooperative', axis=1, inplace=True)\n",
    "\n",
    "data.drop('daysOnMarket', axis=1, inplace=True)"
   ]
  },
  {
   "cell_type": "code",
   "execution_count": 27,
   "id": "e40ce846",
   "metadata": {},
   "outputs": [],
   "source": [
    "# extracting information on number of buildings from the \"address\" variable\n",
    "list_numBuildings = []\n",
    "for i in range(0,len(data),1):\n",
    "    try:\n",
    "        list_numBuildings.append(len(data[\"address\"][i][\"buildings\"]))\n",
    "    except:\n",
    "        list_numBuildings.append(0)\n",
    "\n",
    "data[\"numberOfBuildings\"] = list_numBuildings"
   ]
  },
  {
   "cell_type": "code",
   "execution_count": 28,
   "id": "8e55c126",
   "metadata": {},
   "outputs": [
    {
     "name": "stderr",
     "output_type": "stream",
     "text": [
      "C:\\Users\\MZB\\AppData\\Local\\Temp\\ipykernel_7276\\308494572.py:4: SettingWithCopyWarning: \n",
      "A value is trying to be set on a copy of a slice from a DataFrame\n",
      "\n",
      "See the caveats in the documentation: https://pandas.pydata.org/pandas-docs/stable/user_guide/indexing.html#returning-a-view-versus-a-copy\n",
      "  data[\"numberOfBuildings\"].iloc[i] = 1\n"
     ]
    }
   ],
   "source": [
    "# if number of buildings is 0, it gets set to 1, so that e.g. 1 appartment counts as 1 building\n",
    "for i in range(0,len(data),1):\n",
    "    if (data[\"numberOfBuildings\"].iloc[i] == 0):\n",
    "        data[\"numberOfBuildings\"].iloc[i] = 1"
   ]
  },
  {
   "cell_type": "code",
   "execution_count": 29,
   "id": "0305a0f7",
   "metadata": {},
   "outputs": [],
   "source": [
    "# Extracting Zip Code and Municipality Information from the Address Variable\n",
    "\n",
    "data[\"zipCode\"] = [data.address[i][\"zipCode\"] for i in range(0,len(data),1)]\n",
    "\n",
    "data[\"municipality\"] = [data[\"address\"][i][\"municipality\"] for i in range(0,len(data),1)]\n",
    "\n",
    "data[\"municipalityCode\"] = [data[\"municipality\"][i][\"municipalityCode\"] for i in range(0,len(data),1)]\n",
    "\n",
    "data[\"municipality\"] = [data[\"municipality\"][i][\"name\"] for i in range(0,len(data),1)]\n",
    "\n"
   ]
  },
  {
   "cell_type": "code",
   "execution_count": 30,
   "id": "b0042819",
   "metadata": {},
   "outputs": [],
   "source": [
    "# for easy handling of the coordinates: two columns instead of one\n",
    "data[\"latitude\"] = [data[\"coordinates\"][i][\"lat\"] for i in range(0,len(data),1)]\n",
    "data[\"longitude\"] = [data[\"coordinates\"][i][\"lon\"] for i in range(0,len(data),1)]"
   ]
  },
  {
   "cell_type": "code",
   "execution_count": 31,
   "id": "734db49d",
   "metadata": {},
   "outputs": [],
   "source": [
    "data.drop('coordinates', axis=1, inplace=True)"
   ]
  },
  {
   "cell_type": "code",
   "execution_count": 32,
   "id": "49259b48",
   "metadata": {},
   "outputs": [],
   "source": [
    "data.drop('address', axis=1, inplace=True)"
   ]
  },
  {
   "cell_type": "code",
   "execution_count": 33,
   "id": "4d6fd3d4",
   "metadata": {},
   "outputs": [],
   "source": [
    "data.drop('realEstate', axis=1, inplace=True)"
   ]
  },
  {
   "cell_type": "markdown",
   "id": "740cf2cf",
   "metadata": {},
   "source": [
    "### Basement and Lot\n",
    "New indicator variables for Basement and Lot, that indicate whether or not there is any basement or any lot included in the real estate unit \n",
    "\n",
    "Nan are replaced with 0 based on the assumption that if the real estate agency does not report any basement/lot, then there is none."
   ]
  },
  {
   "cell_type": "code",
   "execution_count": 34,
   "id": "88e079ee",
   "metadata": {},
   "outputs": [],
   "source": [
    "basement_list = []\n",
    "for i in range(0,len(data),1):\n",
    "    if (data[\"basementArea\"][i] > 0):\n",
    "        basement_list.append(1)\n",
    "    else:\n",
    "        basement_list.append(0)\n",
    "data[\"basement\"] = basement_list"
   ]
  },
  {
   "cell_type": "code",
   "execution_count": 35,
   "id": "05894779",
   "metadata": {},
   "outputs": [],
   "source": [
    "basement_list = []\n",
    "for i in range(0,len(data),1):\n",
    "    if (data[\"basementArea\"][i] > 0):\n",
    "        basement_list.append(data[\"basementArea\"][i])\n",
    "    else:\n",
    "        basement_list.append(0)\n",
    "data[\"basementArea\"] = basement_list"
   ]
  },
  {
   "cell_type": "code",
   "execution_count": 36,
   "id": "fa8aa25e",
   "metadata": {},
   "outputs": [],
   "source": [
    "lot_list = []\n",
    "for i in range(0,len(data),1):\n",
    "    if (data[\"lotArea\"][i] > 0):\n",
    "        lot_list.append(1)\n",
    "    else:\n",
    "        lot_list.append(0)\n",
    "data[\"lot\"] = lot_list"
   ]
  },
  {
   "cell_type": "code",
   "execution_count": 37,
   "id": "c1c674b6",
   "metadata": {},
   "outputs": [],
   "source": [
    "lot_list = []\n",
    "for i in range(0,len(data),1):\n",
    "    if (data[\"lotArea\"][i] > 0):\n",
    "        lot_list.append(data[\"lotArea\"][i])\n",
    "    else:\n",
    "        lot_list.append(0)\n",
    "data[\"lotArea\"] = lot_list"
   ]
  },
  {
   "cell_type": "code",
   "execution_count": 38,
   "id": "4beef886",
   "metadata": {},
   "outputs": [
    {
     "data": {
      "text/plain": [
       "Index(['addressType', 'caseUrl', 'daysOnMarket', 'lotArea', 'monthlyExpense',\n",
       "       'perAreaPrice', 'priceCash', 'priceChangePercentage', 'housingArea',\n",
       "       'numberOfFloors', 'numberOfRooms', 'yearBuilt', 'energyLabel',\n",
       "       'basementArea', 'numberOfBuildings', 'zipCode', 'municipality',\n",
       "       'municipalityCode', 'latitude', 'longitude', 'basement', 'lot'],\n",
       "      dtype='object')"
      ]
     },
     "execution_count": 38,
     "metadata": {},
     "output_type": "execute_result"
    }
   ],
   "source": [
    "data.columns"
   ]
  },
  {
   "cell_type": "code",
   "execution_count": 39,
   "id": "784469eb",
   "metadata": {},
   "outputs": [
    {
     "data": {
      "text/plain": [
       "array(['full year plot', 'holiday house', 'villa', 'terraced house',\n",
       "       'condo', 'cooperative', 'hobby farm', 'farm', 'villa apartment',\n",
       "       'holiday plot'], dtype=object)"
      ]
     },
     "execution_count": 39,
     "metadata": {},
     "output_type": "execute_result"
    }
   ],
   "source": [
    "data.addressType.unique()"
   ]
  },
  {
   "cell_type": "markdown",
   "id": "1ae4a15f",
   "metadata": {},
   "source": [
    "### There might be colinearity, for the variables lot, basement (and future indicator variables for addressType)\n",
    "\n",
    "Theory: All units of type villa appartment have no basement and no lot"
   ]
  },
  {
   "cell_type": "markdown",
   "id": "31a3d64d",
   "metadata": {},
   "source": [
    "## Preview\n",
    "Villas and Appartements in Copenhagen"
   ]
  },
  {
   "cell_type": "code",
   "execution_count": 40,
   "id": "1359c481",
   "metadata": {},
   "outputs": [
    {
     "data": {
      "text/html": [
       "<div>\n",
       "<style scoped>\n",
       "    .dataframe tbody tr th:only-of-type {\n",
       "        vertical-align: middle;\n",
       "    }\n",
       "\n",
       "    .dataframe tbody tr th {\n",
       "        vertical-align: top;\n",
       "    }\n",
       "\n",
       "    .dataframe thead th {\n",
       "        text-align: right;\n",
       "    }\n",
       "</style>\n",
       "<table border=\"1\" class=\"dataframe\">\n",
       "  <thead>\n",
       "    <tr style=\"text-align: right;\">\n",
       "      <th></th>\n",
       "      <th>addressType</th>\n",
       "      <th>caseUrl</th>\n",
       "      <th>daysOnMarket</th>\n",
       "      <th>lotArea</th>\n",
       "      <th>monthlyExpense</th>\n",
       "      <th>perAreaPrice</th>\n",
       "      <th>priceCash</th>\n",
       "      <th>priceChangePercentage</th>\n",
       "      <th>housingArea</th>\n",
       "      <th>numberOfFloors</th>\n",
       "      <th>...</th>\n",
       "      <th>energyLabel</th>\n",
       "      <th>basementArea</th>\n",
       "      <th>numberOfBuildings</th>\n",
       "      <th>zipCode</th>\n",
       "      <th>municipality</th>\n",
       "      <th>municipalityCode</th>\n",
       "      <th>latitude</th>\n",
       "      <th>longitude</th>\n",
       "      <th>basement</th>\n",
       "      <th>lot</th>\n",
       "    </tr>\n",
       "  </thead>\n",
       "  <tbody>\n",
       "    <tr>\n",
       "      <th>17</th>\n",
       "      <td>villa</td>\n",
       "      <td>https://www.edc.dk/sag/?sagsnr=21605987</td>\n",
       "      <td>0</td>\n",
       "      <td>789.0</td>\n",
       "      <td>7257</td>\n",
       "      <td>45552.0</td>\n",
       "      <td>8245000</td>\n",
       "      <td>0.00</td>\n",
       "      <td>161.0</td>\n",
       "      <td>2.0</td>\n",
       "      <td>...</td>\n",
       "      <td>e</td>\n",
       "      <td>50.0</td>\n",
       "      <td>1</td>\n",
       "      <td>2500</td>\n",
       "      <td>København</td>\n",
       "      <td>101</td>\n",
       "      <td>55.666798</td>\n",
       "      <td>12.481844</td>\n",
       "      <td>1</td>\n",
       "      <td>1</td>\n",
       "    </tr>\n",
       "    <tr>\n",
       "      <th>47</th>\n",
       "      <td>villa</td>\n",
       "      <td>http://www.estate-maeglerne.dk/maegler/pages/p...</td>\n",
       "      <td>0</td>\n",
       "      <td>920.0</td>\n",
       "      <td>7714</td>\n",
       "      <td>77357.0</td>\n",
       "      <td>18500000</td>\n",
       "      <td>0.00</td>\n",
       "      <td>200.0</td>\n",
       "      <td>2.0</td>\n",
       "      <td>...</td>\n",
       "      <td>d</td>\n",
       "      <td>76.0</td>\n",
       "      <td>2</td>\n",
       "      <td>2900</td>\n",
       "      <td>København</td>\n",
       "      <td>101</td>\n",
       "      <td>55.726242</td>\n",
       "      <td>12.570444</td>\n",
       "      <td>1</td>\n",
       "      <td>1</td>\n",
       "    </tr>\n",
       "    <tr>\n",
       "      <th>85</th>\n",
       "      <td>villa</td>\n",
       "      <td>https://www.realmaeglerne.dk/301-redirect/?mgl...</td>\n",
       "      <td>1</td>\n",
       "      <td>706.0</td>\n",
       "      <td>8160</td>\n",
       "      <td>73390.0</td>\n",
       "      <td>7750000</td>\n",
       "      <td>0.00</td>\n",
       "      <td>100.0</td>\n",
       "      <td>3.0</td>\n",
       "      <td>...</td>\n",
       "      <td>c</td>\n",
       "      <td>60.0</td>\n",
       "      <td>1</td>\n",
       "      <td>2720</td>\n",
       "      <td>København</td>\n",
       "      <td>101</td>\n",
       "      <td>55.687584</td>\n",
       "      <td>12.472415</td>\n",
       "      <td>1</td>\n",
       "      <td>1</td>\n",
       "    </tr>\n",
       "    <tr>\n",
       "      <th>160</th>\n",
       "      <td>villa</td>\n",
       "      <td>https://www.danbolig.dk?propertyid=0630000153&amp;...</td>\n",
       "      <td>1</td>\n",
       "      <td>560.0</td>\n",
       "      <td>5973</td>\n",
       "      <td>46025.0</td>\n",
       "      <td>6195000</td>\n",
       "      <td>0.00</td>\n",
       "      <td>99.0</td>\n",
       "      <td>1.0</td>\n",
       "      <td>...</td>\n",
       "      <td>d</td>\n",
       "      <td>79.0</td>\n",
       "      <td>2</td>\n",
       "      <td>2700</td>\n",
       "      <td>København</td>\n",
       "      <td>101</td>\n",
       "      <td>55.700020</td>\n",
       "      <td>12.492958</td>\n",
       "      <td>1</td>\n",
       "      <td>1</td>\n",
       "    </tr>\n",
       "    <tr>\n",
       "      <th>457</th>\n",
       "      <td>villa</td>\n",
       "      <td>https://www.realmaeglerne.dk/301-redirect/?mgl...</td>\n",
       "      <td>2</td>\n",
       "      <td>521.0</td>\n",
       "      <td>5604</td>\n",
       "      <td>71043.0</td>\n",
       "      <td>7495000</td>\n",
       "      <td>0.00</td>\n",
       "      <td>105.0</td>\n",
       "      <td>2.0</td>\n",
       "      <td>...</td>\n",
       "      <td>d</td>\n",
       "      <td>0.0</td>\n",
       "      <td>3</td>\n",
       "      <td>2300</td>\n",
       "      <td>København</td>\n",
       "      <td>101</td>\n",
       "      <td>55.659930</td>\n",
       "      <td>12.624182</td>\n",
       "      <td>0</td>\n",
       "      <td>1</td>\n",
       "    </tr>\n",
       "    <tr>\n",
       "      <th>...</th>\n",
       "      <td>...</td>\n",
       "      <td>...</td>\n",
       "      <td>...</td>\n",
       "      <td>...</td>\n",
       "      <td>...</td>\n",
       "      <td>...</td>\n",
       "      <td>...</td>\n",
       "      <td>...</td>\n",
       "      <td>...</td>\n",
       "      <td>...</td>\n",
       "      <td>...</td>\n",
       "      <td>...</td>\n",
       "      <td>...</td>\n",
       "      <td>...</td>\n",
       "      <td>...</td>\n",
       "      <td>...</td>\n",
       "      <td>...</td>\n",
       "      <td>...</td>\n",
       "      <td>...</td>\n",
       "      <td>...</td>\n",
       "      <td>...</td>\n",
       "    </tr>\n",
       "    <tr>\n",
       "      <th>9945</th>\n",
       "      <td>villa</td>\n",
       "      <td>https://www.lokalbolig.dk/?sag=10-X0001916</td>\n",
       "      <td>46</td>\n",
       "      <td>660.0</td>\n",
       "      <td>4925</td>\n",
       "      <td>64808.0</td>\n",
       "      <td>7495000</td>\n",
       "      <td>-3.23</td>\n",
       "      <td>126.0</td>\n",
       "      <td>2.0</td>\n",
       "      <td>...</td>\n",
       "      <td>c</td>\n",
       "      <td>0.0</td>\n",
       "      <td>4</td>\n",
       "      <td>2300</td>\n",
       "      <td>København</td>\n",
       "      <td>101</td>\n",
       "      <td>55.635986</td>\n",
       "      <td>12.591431</td>\n",
       "      <td>0</td>\n",
       "      <td>1</td>\n",
       "    </tr>\n",
       "    <tr>\n",
       "      <th>9973</th>\n",
       "      <td>villa apartment</td>\n",
       "      <td>http://www.nybolig.dk/maegler/pages/property-p...</td>\n",
       "      <td>46</td>\n",
       "      <td>629.0</td>\n",
       "      <td>2476</td>\n",
       "      <td>36894.0</td>\n",
       "      <td>3195000</td>\n",
       "      <td>-1.69</td>\n",
       "      <td>71.0</td>\n",
       "      <td>1.0</td>\n",
       "      <td>...</td>\n",
       "      <td>b</td>\n",
       "      <td>0.0</td>\n",
       "      <td>1</td>\n",
       "      <td>2500</td>\n",
       "      <td>København</td>\n",
       "      <td>101</td>\n",
       "      <td>55.659294</td>\n",
       "      <td>12.489357</td>\n",
       "      <td>0</td>\n",
       "      <td>1</td>\n",
       "    </tr>\n",
       "    <tr>\n",
       "      <th>9977</th>\n",
       "      <td>villa</td>\n",
       "      <td>https://home.dk/sag/1450001450</td>\n",
       "      <td>46</td>\n",
       "      <td>696.0</td>\n",
       "      <td>6111</td>\n",
       "      <td>52530.0</td>\n",
       "      <td>9198000</td>\n",
       "      <td>-4.68</td>\n",
       "      <td>155.0</td>\n",
       "      <td>2.0</td>\n",
       "      <td>...</td>\n",
       "      <td>d</td>\n",
       "      <td>45.0</td>\n",
       "      <td>2</td>\n",
       "      <td>2300</td>\n",
       "      <td>København</td>\n",
       "      <td>101</td>\n",
       "      <td>55.647022</td>\n",
       "      <td>12.620357</td>\n",
       "      <td>1</td>\n",
       "      <td>1</td>\n",
       "    </tr>\n",
       "    <tr>\n",
       "      <th>9981</th>\n",
       "      <td>villa</td>\n",
       "      <td>https://www.danbolig.dk?propertyid=0630000095&amp;...</td>\n",
       "      <td>46</td>\n",
       "      <td>758.0</td>\n",
       "      <td>6441</td>\n",
       "      <td>41992.0</td>\n",
       "      <td>8495000</td>\n",
       "      <td>0.00</td>\n",
       "      <td>183.0</td>\n",
       "      <td>3.0</td>\n",
       "      <td>...</td>\n",
       "      <td>c</td>\n",
       "      <td>64.0</td>\n",
       "      <td>2</td>\n",
       "      <td>2700</td>\n",
       "      <td>København</td>\n",
       "      <td>101</td>\n",
       "      <td>55.708570</td>\n",
       "      <td>12.458824</td>\n",
       "      <td>1</td>\n",
       "      <td>1</td>\n",
       "    </tr>\n",
       "    <tr>\n",
       "      <th>9994</th>\n",
       "      <td>villa</td>\n",
       "      <td>http://www.estate-maeglerne.dk/maegler/pages/p...</td>\n",
       "      <td>46</td>\n",
       "      <td>626.0</td>\n",
       "      <td>6028</td>\n",
       "      <td>51179.0</td>\n",
       "      <td>8250000</td>\n",
       "      <td>0.00</td>\n",
       "      <td>187.0</td>\n",
       "      <td>3.0</td>\n",
       "      <td>...</td>\n",
       "      <td>e</td>\n",
       "      <td>93.0</td>\n",
       "      <td>2</td>\n",
       "      <td>2700</td>\n",
       "      <td>København</td>\n",
       "      <td>101</td>\n",
       "      <td>55.708690</td>\n",
       "      <td>12.463124</td>\n",
       "      <td>1</td>\n",
       "      <td>1</td>\n",
       "    </tr>\n",
       "  </tbody>\n",
       "</table>\n",
       "<p>103 rows × 22 columns</p>\n",
       "</div>"
      ],
      "text/plain": [
       "          addressType                                            caseUrl  \\\n",
       "17              villa            https://www.edc.dk/sag/?sagsnr=21605987   \n",
       "47              villa  http://www.estate-maeglerne.dk/maegler/pages/p...   \n",
       "85              villa  https://www.realmaeglerne.dk/301-redirect/?mgl...   \n",
       "160             villa  https://www.danbolig.dk?propertyid=0630000153&...   \n",
       "457             villa  https://www.realmaeglerne.dk/301-redirect/?mgl...   \n",
       "...               ...                                                ...   \n",
       "9945            villa         https://www.lokalbolig.dk/?sag=10-X0001916   \n",
       "9973  villa apartment  http://www.nybolig.dk/maegler/pages/property-p...   \n",
       "9977            villa                     https://home.dk/sag/1450001450   \n",
       "9981            villa  https://www.danbolig.dk?propertyid=0630000095&...   \n",
       "9994            villa  http://www.estate-maeglerne.dk/maegler/pages/p...   \n",
       "\n",
       "      daysOnMarket  lotArea  monthlyExpense  perAreaPrice  priceCash  \\\n",
       "17               0    789.0            7257       45552.0    8245000   \n",
       "47               0    920.0            7714       77357.0   18500000   \n",
       "85               1    706.0            8160       73390.0    7750000   \n",
       "160              1    560.0            5973       46025.0    6195000   \n",
       "457              2    521.0            5604       71043.0    7495000   \n",
       "...            ...      ...             ...           ...        ...   \n",
       "9945            46    660.0            4925       64808.0    7495000   \n",
       "9973            46    629.0            2476       36894.0    3195000   \n",
       "9977            46    696.0            6111       52530.0    9198000   \n",
       "9981            46    758.0            6441       41992.0    8495000   \n",
       "9994            46    626.0            6028       51179.0    8250000   \n",
       "\n",
       "      priceChangePercentage  housingArea  numberOfFloors  ...  energyLabel  \\\n",
       "17                     0.00        161.0             2.0  ...            e   \n",
       "47                     0.00        200.0             2.0  ...            d   \n",
       "85                     0.00        100.0             3.0  ...            c   \n",
       "160                    0.00         99.0             1.0  ...            d   \n",
       "457                    0.00        105.0             2.0  ...            d   \n",
       "...                     ...          ...             ...  ...          ...   \n",
       "9945                  -3.23        126.0             2.0  ...            c   \n",
       "9973                  -1.69         71.0             1.0  ...            b   \n",
       "9977                  -4.68        155.0             2.0  ...            d   \n",
       "9981                   0.00        183.0             3.0  ...            c   \n",
       "9994                   0.00        187.0             3.0  ...            e   \n",
       "\n",
       "      basementArea numberOfBuildings  zipCode  municipality  municipalityCode  \\\n",
       "17            50.0                 1     2500     København               101   \n",
       "47            76.0                 2     2900     København               101   \n",
       "85            60.0                 1     2720     København               101   \n",
       "160           79.0                 2     2700     København               101   \n",
       "457            0.0                 3     2300     København               101   \n",
       "...            ...               ...      ...           ...               ...   \n",
       "9945           0.0                 4     2300     København               101   \n",
       "9973           0.0                 1     2500     København               101   \n",
       "9977          45.0                 2     2300     København               101   \n",
       "9981          64.0                 2     2700     København               101   \n",
       "9994          93.0                 2     2700     København               101   \n",
       "\n",
       "       latitude  longitude  basement  lot  \n",
       "17    55.666798  12.481844         1    1  \n",
       "47    55.726242  12.570444         1    1  \n",
       "85    55.687584  12.472415         1    1  \n",
       "160   55.700020  12.492958         1    1  \n",
       "457   55.659930  12.624182         0    1  \n",
       "...         ...        ...       ...  ...  \n",
       "9945  55.635986  12.591431         0    1  \n",
       "9973  55.659294  12.489357         0    1  \n",
       "9977  55.647022  12.620357         1    1  \n",
       "9981  55.708570  12.458824         1    1  \n",
       "9994  55.708690  12.463124         1    1  \n",
       "\n",
       "[103 rows x 22 columns]"
      ]
     },
     "execution_count": 40,
     "metadata": {},
     "output_type": "execute_result"
    }
   ],
   "source": [
    "data[((data[\"addressType\"] == \"villa\") | (data[\"addressType\"] == \"villa apartment\")) & (data[\"municipality\"] == \"København\") ]"
   ]
  },
  {
   "cell_type": "code",
   "execution_count": 41,
   "id": "5a16b895",
   "metadata": {},
   "outputs": [
    {
     "data": {
      "text/plain": [
       "Index(['addressType', 'caseUrl', 'daysOnMarket', 'lotArea', 'monthlyExpense',\n",
       "       'perAreaPrice', 'priceCash', 'priceChangePercentage', 'housingArea',\n",
       "       'numberOfFloors', 'numberOfRooms', 'yearBuilt', 'energyLabel',\n",
       "       'basementArea', 'numberOfBuildings', 'zipCode', 'municipality',\n",
       "       'municipalityCode', 'latitude', 'longitude', 'basement', 'lot'],\n",
       "      dtype='object')"
      ]
     },
     "execution_count": 41,
     "metadata": {},
     "output_type": "execute_result"
    }
   ],
   "source": [
    "data.columns"
   ]
  },
  {
   "cell_type": "code",
   "execution_count": 42,
   "id": "569169c4",
   "metadata": {},
   "outputs": [
    {
     "data": {
      "text/plain": [
       "46"
      ]
     },
     "execution_count": 42,
     "metadata": {},
     "output_type": "execute_result"
    }
   ],
   "source": [
    "max(data.daysOnMarket)"
   ]
  },
  {
   "cell_type": "code",
   "execution_count": 43,
   "id": "4379dfd7",
   "metadata": {},
   "outputs": [],
   "source": [
    "data.to_csv(\"data/boligsiden_3.csv\")"
   ]
  },
  {
   "cell_type": "code",
   "execution_count": null,
   "id": "cbb23ae2",
   "metadata": {},
   "outputs": [],
   "source": []
  }
 ],
 "metadata": {
  "kernelspec": {
   "display_name": "Python 3 (ipykernel)",
   "language": "python",
   "name": "python3"
  },
  "language_info": {
   "codemirror_mode": {
    "name": "ipython",
    "version": 3
   },
   "file_extension": ".py",
   "mimetype": "text/x-python",
   "name": "python",
   "nbconvert_exporter": "python",
   "pygments_lexer": "ipython3",
   "version": "3.8.13"
  }
 },
 "nbformat": 4,
 "nbformat_minor": 5
}
