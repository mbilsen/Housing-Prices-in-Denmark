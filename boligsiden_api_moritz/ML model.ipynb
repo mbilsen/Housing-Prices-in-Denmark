{
 "cells": [
  {
   "cell_type": "code",
   "execution_count": 397,
   "id": "c4180bb3-e1aa-4937-98ec-adc4e2b2e0ab",
   "metadata": {},
   "outputs": [],
   "source": [
    "import pandas as pd\n",
    "import numpy as np\n",
    "import matplotlib.pyplot as plt\n",
    "from sklearn.preprocessing import PolynomialFeatures"
   ]
  },
  {
   "cell_type": "code",
   "execution_count": 398,
   "id": "1a4257e3-a1f6-47a0-afc2-33f00a38ec78",
   "metadata": {},
   "outputs": [],
   "source": [
    "def removeValue(givenlist, valuelist):\n",
    "    # Traverse the value list\n",
    "    for value in valuelist:\n",
    "       # using while loop to remove all occurrences of given value\n",
    "        while(value in givenlist):\n",
    "            # removing the value using remove()\n",
    "            givenlist.remove(value)\n",
    "           # return the list\n",
    "    return givenlist"
   ]
  },
  {
   "cell_type": "code",
   "execution_count": 402,
   "id": "f00b2d6c-7c28-4cbf-8c62-ab941a6a0471",
   "metadata": {},
   "outputs": [],
   "source": [
    "df = pd.read_csv(\"data/boligsiden_2.csv\")\n",
    "\n",
    "df.drop(\"Unnamed: 0\", axis = 1, inplace = True)\n",
    "\n",
    "df.drop(\"Unnamed: 0.1\", axis = 1, inplace = True)\n",
    "\n",
    "df"
   ]
  },
  {
   "cell_type": "code",
   "execution_count": 408,
   "id": "bded48ef-2715-40a1-bb6b-a87a4aa66f80",
   "metadata": {},
   "outputs": [],
   "source": [
    "drop_list = [\"caseUrl\", \"latitude\", \"longitude\", \"zipCode\", \"municipality\", \"perAreaPrice\", \"priceChangePercentage\"]\n",
    "\n",
    "X = df.drop(drop_list, axis = 1)\n",
    "\n",
    "X.dropna(axis=0, how='any', thresh=None, subset=None, inplace=True)\n",
    "\n",
    "X = X.reset_index(drop=True)\n",
    "\n",
    "#X\n",
    "\n",
    "address_dummies = pd.get_dummies(X[\"addressType\"])\n",
    "energy_dummies = pd.get_dummies(X[\"energyLabel\"])\n",
    "municipality_dummies =  pd.get_dummies(X[\"municipalityCode\"])"
   ]
  },
  {
   "cell_type": "code",
   "execution_count": 409,
   "id": "073c0905-ebd9-46be-8bf3-d1ad4dfe9095",
   "metadata": {},
   "outputs": [],
   "source": [
    "y = X[\"priceCash\"]"
   ]
  },
  {
   "cell_type": "code",
   "execution_count": 410,
   "id": "eb7fbf7d-38ee-43e8-bc30-902591da454f",
   "metadata": {},
   "outputs": [],
   "source": [
    "X = X.drop(\"priceCash\", axis = 1)"
   ]
  },
  {
   "cell_type": "code",
   "execution_count": 414,
   "id": "13f590be-69fe-4ad3-aeb0-570a67896f45",
   "metadata": {},
   "outputs": [],
   "source": [
    "X_variables = X.columns.values.tolist()\n",
    "\n",
    "X_variables = removeValue(X_variables, [\"addressType\", \"energyLabel\", \"municipalityCode\"])\n",
    "\n",
    "X_variables\n",
    "\n",
    "drop_list_2 = [\"addressType\", \"energyLabel\", \"municipalityCode\"]\n",
    "\n",
    "X = X.drop(drop_list_2, axis = 1)"
   ]
  },
  {
   "cell_type": "code",
   "execution_count": 415,
   "id": "c9fb4ade-8e74-4212-a365-c94acff316ee",
   "metadata": {},
   "outputs": [],
   "source": [
    "#X = pd.concat([X, pd.get_dummies(X[\"addressType\"]), pd.get_dummies(X[\"energyLabel\"]), pd.get_dummies(X[\"municipalityCode\"])], axis=1)"
   ]
  },
  {
   "cell_type": "code",
   "execution_count": 416,
   "id": "49847d1e-ea3c-4aed-948b-4e505780fb39",
   "metadata": {},
   "outputs": [
    {
     "data": {
      "text/plain": [
       "array([1], dtype=int64)"
      ]
     },
     "execution_count": 416,
     "metadata": {},
     "output_type": "execute_result"
    }
   ],
   "source": [
    "X.numberOfBuildings.unique()"
   ]
  },
  {
   "cell_type": "code",
   "execution_count": 417,
   "id": "7d581721-b350-4a2c-89dc-f313799fa07c",
   "metadata": {},
   "outputs": [],
   "source": [
    "X = X.drop(\"numberOfBuildings\", axis = 1) # drop number of buildings - those with more than one building (mostly farms) had NAN values for some variables"
   ]
  },
  {
   "cell_type": "markdown",
   "id": "5d06aa8a-a5cf-41fa-b602-7dc04f5946bb",
   "metadata": {},
   "source": [
    "Dataframe X and DataFrames with Dummies\n",
    "\n",
    "X\n",
    "\n",
    "address_dummies\n",
    "\n",
    "energy_dummies\n",
    "\n",
    "municipality_dummies"
   ]
  },
  {
   "cell_type": "code",
   "execution_count": 418,
   "id": "f1f520a2-aeb4-4a71-b02d-f5b9f59443da",
   "metadata": {},
   "outputs": [],
   "source": [
    "X.columns = X.columns.astype(str)\n",
    "address_dummies.columns = address_dummies.columns.astype(str)\n",
    "energy_dummies.columns = energy_dummies.columns.astype(str)\n",
    "municipality_dummies.columns = municipality_dummies.columns.astype(str)"
   ]
  },
  {
   "cell_type": "code",
   "execution_count": 420,
   "id": "a9db7db3-edc7-4b4c-9511-8a2fb4f71ad0",
   "metadata": {},
   "outputs": [],
   "source": [
    "address_dummies[\"basement\"] = X.basement\n",
    "address_dummies[\"lot\"] = X.lot\n",
    "\n",
    "X = X.drop([\"basement\", \"lot\"], axis = 1)"
   ]
  },
  {
   "cell_type": "markdown",
   "id": "cf6583f2-bfb8-4ee7-8b3d-ef78e1d9c5ad",
   "metadata": {
    "tags": []
   },
   "source": [
    "## 1. Only variables regarding the House itself\n",
    "\n",
    "['basementArea',\n",
    " 'housingArea',\n",
    " 'lotArea',\n",
    " 'monthlyExpense',\n",
    " 'numberOfFloors',\n",
    " 'numberOfRooms',\n",
    " 'yearBuilt',\n",
    " 'basement',\n",
    " 'lot']\n",
    " \n",
    " "
   ]
  },
  {
   "cell_type": "code",
   "execution_count": 421,
   "id": "11017361-3ca5-4a56-9350-f2477c64a47f",
   "metadata": {},
   "outputs": [],
   "source": [
    "from sklearn.linear_model import LassoCV\n",
    "from sklearn.model_selection import train_test_split\n",
    "from sklearn.metrics import mean_squared_error as mse\n",
    "from sklearn.pipeline import make_pipeline\n",
    "from sklearn.preprocessing import StandardScaler, PolynomialFeatures"
   ]
  },
  {
   "cell_type": "code",
   "execution_count": 422,
   "id": "35b1e199-6306-4526-9247-f36927e8b348",
   "metadata": {},
   "outputs": [],
   "source": [
    "#X"
   ]
  },
  {
   "cell_type": "code",
   "execution_count": 423,
   "id": "b75ecd56-0f69-45fe-be96-59a17c544ad5",
   "metadata": {},
   "outputs": [],
   "source": [
    "poly = PolynomialFeatures(2, include_bias = False)\n",
    "X_poly_int = poly.fit_transform(X)"
   ]
  },
  {
   "cell_type": "code",
   "execution_count": 424,
   "id": "8bae57cf-6dc2-464f-8654-09dfa353dbf5",
   "metadata": {},
   "outputs": [],
   "source": [
    "X_poly_int = pd.DataFrame(X_poly_int, columns = poly.get_feature_names_out())"
   ]
  },
  {
   "cell_type": "code",
   "execution_count": 425,
   "id": "89c529c4-ddf0-4bb2-8612-a1335912a20f",
   "metadata": {},
   "outputs": [],
   "source": [
    "X_train, X_test, y_train, y_test = train_test_split(X_poly_int, y, test_size=.2, random_state=1)\n",
    "\n",
    "\"\"\"pipe = make_pipeline(#PolynomialFeatures(interaction_only=True),\n",
    "                    StandardScaler(),\n",
    "                    LassoCV(max_iter = 10000))\"\"\"\n",
    "scaler = StandardScaler()\n",
    "\n",
    "X_train_sc = scaler.fit_transform(X_train)\n",
    "X_test_sc = scaler.fit_transform(X_test)\n",
    "\n",
    "# X_train_sc2 = scaler.transform(X_train_sc)\n",
    "# X_test_sc2 = scaler.transform(X_test_sc)\n",
    "\n",
    "\n",
    "reg = LassoCV(cv=5, random_state=0, max_iter = 10000).fit(X_train_sc, y_train)\n",
    "\n",
    "\n",
    "y_pred = reg.predict(X_test_sc)\n",
    "\n",
    "rmse_1 = np.sqrt(mse(y_pred, y_test))\n",
    "score_1 = reg.score(X_train_sc, y_train)"
   ]
  },
  {
   "cell_type": "code",
   "execution_count": 426,
   "id": "020daf94-5a2f-4cd0-a0cb-c840f33d8757",
   "metadata": {},
   "outputs": [
    {
     "data": {
      "text/plain": [
       "1747939.2683861977"
      ]
     },
     "execution_count": 426,
     "metadata": {},
     "output_type": "execute_result"
    }
   ],
   "source": [
    "rmse_1"
   ]
  },
  {
   "cell_type": "code",
   "execution_count": 427,
   "id": "f4baa6bb-1081-4d4b-aa30-47060d234815",
   "metadata": {},
   "outputs": [
    {
     "data": {
      "text/plain": [
       "0.69747483140947"
      ]
     },
     "execution_count": 427,
     "metadata": {},
     "output_type": "execute_result"
    }
   ],
   "source": [
    "score_1"
   ]
  },
  {
   "cell_type": "markdown",
   "id": "d96b97c3-b3dd-486e-adac-b1a363a1b0af",
   "metadata": {},
   "source": [
    "## address type dummies"
   ]
  },
  {
   "cell_type": "code",
   "execution_count": 428,
   "id": "161d2f2d-02fa-4dd8-99d7-132f53b6c0d8",
   "metadata": {},
   "outputs": [
    {
     "data": {
      "text/html": [
       "<div>\n",
       "<style scoped>\n",
       "    .dataframe tbody tr th:only-of-type {\n",
       "        vertical-align: middle;\n",
       "    }\n",
       "\n",
       "    .dataframe tbody tr th {\n",
       "        vertical-align: top;\n",
       "    }\n",
       "\n",
       "    .dataframe thead th {\n",
       "        text-align: right;\n",
       "    }\n",
       "</style>\n",
       "<table border=\"1\" class=\"dataframe\">\n",
       "  <thead>\n",
       "    <tr style=\"text-align: right;\">\n",
       "      <th></th>\n",
       "      <th>condo</th>\n",
       "      <th>cooperative</th>\n",
       "      <th>farm</th>\n",
       "      <th>full year plot</th>\n",
       "      <th>hobby farm</th>\n",
       "      <th>holiday house</th>\n",
       "      <th>terraced house</th>\n",
       "      <th>villa</th>\n",
       "      <th>villa apartment</th>\n",
       "      <th>basement</th>\n",
       "      <th>lot</th>\n",
       "    </tr>\n",
       "  </thead>\n",
       "  <tbody>\n",
       "    <tr>\n",
       "      <th>0</th>\n",
       "      <td>0</td>\n",
       "      <td>0</td>\n",
       "      <td>0</td>\n",
       "      <td>0</td>\n",
       "      <td>0</td>\n",
       "      <td>0</td>\n",
       "      <td>0</td>\n",
       "      <td>1</td>\n",
       "      <td>0</td>\n",
       "      <td>1</td>\n",
       "      <td>1</td>\n",
       "    </tr>\n",
       "    <tr>\n",
       "      <th>1</th>\n",
       "      <td>0</td>\n",
       "      <td>0</td>\n",
       "      <td>1</td>\n",
       "      <td>0</td>\n",
       "      <td>0</td>\n",
       "      <td>0</td>\n",
       "      <td>0</td>\n",
       "      <td>0</td>\n",
       "      <td>0</td>\n",
       "      <td>0</td>\n",
       "      <td>1</td>\n",
       "    </tr>\n",
       "    <tr>\n",
       "      <th>2</th>\n",
       "      <td>0</td>\n",
       "      <td>0</td>\n",
       "      <td>0</td>\n",
       "      <td>0</td>\n",
       "      <td>0</td>\n",
       "      <td>0</td>\n",
       "      <td>0</td>\n",
       "      <td>1</td>\n",
       "      <td>0</td>\n",
       "      <td>1</td>\n",
       "      <td>1</td>\n",
       "    </tr>\n",
       "    <tr>\n",
       "      <th>3</th>\n",
       "      <td>0</td>\n",
       "      <td>0</td>\n",
       "      <td>0</td>\n",
       "      <td>0</td>\n",
       "      <td>0</td>\n",
       "      <td>0</td>\n",
       "      <td>0</td>\n",
       "      <td>1</td>\n",
       "      <td>0</td>\n",
       "      <td>1</td>\n",
       "      <td>1</td>\n",
       "    </tr>\n",
       "    <tr>\n",
       "      <th>4</th>\n",
       "      <td>0</td>\n",
       "      <td>0</td>\n",
       "      <td>0</td>\n",
       "      <td>0</td>\n",
       "      <td>0</td>\n",
       "      <td>0</td>\n",
       "      <td>0</td>\n",
       "      <td>1</td>\n",
       "      <td>0</td>\n",
       "      <td>1</td>\n",
       "      <td>1</td>\n",
       "    </tr>\n",
       "    <tr>\n",
       "      <th>...</th>\n",
       "      <td>...</td>\n",
       "      <td>...</td>\n",
       "      <td>...</td>\n",
       "      <td>...</td>\n",
       "      <td>...</td>\n",
       "      <td>...</td>\n",
       "      <td>...</td>\n",
       "      <td>...</td>\n",
       "      <td>...</td>\n",
       "      <td>...</td>\n",
       "      <td>...</td>\n",
       "    </tr>\n",
       "    <tr>\n",
       "      <th>8670</th>\n",
       "      <td>0</td>\n",
       "      <td>0</td>\n",
       "      <td>0</td>\n",
       "      <td>0</td>\n",
       "      <td>0</td>\n",
       "      <td>0</td>\n",
       "      <td>1</td>\n",
       "      <td>0</td>\n",
       "      <td>0</td>\n",
       "      <td>0</td>\n",
       "      <td>1</td>\n",
       "    </tr>\n",
       "    <tr>\n",
       "      <th>8671</th>\n",
       "      <td>0</td>\n",
       "      <td>0</td>\n",
       "      <td>0</td>\n",
       "      <td>0</td>\n",
       "      <td>0</td>\n",
       "      <td>0</td>\n",
       "      <td>0</td>\n",
       "      <td>1</td>\n",
       "      <td>0</td>\n",
       "      <td>0</td>\n",
       "      <td>1</td>\n",
       "    </tr>\n",
       "    <tr>\n",
       "      <th>8672</th>\n",
       "      <td>0</td>\n",
       "      <td>0</td>\n",
       "      <td>0</td>\n",
       "      <td>0</td>\n",
       "      <td>0</td>\n",
       "      <td>0</td>\n",
       "      <td>0</td>\n",
       "      <td>1</td>\n",
       "      <td>0</td>\n",
       "      <td>0</td>\n",
       "      <td>1</td>\n",
       "    </tr>\n",
       "    <tr>\n",
       "      <th>8673</th>\n",
       "      <td>0</td>\n",
       "      <td>0</td>\n",
       "      <td>0</td>\n",
       "      <td>0</td>\n",
       "      <td>0</td>\n",
       "      <td>0</td>\n",
       "      <td>0</td>\n",
       "      <td>1</td>\n",
       "      <td>0</td>\n",
       "      <td>0</td>\n",
       "      <td>1</td>\n",
       "    </tr>\n",
       "    <tr>\n",
       "      <th>8674</th>\n",
       "      <td>1</td>\n",
       "      <td>0</td>\n",
       "      <td>0</td>\n",
       "      <td>0</td>\n",
       "      <td>0</td>\n",
       "      <td>0</td>\n",
       "      <td>0</td>\n",
       "      <td>0</td>\n",
       "      <td>0</td>\n",
       "      <td>0</td>\n",
       "      <td>0</td>\n",
       "    </tr>\n",
       "  </tbody>\n",
       "</table>\n",
       "<p>8675 rows × 11 columns</p>\n",
       "</div>"
      ],
      "text/plain": [
       "      condo  cooperative  farm  full year plot  hobby farm  holiday house  \\\n",
       "0         0            0     0               0           0              0   \n",
       "1         0            0     1               0           0              0   \n",
       "2         0            0     0               0           0              0   \n",
       "3         0            0     0               0           0              0   \n",
       "4         0            0     0               0           0              0   \n",
       "...     ...          ...   ...             ...         ...            ...   \n",
       "8670      0            0     0               0           0              0   \n",
       "8671      0            0     0               0           0              0   \n",
       "8672      0            0     0               0           0              0   \n",
       "8673      0            0     0               0           0              0   \n",
       "8674      1            0     0               0           0              0   \n",
       "\n",
       "      terraced house  villa  villa apartment  basement  lot  \n",
       "0                  0      1                0         1    1  \n",
       "1                  0      0                0         0    1  \n",
       "2                  0      1                0         1    1  \n",
       "3                  0      1                0         1    1  \n",
       "4                  0      1                0         1    1  \n",
       "...              ...    ...              ...       ...  ...  \n",
       "8670               1      0                0         0    1  \n",
       "8671               0      1                0         0    1  \n",
       "8672               0      1                0         0    1  \n",
       "8673               0      1                0         0    1  \n",
       "8674               0      0                0         0    0  \n",
       "\n",
       "[8675 rows x 11 columns]"
      ]
     },
     "execution_count": 428,
     "metadata": {},
     "output_type": "execute_result"
    }
   ],
   "source": [
    "address_dummies"
   ]
  },
  {
   "cell_type": "code",
   "execution_count": 429,
   "id": "768982d9-4f6c-446a-89b2-1c9c76e19833",
   "metadata": {},
   "outputs": [],
   "source": [
    "X_poly_int_address = pd.concat([X_poly_int, address_dummies], axis=1)"
   ]
  },
  {
   "cell_type": "code",
   "execution_count": 430,
   "id": "58cc100d-dcec-4576-a90b-553f1c58410d",
   "metadata": {},
   "outputs": [],
   "source": [
    "#poly = PolynomialFeatures(interaction_only=True, include_bias = False)\n",
    "#X = poly.fit_transform(X)\n",
    "\n",
    "#X = pd.DataFrame(X, columns = poly.get_feature_names_out())\n",
    "\n",
    "#X = X.loc[:, (X != 0).any(axis=0)]\n",
    "\n",
    "#X = X.loc[:,~X.apply(lambda x: x.duplicated(),axis=1).all()].copy() # this removes the duplicates of interaction terms"
   ]
  },
  {
   "cell_type": "code",
   "execution_count": 431,
   "id": "fe7e5c85-0815-4d30-95b4-9561f3daac99",
   "metadata": {},
   "outputs": [],
   "source": [
    "X_train, X_test, y_train, y_test = train_test_split(X_poly_int_address, y, test_size=.2, random_state=1)\n",
    "scaler = StandardScaler()\n",
    "\n",
    "X_train_sc = scaler.fit_transform(X_train)\n",
    "X_test_sc = scaler.fit_transform(X_test)\n",
    "\n",
    "# X_train_sc2 = scaler.transform(X_train_sc)\n",
    "# X_test_sc2 = scaler.transform(X_test_sc)\n",
    "\n",
    "\n",
    "reg = LassoCV(cv=5, random_state=0, max_iter = 10000).fit(X_train_sc, y_train)\n",
    "\n",
    "\n",
    "y_pred = reg.predict(X_test_sc)\n",
    "\n",
    "rmse_2 = np.sqrt(mse(y_pred, y_test))\n",
    "score_2 = reg.score(X_train_sc, y_train)"
   ]
  },
  {
   "cell_type": "raw",
   "id": "78ab5247-eb2e-4833-bb92-782007f1f6d5",
   "metadata": {},
   "source": [
    "X_train, X_test, y_train, y_test = train_test_split(X_poly_int_address, y, test_size=.2, random_state=1)\n",
    "\n",
    "pipe = make_pipeline(#PolynomialFeatures(interaction_only=True),\n",
    "                    StandardScaler(),\n",
    "                    LassoCV(max_iter = 10000))\n",
    "pipe.fit(X_train, y_train)\n",
    "y_pred = pipe.predict(X_test)\n",
    "\n",
    "rmse_address = np.sqrt(mse(y_pred, y_test))"
   ]
  },
  {
   "cell_type": "code",
   "execution_count": 432,
   "id": "0ff29f4a-4a4b-40ae-8b87-3b8754c9ea12",
   "metadata": {},
   "outputs": [
    {
     "data": {
      "text/plain": [
       "1677438.5819331682"
      ]
     },
     "execution_count": 432,
     "metadata": {},
     "output_type": "execute_result"
    }
   ],
   "source": [
    "rmse_2"
   ]
  },
  {
   "cell_type": "code",
   "execution_count": 433,
   "id": "5523cdd4-f5be-4088-a455-e0dfdea3ccc3",
   "metadata": {},
   "outputs": [
    {
     "data": {
      "text/plain": [
       "0.7372850517407253"
      ]
     },
     "execution_count": 433,
     "metadata": {},
     "output_type": "execute_result"
    }
   ],
   "source": [
    "score_2"
   ]
  },
  {
   "cell_type": "markdown",
   "id": "a0efe0b3-a761-4940-a917-3b80bfc7844b",
   "metadata": {},
   "source": [
    "## Now also with energy codes"
   ]
  },
  {
   "cell_type": "code",
   "execution_count": 434,
   "id": "f00a42fc-820f-4ab8-b3fe-3917ecbe0e4e",
   "metadata": {},
   "outputs": [],
   "source": [
    "X_poly_int_address_energy = pd.concat([X_poly_int_address, energy_dummies], axis=1)"
   ]
  },
  {
   "cell_type": "code",
   "execution_count": 435,
   "id": "f1a770d6-3add-49f7-87da-920f51359639",
   "metadata": {},
   "outputs": [],
   "source": [
    "X_train, X_test, y_train, y_test = train_test_split(X_poly_int_address_energy, y, test_size=.2, random_state=1)\n",
    "scaler = StandardScaler()\n",
    "\n",
    "X_train_sc = scaler.fit_transform(X_train)\n",
    "X_test_sc = scaler.fit_transform(X_test)\n",
    "\n",
    "# X_train_sc2 = scaler.transform(X_train_sc)\n",
    "# X_test_sc2 = scaler.transform(X_test_sc)\n",
    "\n",
    "\n",
    "reg = LassoCV(cv=5, random_state=0, max_iter = 10000).fit(X_train_sc, y_train)\n",
    "\n",
    "\n",
    "y_pred = reg.predict(X_test_sc)\n",
    "\n",
    "rmse_3 = np.sqrt(mse(y_pred, y_test))\n",
    "score_3 = reg.score(X_train_sc, y_train)"
   ]
  },
  {
   "cell_type": "code",
   "execution_count": 436,
   "id": "35b9cba7-3e5d-46fd-8917-2a561602e723",
   "metadata": {},
   "outputs": [
    {
     "data": {
      "text/plain": [
       "1659162.5717530884"
      ]
     },
     "execution_count": 436,
     "metadata": {},
     "output_type": "execute_result"
    }
   ],
   "source": [
    "rmse_3"
   ]
  },
  {
   "cell_type": "code",
   "execution_count": 437,
   "id": "f822e804-9527-4393-a3ae-0aa871fcdff9",
   "metadata": {},
   "outputs": [
    {
     "data": {
      "text/plain": [
       "0.744785439612457"
      ]
     },
     "execution_count": 437,
     "metadata": {},
     "output_type": "execute_result"
    }
   ],
   "source": [
    "score_3"
   ]
  },
  {
   "cell_type": "raw",
   "id": "923d8586-04f7-48bc-9413-27adf8178bf8",
   "metadata": {},
   "source": [
    "#X = pd.concat([X, energy_dummies], axis=1)\n",
    "\n",
    "X_train, X_test, y_train, y_test = train_test_split(X, y, test_size=.2, random_state=1)\n",
    "\n",
    "pipe = make_pipeline(#PolynomialFeatures(interaction_only=True),\n",
    "                    StandardScaler(),\n",
    "                    LassoCV(max_iter = 10000))\n",
    "pipe.fit(X_train, y_train)\n",
    "y_pred = pipe.predict(X_test)\n",
    "\n",
    "rmse_address_energy = np.sqrt(mse(y_pred, y_test))\n",
    "\n",
    "rmse_address_energy"
   ]
  },
  {
   "cell_type": "markdown",
   "id": "eed36e88-2005-4c89-bd03-ba8bcaad6372",
   "metadata": {},
   "source": [
    "## Now with house variables, address type, energy and municipality\n"
   ]
  },
  {
   "cell_type": "code",
   "execution_count": 438,
   "id": "0893d122-818f-4334-9de8-7910d6e6251b",
   "metadata": {},
   "outputs": [],
   "source": [
    "X_poly_int_address_energy_municipality = pd.concat([X_poly_int_address_energy, municipality_dummies], axis=1)"
   ]
  },
  {
   "cell_type": "code",
   "execution_count": 439,
   "id": "ec562c93-051b-4e36-a2fe-5e099a967cbf",
   "metadata": {},
   "outputs": [],
   "source": [
    "X_train, X_test, y_train, y_test = train_test_split(X_poly_int_address_energy_municipality, y, test_size=.2, random_state=1)\n",
    "scaler = StandardScaler()\n",
    "\n",
    "X_train_sc = scaler.fit_transform(X_train)\n",
    "X_test_sc = scaler.fit_transform(X_test)\n",
    "\n",
    "# X_train_sc2 = scaler.transform(X_train_sc)\n",
    "# X_test_sc2 = scaler.transform(X_test_sc)\n",
    "\n",
    "\n",
    "reg = LassoCV(cv=5, random_state=0, max_iter = 10000).fit(X_train_sc, y_train)\n",
    "\n",
    "\n",
    "y_pred = reg.predict(X_test_sc)\n",
    "\n",
    "rmse_4 = np.sqrt(mse(y_pred, y_test))\n",
    "score_4 = reg.score(X_train_sc, y_train)"
   ]
  },
  {
   "cell_type": "code",
   "execution_count": 440,
   "id": "0d66c3ba-8f6b-427a-a37d-31d708abde2a",
   "metadata": {},
   "outputs": [
    {
     "data": {
      "text/plain": [
       "1504671.4533923788"
      ]
     },
     "execution_count": 440,
     "metadata": {},
     "output_type": "execute_result"
    }
   ],
   "source": [
    "rmse_4"
   ]
  },
  {
   "cell_type": "code",
   "execution_count": 441,
   "id": "bfe71d42-ba6c-4225-9390-9b54b8829f8e",
   "metadata": {},
   "outputs": [
    {
     "data": {
      "text/plain": [
       "0.8039550048457592"
      ]
     },
     "execution_count": 441,
     "metadata": {},
     "output_type": "execute_result"
    }
   ],
   "source": [
    "score_4"
   ]
  },
  {
   "cell_type": "raw",
   "id": "d71411a2-cec2-4134-a3c7-9138befdfef9",
   "metadata": {},
   "source": [
    "X = pd.concat([X, municipality_dummies], axis=1)\n",
    "\n",
    "X_train, X_test, y_train, y_test = train_test_split(X, y, test_size=.2, random_state=1)\n",
    "\n",
    "pipe = make_pipeline(#PolynomialFeatures(interaction_only=True),\n",
    "                    StandardScaler(),\n",
    "                    LassoCV(max_iter = 10000))\n",
    "pipe.fit(X_train, y_train)\n",
    "y_pred = pipe.predict(X_test)\n",
    "\n",
    "rmse_address_energy_municipality = np.sqrt(mse(y_pred, y_test))\n",
    "\n",
    "rmse_address_energy_municipality"
   ]
  },
  {
   "cell_type": "code",
   "execution_count": 442,
   "id": "456a009a-2654-4d28-a027-2a90fb005042",
   "metadata": {},
   "outputs": [],
   "source": [
    "#.coef_"
   ]
  },
  {
   "cell_type": "code",
   "execution_count": null,
   "id": "1b291850-4521-4057-b642-ed8d1325b67a",
   "metadata": {},
   "outputs": [],
   "source": []
  },
  {
   "cell_type": "raw",
   "id": "1b94df18-cda6-4d1e-adc8-32817ec83538",
   "metadata": {},
   "source": [
    "poly = PolynomialFeatures(2, include_bias = False)\n",
    "X = poly.fit_transform(X)\n",
    "\n",
    "X = pd.DataFrame(X, columns = poly.get_feature_names_out())\n",
    "\n",
    "X = X.loc[:, (X != 0).any(axis=0)]\n",
    "\n",
    "X = X.loc[:,~X.apply(lambda x: x.duplicated(),axis=1).all()].copy() # this removes the duplicates of interaction terms\n",
    "\n",
    "X = pd.concat([X, municipality_dummies], axis=1)\n",
    "\n",
    "X_train, X_test, y_train, y_test = train_test_split(X, y, test_size=.2, random_state=1)\n",
    "\n",
    "pipe = make_pipeline(#PolynomialFeatures(interaction_only=True),\n",
    "                    StandardScaler(),\n",
    "                    LassoCV(max_iter = 10000))\n",
    "pipe.fit(X_train, y_train)\n",
    "y_pred = pipe.predict(X_test)\n",
    "\n",
    "rmse_full_power = np.sqrt(mse(y_pred, y_test))\n",
    "\n",
    "rmse_full_power"
   ]
  },
  {
   "cell_type": "code",
   "execution_count": 461,
   "id": "4f6bc329-ba98-4799-8528-1ad09f7f230a",
   "metadata": {},
   "outputs": [
    {
     "ename": "KeyError",
     "evalue": "'addressType'",
     "output_type": "error",
     "traceback": [
      "\u001b[1;31m---------------------------------------------------------------------------\u001b[0m",
      "\u001b[1;31mKeyError\u001b[0m                                  Traceback (most recent call last)",
      "File \u001b[1;32m~\\anaconda3\\envs\\ISDS\\lib\\site-packages\\pandas\\core\\indexes\\base.py:3621\u001b[0m, in \u001b[0;36mIndex.get_loc\u001b[1;34m(self, key, method, tolerance)\u001b[0m\n\u001b[0;32m   3620\u001b[0m \u001b[38;5;28;01mtry\u001b[39;00m:\n\u001b[1;32m-> 3621\u001b[0m     \u001b[38;5;28;01mreturn\u001b[39;00m \u001b[38;5;28;43mself\u001b[39;49m\u001b[38;5;241;43m.\u001b[39;49m\u001b[43m_engine\u001b[49m\u001b[38;5;241;43m.\u001b[39;49m\u001b[43mget_loc\u001b[49m\u001b[43m(\u001b[49m\u001b[43mcasted_key\u001b[49m\u001b[43m)\u001b[49m\n\u001b[0;32m   3622\u001b[0m \u001b[38;5;28;01mexcept\u001b[39;00m \u001b[38;5;167;01mKeyError\u001b[39;00m \u001b[38;5;28;01mas\u001b[39;00m err:\n",
      "File \u001b[1;32m~\\anaconda3\\envs\\ISDS\\lib\\site-packages\\pandas\\_libs\\index.pyx:136\u001b[0m, in \u001b[0;36mpandas._libs.index.IndexEngine.get_loc\u001b[1;34m()\u001b[0m\n",
      "File \u001b[1;32m~\\anaconda3\\envs\\ISDS\\lib\\site-packages\\pandas\\_libs\\index.pyx:163\u001b[0m, in \u001b[0;36mpandas._libs.index.IndexEngine.get_loc\u001b[1;34m()\u001b[0m\n",
      "File \u001b[1;32mpandas\\_libs\\hashtable_class_helper.pxi:5198\u001b[0m, in \u001b[0;36mpandas._libs.hashtable.PyObjectHashTable.get_item\u001b[1;34m()\u001b[0m\n",
      "File \u001b[1;32mpandas\\_libs\\hashtable_class_helper.pxi:5206\u001b[0m, in \u001b[0;36mpandas._libs.hashtable.PyObjectHashTable.get_item\u001b[1;34m()\u001b[0m\n",
      "\u001b[1;31mKeyError\u001b[0m: 'addressType'",
      "\nThe above exception was the direct cause of the following exception:\n",
      "\u001b[1;31mKeyError\u001b[0m                                  Traceback (most recent call last)",
      "Input \u001b[1;32mIn [461]\u001b[0m, in \u001b[0;36m<cell line: 1>\u001b[1;34m()\u001b[0m\n\u001b[1;32m----> 1\u001b[0m address_dummies \u001b[38;5;241m=\u001b[39m pd\u001b[38;5;241m.\u001b[39mget_dummies(\u001b[43mX\u001b[49m\u001b[43m[\u001b[49m\u001b[38;5;124;43m\"\u001b[39;49m\u001b[38;5;124;43maddressType\u001b[39;49m\u001b[38;5;124;43m\"\u001b[39;49m\u001b[43m]\u001b[49m)\n\u001b[0;32m      2\u001b[0m energy_dummies \u001b[38;5;241m=\u001b[39m pd\u001b[38;5;241m.\u001b[39mget_dummies(X[\u001b[38;5;124m\"\u001b[39m\u001b[38;5;124menergyLabel\u001b[39m\u001b[38;5;124m\"\u001b[39m])\n\u001b[0;32m      3\u001b[0m municipality_dummies \u001b[38;5;241m=\u001b[39m  pd\u001b[38;5;241m.\u001b[39mget_dummies(X[\u001b[38;5;124m\"\u001b[39m\u001b[38;5;124mmunicipalityCode\u001b[39m\u001b[38;5;124m\"\u001b[39m])\n",
      "File \u001b[1;32m~\\anaconda3\\envs\\ISDS\\lib\\site-packages\\pandas\\core\\frame.py:3505\u001b[0m, in \u001b[0;36mDataFrame.__getitem__\u001b[1;34m(self, key)\u001b[0m\n\u001b[0;32m   3503\u001b[0m \u001b[38;5;28;01mif\u001b[39;00m \u001b[38;5;28mself\u001b[39m\u001b[38;5;241m.\u001b[39mcolumns\u001b[38;5;241m.\u001b[39mnlevels \u001b[38;5;241m>\u001b[39m \u001b[38;5;241m1\u001b[39m:\n\u001b[0;32m   3504\u001b[0m     \u001b[38;5;28;01mreturn\u001b[39;00m \u001b[38;5;28mself\u001b[39m\u001b[38;5;241m.\u001b[39m_getitem_multilevel(key)\n\u001b[1;32m-> 3505\u001b[0m indexer \u001b[38;5;241m=\u001b[39m \u001b[38;5;28;43mself\u001b[39;49m\u001b[38;5;241;43m.\u001b[39;49m\u001b[43mcolumns\u001b[49m\u001b[38;5;241;43m.\u001b[39;49m\u001b[43mget_loc\u001b[49m\u001b[43m(\u001b[49m\u001b[43mkey\u001b[49m\u001b[43m)\u001b[49m\n\u001b[0;32m   3506\u001b[0m \u001b[38;5;28;01mif\u001b[39;00m is_integer(indexer):\n\u001b[0;32m   3507\u001b[0m     indexer \u001b[38;5;241m=\u001b[39m [indexer]\n",
      "File \u001b[1;32m~\\anaconda3\\envs\\ISDS\\lib\\site-packages\\pandas\\core\\indexes\\base.py:3623\u001b[0m, in \u001b[0;36mIndex.get_loc\u001b[1;34m(self, key, method, tolerance)\u001b[0m\n\u001b[0;32m   3621\u001b[0m     \u001b[38;5;28;01mreturn\u001b[39;00m \u001b[38;5;28mself\u001b[39m\u001b[38;5;241m.\u001b[39m_engine\u001b[38;5;241m.\u001b[39mget_loc(casted_key)\n\u001b[0;32m   3622\u001b[0m \u001b[38;5;28;01mexcept\u001b[39;00m \u001b[38;5;167;01mKeyError\u001b[39;00m \u001b[38;5;28;01mas\u001b[39;00m err:\n\u001b[1;32m-> 3623\u001b[0m     \u001b[38;5;28;01mraise\u001b[39;00m \u001b[38;5;167;01mKeyError\u001b[39;00m(key) \u001b[38;5;28;01mfrom\u001b[39;00m \u001b[38;5;21;01merr\u001b[39;00m\n\u001b[0;32m   3624\u001b[0m \u001b[38;5;28;01mexcept\u001b[39;00m \u001b[38;5;167;01mTypeError\u001b[39;00m:\n\u001b[0;32m   3625\u001b[0m     \u001b[38;5;66;03m# If we have a listlike key, _check_indexing_error will raise\u001b[39;00m\n\u001b[0;32m   3626\u001b[0m     \u001b[38;5;66;03m#  InvalidIndexError. Otherwise we fall through and re-raise\u001b[39;00m\n\u001b[0;32m   3627\u001b[0m     \u001b[38;5;66;03m#  the TypeError.\u001b[39;00m\n\u001b[0;32m   3628\u001b[0m     \u001b[38;5;28mself\u001b[39m\u001b[38;5;241m.\u001b[39m_check_indexing_error(key)\n",
      "\u001b[1;31mKeyError\u001b[0m: 'addressType'"
     ]
    }
   ],
   "source": [
    "address_dummies = pd.get_dummies(X[\"addressType\"])\n",
    "energy_dummies = pd.get_dummies(X[\"energyLabel\"])\n",
    "municipality_dummies =  pd.get_dummies(X[\"municipalityCode\"])"
   ]
  },
  {
   "cell_type": "code",
   "execution_count": 453,
   "id": "ae1329a4-ef64-4d70-bef9-c52ce52ed217",
   "metadata": {},
   "outputs": [],
   "source": [
    "X_list = [X_poly_int, X_poly_int_address, X_poly_int_address_energy, X_poly_int_address_energy_municipality]"
   ]
  },
  {
   "cell_type": "code",
   "execution_count": 458,
   "id": "aee47655-657d-4684-8368-716d20c93532",
   "metadata": {},
   "outputs": [],
   "source": [
    "reg_scores = []\n",
    "reg_rmses = []\n",
    "reg_coefficients = []\n",
    "for X in X_list:\n",
    "    X_train, X_test, y_train, y_test = train_test_split(X, y, test_size=.2, random_state=1)\n",
    "    scaler = StandardScaler()\n",
    "\n",
    "    X_train_sc = scaler.fit_transform(X_train)\n",
    "    X_test_sc = scaler.fit_transform(X_test)\n",
    "\n",
    "\n",
    "    reg = LassoCV(cv=5, random_state=0, max_iter = 10000).fit(X_train_sc, y_train)\n",
    "\n",
    "\n",
    "    y_pred = reg.predict(X_test_sc)\n",
    "\n",
    "    reg_rmses.append(np.sqrt(mse(y_pred, y_test)))\n",
    "    reg_scores.append(reg.score(X_train_sc, y_train))\n",
    "    reg_coefficients.append(reg.coef_)"
   ]
  },
  {
   "cell_type": "code",
   "execution_count": 459,
   "id": "eea19a9c-15b8-429f-80c6-5b093381141c",
   "metadata": {},
   "outputs": [
    {
     "data": {
      "text/plain": [
       "[1747939.2683861977,\n",
       " 1677438.5819331682,\n",
       " 1659162.5717530884,\n",
       " 1504671.4533923788]"
      ]
     },
     "execution_count": 459,
     "metadata": {},
     "output_type": "execute_result"
    }
   ],
   "source": [
    "reg_rmses"
   ]
  },
  {
   "cell_type": "code",
   "execution_count": 460,
   "id": "55bb9dbe-e6c5-4c9b-aa9e-4664c25dc412",
   "metadata": {},
   "outputs": [
    {
     "data": {
      "text/plain": [
       "[0.69747483140947, 0.7372850517407253, 0.744785439612457, 0.8039550048457592]"
      ]
     },
     "execution_count": 460,
     "metadata": {},
     "output_type": "execute_result"
    }
   ],
   "source": [
    "reg_scores"
   ]
  },
  {
   "cell_type": "code",
   "execution_count": null,
   "id": "62b69b27-50b2-446e-8558-7428604387bf",
   "metadata": {},
   "outputs": [],
   "source": []
  }
 ],
 "metadata": {
  "kernelspec": {
   "display_name": "Python 3 (ipykernel)",
   "language": "python",
   "name": "python3"
  },
  "language_info": {
   "codemirror_mode": {
    "name": "ipython",
    "version": 3
   },
   "file_extension": ".py",
   "mimetype": "text/x-python",
   "name": "python",
   "nbconvert_exporter": "python",
   "pygments_lexer": "ipython3",
   "version": "3.8.13"
  }
 },
 "nbformat": 4,
 "nbformat_minor": 5
}
