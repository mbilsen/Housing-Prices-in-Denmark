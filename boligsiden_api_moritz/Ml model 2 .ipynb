{
 "cells": [
  {
   "cell_type": "code",
   "execution_count": 136,
   "id": "f2a6d6de-2203-42a6-8357-3de678f0d415",
   "metadata": {},
   "outputs": [],
   "source": [
    "import pandas as pd\n",
    "import numpy as np\n",
    "import matplotlib.pyplot as plt\n",
    "from sklearn.linear_model import LassoCV\n",
    "from sklearn.model_selection import train_test_split\n",
    "from sklearn.metrics import mean_squared_error as mse\n",
    "from sklearn.pipeline import make_pipeline\n",
    "from sklearn.preprocessing import StandardScaler, PolynomialFeatures"
   ]
  },
  {
   "cell_type": "code",
   "execution_count": 137,
   "id": "447a1d7c-6301-4458-bafd-d6b3e9e18b5a",
   "metadata": {},
   "outputs": [],
   "source": [
    "def removeValue(givenlist, valuelist):\n",
    "    # Traverse the value list\n",
    "    for value in valuelist:\n",
    "       # using while loop to remove all occurrences of given value\n",
    "        while(value in givenlist):\n",
    "            # removing the value using remove()\n",
    "            givenlist.remove(value)\n",
    "           # return the list\n",
    "    return givenlist"
   ]
  },
  {
   "cell_type": "code",
   "execution_count": 138,
   "id": "3ee6616f-5e02-4584-9687-0775858da7a3",
   "metadata": {},
   "outputs": [],
   "source": [
    "df = pd.read_csv(\"data/boligsiden_2.csv\")\n",
    "\n",
    "df.drop(\"Unnamed: 0\", axis = 1, inplace = True)\n",
    "\n",
    "df.drop(\"Unnamed: 0.1\", axis = 1, inplace = True)\n",
    "\n"
   ]
  },
  {
   "cell_type": "code",
   "execution_count": 139,
   "id": "76388109-11fd-4bf9-9dd4-0a712fcbf28a",
   "metadata": {},
   "outputs": [],
   "source": [
    "drop_list = [\"caseUrl\", \"latitude\", \"longitude\", \"zipCode\", \"municipality\", \"perAreaPrice\", \"priceChangePercentage\"]\n",
    "\n",
    "X = df.drop(drop_list, axis = 1)\n",
    "\n",
    "X.dropna(axis=0, how='any', thresh=None, subset=None, inplace=True)\n",
    "\n",
    "X = X.reset_index(drop=True)\n",
    "\n",
    "y = X[\"priceCash\"]\n",
    "X = X.drop(\"priceCash\", axis = 1)\n",
    "\n",
    "\n",
    "address_dummies = pd.get_dummies(X[\"addressType\"])\n",
    "energy_dummies = pd.get_dummies(X[\"energyLabel\"])\n",
    "municipality_dummies =  pd.get_dummies(X[\"municipalityCode\"])"
   ]
  },
  {
   "cell_type": "code",
   "execution_count": 140,
   "id": "2cedd374-ee50-4a1a-a7fb-f05c46a78d61",
   "metadata": {},
   "outputs": [],
   "source": [
    "X_variables = X.columns.values.tolist()\n",
    "\n",
    "X_variables = removeValue(X_variables, [\"addressType\", \"energyLabel\", \"municipalityCode\"])\n",
    "\n",
    "X_variables\n",
    "\n",
    "drop_list_2 = [\"addressType\", \"energyLabel\", \"municipalityCode\"]\n",
    "\n",
    "X = X.drop(drop_list_2, axis = 1)\n",
    "X = X.drop(\"numberOfBuildings\", axis = 1) # drop number of buildings - those with more than one building (mostly farms) had NAN values for some variables\n",
    "\n",
    "X.columns = X.columns.astype(str)\n",
    "address_dummies.columns = address_dummies.columns.astype(str)\n",
    "energy_dummies.columns = energy_dummies.columns.astype(str)\n",
    "municipality_dummies.columns = municipality_dummies.columns.astype(str)\n",
    "address_dummies[\"basement\"] = X.basement\n",
    "address_dummies[\"lot\"] = X.lot\n",
    "\n",
    "X = X.drop([\"basement\", \"lot\"], axis = 1)"
   ]
  },
  {
   "cell_type": "markdown",
   "id": "0ef62332-b5e8-41cb-a50c-c004a38549f3",
   "metadata": {},
   "source": [
    "## Polynomial 2"
   ]
  },
  {
   "cell_type": "code",
   "execution_count": 141,
   "id": "666a82fb-5115-4ba0-bf78-eff779a1b5a7",
   "metadata": {},
   "outputs": [
    {
     "name": "stdout",
     "output_type": "stream",
     "text": [
      "7 7 0.6378 1870893.5094\n",
      "21 35 0.6975 1747939.2684\n",
      "29 46 0.7373 1677438.5819\n",
      "30 47 0.7086 1722930.8833\n",
      "108 133 0.7857 1556767.3803\n",
      "132 156 0.8040 1504671.4534\n"
     ]
    }
   ],
   "source": [
    "poly = PolynomialFeatures(2, include_bias = False)\n",
    "X_poly_int = poly.fit_transform(X)\n",
    "X_poly_int = pd.DataFrame(X_poly_int, columns = poly.get_feature_names_out())\n",
    "\n",
    "X_poly_int_address = pd.concat([X_poly_int, address_dummies], axis=1)\n",
    "X_poly_int_energy = pd.concat([X_poly_int, energy_dummies], axis=1)\n",
    "X_poly_int_municipality = pd.concat([X_poly_int, municipality_dummies], axis=1)\n",
    "X_poly_int_address_energy_municipality = pd.concat([X_poly_int_address, energy_dummies, municipality_dummies], axis=1)\n",
    "\n",
    "X_list = [X, X_poly_int, X_poly_int_address, X_poly_int_energy, X_poly_int_municipality, X_poly_int_address_energy_municipality]\n",
    "\n",
    "reg_scores = []\n",
    "reg_rmses = []\n",
    "reg_coefficients = []\n",
    "non_zero_coef = []\n",
    "for Xs in X_list:\n",
    "    X_train, X_test, y_train, y_test = train_test_split(Xs, y, test_size=.2, random_state=1)\n",
    "    scaler = StandardScaler()\n",
    "\n",
    "    X_train_sc = scaler.fit_transform(X_train)\n",
    "    X_test_sc = scaler.fit_transform(X_test)\n",
    "\n",
    "\n",
    "    reg = LassoCV(cv=5, random_state=0, max_iter = 10000).fit(X_train_sc, y_train)\n",
    "\n",
    "\n",
    "    y_pred = reg.predict(X_test_sc)\n",
    "\n",
    "    reg_rmses.append(np.sqrt(mse(y_pred, y_test)))\n",
    "    reg_scores.append(reg.score(X_train_sc, y_train))\n",
    "    reg_coefficients.append(reg.coef_)\n",
    "    bool_array = (reg.coef_ != 0)\n",
    "    non_zero_coef.append(Xs.columns[bool_array])\n",
    "for i in range(0,len(X_list),1):\n",
    "    print(len(non_zero_coef[i]), X_list[i].shape[1], f\"{reg_scores[i]:.4f}\", f\"{reg_rmses[i]:.4f}\")\n"
   ]
  },
  {
   "cell_type": "markdown",
   "id": "9f2f73cc-615e-4892-904a-07c1d0eda4a7",
   "metadata": {},
   "source": [
    "## Polynomial 4"
   ]
  },
  {
   "cell_type": "code",
   "execution_count": 142,
   "id": "4631f9b3-8998-49b3-9b07-f51383298caf",
   "metadata": {},
   "outputs": [
    {
     "name": "stdout",
     "output_type": "stream",
     "text": [
      "7 7 0.6378 1870893.5094\n",
      "29 329 0.7117 1756531.9434\n",
      "36 340 0.7504 1660583.1000\n",
      "74 341 0.7538 1649372.6697\n",
      "103 427 0.7896 1554543.3257\n",
      "126 450 0.8115 1503796.2757\n"
     ]
    }
   ],
   "source": [
    "poly = PolynomialFeatures(4, include_bias = False)\n",
    "X_poly_int = poly.fit_transform(X)\n",
    "X_poly_int = pd.DataFrame(X_poly_int, columns = poly.get_feature_names_out())\n",
    "\n",
    "X_poly_int_address = pd.concat([X_poly_int, address_dummies], axis=1)\n",
    "X_poly_int_energy = pd.concat([X_poly_int, energy_dummies], axis=1)\n",
    "X_poly_int_municipality = pd.concat([X_poly_int, municipality_dummies], axis=1)\n",
    "X_poly_int_address_energy_municipality = pd.concat([X_poly_int_address, energy_dummies, municipality_dummies], axis=1)\n",
    "\n",
    "X_list = [X, X_poly_int, X_poly_int_address, X_poly_int_energy, X_poly_int_municipality, X_poly_int_address_energy_municipality]\n",
    "\n",
    "reg_scores = []\n",
    "reg_rmses = []\n",
    "reg_coefficients = []\n",
    "non_zero_coef = []\n",
    "for Xs in X_list:\n",
    "    X_train, X_test, y_train, y_test = train_test_split(Xs, y, test_size=.2, random_state=1)\n",
    "    scaler = StandardScaler()\n",
    "\n",
    "    X_train_sc = scaler.fit_transform(X_train)\n",
    "    X_test_sc = scaler.fit_transform(X_test)\n",
    "\n",
    "\n",
    "    reg = LassoCV(cv=5, random_state=0, max_iter = 50000).fit(X_train_sc, y_train)\n",
    "\n",
    "\n",
    "    y_pred = reg.predict(X_test_sc)\n",
    "\n",
    "    reg_rmses.append(np.sqrt(mse(y_pred, y_test)))\n",
    "    reg_scores.append(reg.score(X_train_sc, y_train))\n",
    "    reg_coefficients.append(reg.coef_)\n",
    "    bool_array = (reg.coef_ != 0)\n",
    "    non_zero_coef.append(Xs.columns[bool_array])\n",
    "for i in range(0,len(X_list),1):\n",
    "    print(len(non_zero_coef[i]), X_list[i].shape[1], f\"{reg_scores[i]:.4f}\", f\"{reg_rmses[i]:.4f}\")"
   ]
  },
  {
   "cell_type": "code",
   "execution_count": 144,
   "id": "a8952be9-e79a-47c4-9060-41bc9fe55178",
   "metadata": {},
   "outputs": [],
   "source": [
    "#non_zero_coef"
   ]
  },
  {
   "cell_type": "code",
   "execution_count": null,
   "id": "3355d05d-19ed-4d1b-b94f-c7505be13f09",
   "metadata": {},
   "outputs": [],
   "source": []
  }
 ],
 "metadata": {
  "kernelspec": {
   "display_name": "Python 3 (ipykernel)",
   "language": "python",
   "name": "python3"
  },
  "language_info": {
   "codemirror_mode": {
    "name": "ipython",
    "version": 3
   },
   "file_extension": ".py",
   "mimetype": "text/x-python",
   "name": "python",
   "nbconvert_exporter": "python",
   "pygments_lexer": "ipython3",
   "version": "3.8.13"
  }
 },
 "nbformat": 4,
 "nbformat_minor": 5
}
