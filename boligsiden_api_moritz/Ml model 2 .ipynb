{
 "cells": [
  {
   "cell_type": "code",
   "execution_count": 26,
   "id": "f2a6d6de-2203-42a6-8357-3de678f0d415",
   "metadata": {},
   "outputs": [],
   "source": [
    "import pandas as pd\n",
    "import numpy as np\n",
    "import matplotlib.pyplot as plt\n",
    "from sklearn.linear_model import LassoCV\n",
    "from sklearn.model_selection import train_test_split\n",
    "from sklearn.metrics import mean_squared_error as mse\n",
    "from sklearn.pipeline import make_pipeline\n",
    "from sklearn.preprocessing import StandardScaler, PolynomialFeatures"
   ]
  },
  {
   "cell_type": "code",
   "execution_count": 27,
   "id": "447a1d7c-6301-4458-bafd-d6b3e9e18b5a",
   "metadata": {},
   "outputs": [],
   "source": [
    "def removeValue(givenlist, valuelist):\n",
    "    # Traverse the value list\n",
    "    for value in valuelist:\n",
    "       # using while loop to remove all occurrences of given value\n",
    "        while(value in givenlist):\n",
    "            # removing the value using remove()\n",
    "            givenlist.remove(value)\n",
    "           # return the list\n",
    "    return givenlist"
   ]
  },
  {
   "cell_type": "code",
   "execution_count": 28,
   "id": "3ee6616f-5e02-4584-9687-0775858da7a3",
   "metadata": {},
   "outputs": [],
   "source": [
    "df = pd.read_csv(\"data/boligsiden_3.csv\")\n",
    "\n",
    "df.drop(\"Unnamed: 0\", axis = 1, inplace = True)\n",
    "\n",
    "#df.drop(\"Unnamed: 0.1\", axis = 1, inplace = True)\n",
    "\n"
   ]
  },
  {
   "cell_type": "code",
   "execution_count": 29,
   "id": "76388109-11fd-4bf9-9dd4-0a712fcbf28a",
   "metadata": {},
   "outputs": [],
   "source": [
    "drop_list = [\"caseUrl\", \"latitude\", \"longitude\", \"zipCode\", \"municipalityCode\", \"perAreaPrice\", \"priceChangePercentage\"]\n",
    "\n",
    "X = df.drop(drop_list, axis = 1)\n",
    "\n",
    "X.dropna(axis=0, how='any', thresh=None, subset=None, inplace=True)\n",
    "\n",
    "X = X.reset_index(drop=True)\n",
    "\n",
    "y = X[\"priceCash\"]\n",
    "X = X.drop(\"priceCash\", axis = 1)\n",
    "\n",
    "\n",
    "address_dummies = pd.get_dummies(X[\"addressType\"])\n",
    "energy_dummies = pd.get_dummies(X[\"energyLabel\"])\n",
    "municipality_dummies =  pd.get_dummies(X[\"municipality\"])"
   ]
  },
  {
   "cell_type": "code",
   "execution_count": 32,
   "id": "2cedd374-ee50-4a1a-a7fb-f05c46a78d61",
   "metadata": {},
   "outputs": [],
   "source": [
    "X_variables = X.columns.values.tolist()\n",
    "\n",
    "X_variables = removeValue(X_variables, [\"addressType\", \"energyLabel\", \"municipalityCode\"])\n",
    "\n",
    "X_variables\n",
    "\n",
    "drop_list_2 = [\"addressType\", \"energyLabel\", \"municipality\"]\n",
    "\n",
    "X = X.drop(drop_list_2, axis = 1)\n",
    "X = X.drop(\"numberOfBuildings\", axis = 1) # drop number of buildings - those with more than one building (mostly farms) had NAN values for some variables\n",
    "\n",
    "X.columns = X.columns.astype(str)\n",
    "address_dummies.columns = address_dummies.columns.astype(str)\n",
    "energy_dummies.columns = energy_dummies.columns.astype(str)\n",
    "municipality_dummies.columns = municipality_dummies.columns.astype(str)\n",
    "address_dummies[\"basement\"] = X.basement\n",
    "address_dummies[\"lot\"] = X.lot\n",
    "\n",
    "X = X.drop([\"basement\", \"lot\"], axis = 1)"
   ]
  },
  {
   "cell_type": "code",
   "execution_count": 33,
   "id": "f6f8e5be-5d82-41bb-9c91-be119790ee78",
   "metadata": {},
   "outputs": [
    {
     "data": {
      "text/plain": [
       "['daysOnMarket',\n",
       " 'lotArea',\n",
       " 'monthlyExpense',\n",
       " 'housingArea',\n",
       " 'numberOfFloors',\n",
       " 'numberOfRooms',\n",
       " 'yearBuilt',\n",
       " 'basementArea',\n",
       " 'numberOfBuildings',\n",
       " 'municipality',\n",
       " 'basement',\n",
       " 'lot']"
      ]
     },
     "execution_count": 33,
     "metadata": {},
     "output_type": "execute_result"
    }
   ],
   "source": [
    "X_variables"
   ]
  },
  {
   "cell_type": "code",
   "execution_count": 34,
   "id": "f9e30767-d3b7-4f00-b1ce-34108eb3bd34",
   "metadata": {},
   "outputs": [],
   "source": [
    "X_simple_all = pd.concat([X, address_dummies, energy_dummies, municipality_dummies], axis=1)"
   ]
  },
  {
   "cell_type": "code",
   "execution_count": 35,
   "id": "73bcfc61-6f7e-465d-9776-050270f2d3e1",
   "metadata": {},
   "outputs": [],
   "source": [
    "X_simple_all.to_csv(\"data/X_all_dummies.csv\")"
   ]
  },
  {
   "cell_type": "markdown",
   "id": "0ef62332-b5e8-41cb-a50c-c004a38549f3",
   "metadata": {},
   "source": [
    "## Polynomial 2"
   ]
  },
  {
   "cell_type": "code",
   "execution_count": 36,
   "id": "666a82fb-5115-4ba0-bf78-eff779a1b5a7",
   "metadata": {},
   "outputs": [
    {
     "name": "stdout",
     "output_type": "stream",
     "text": [
      "8 8 0.6350 1803554.0114\n",
      "27 44 0.6880 1745734.9716\n",
      "34 55 0.7240 1689322.9453\n",
      "36 56 0.6984 1724923.2975\n",
      "122 142 0.7689 1521671.9897\n",
      "134 165 0.7879 1484538.3567\n"
     ]
    }
   ],
   "source": [
    "poly = PolynomialFeatures(2, include_bias = False)\n",
    "X_poly_int = poly.fit_transform(X)\n",
    "X_poly_int = pd.DataFrame(X_poly_int, columns = poly.get_feature_names_out())\n",
    "\n",
    "X_poly_int_address = pd.concat([X_poly_int, address_dummies], axis=1)\n",
    "X_poly_int_energy = pd.concat([X_poly_int, energy_dummies], axis=1)\n",
    "X_poly_int_municipality = pd.concat([X_poly_int, municipality_dummies], axis=1)\n",
    "X_poly_int_address_energy_municipality = pd.concat([X_poly_int_address, energy_dummies, municipality_dummies], axis=1)\n",
    "\n",
    "X_list = [X, X_poly_int, X_poly_int_address, X_poly_int_energy, X_poly_int_municipality, X_poly_int_address_energy_municipality]\n",
    "\n",
    "reg_scores = []\n",
    "reg_rmses = []\n",
    "reg_coefficients = []\n",
    "non_zero_coef = []\n",
    "for Xs in X_list:\n",
    "    X_train, X_test, y_train, y_test = train_test_split(Xs, y, test_size=.2, random_state=1)\n",
    "    scaler = StandardScaler()\n",
    "\n",
    "    X_train_sc = scaler.fit_transform(X_train)\n",
    "    X_test_sc = scaler.fit_transform(X_test)\n",
    "\n",
    "\n",
    "    reg = LassoCV(cv=5, random_state=0, max_iter = 10000).fit(X_train_sc, y_train)\n",
    "\n",
    "\n",
    "    y_pred = reg.predict(X_test_sc)\n",
    "\n",
    "    reg_rmses.append(np.sqrt(mse(y_pred, y_test)))\n",
    "    reg_scores.append(reg.score(X_train_sc, y_train))\n",
    "    reg_coefficients.append(reg.coef_)\n",
    "    bool_array = (reg.coef_ != 0)\n",
    "    non_zero_coef.append(Xs.columns[bool_array])\n",
    "for i in range(0,len(X_list),1):\n",
    "    print(len(non_zero_coef[i]), X_list[i].shape[1], f\"{reg_scores[i]:.4f}\", f\"{reg_rmses[i]:.4f}\")\n"
   ]
  },
  {
   "cell_type": "markdown",
   "id": "9f2f73cc-615e-4892-904a-07c1d0eda4a7",
   "metadata": {},
   "source": [
    "## Polynomial 4"
   ]
  },
  {
   "cell_type": "code",
   "execution_count": 37,
   "id": "4631f9b3-8998-49b3-9b07-f51383298caf",
   "metadata": {},
   "outputs": [
    {
     "name": "stdout",
     "output_type": "stream",
     "text": [
      "8 8 0.6350 1803554.0114\n",
      "43 494 0.7183 1749824.2969\n",
      "46 505 0.7479 1697962.2283\n",
      "51 506 0.7328 1712876.6580\n",
      "122 592 0.7880 1491727.2868\n",
      "133 615 0.8091 1455265.4506\n"
     ]
    }
   ],
   "source": [
    "poly = PolynomialFeatures(4, include_bias = False)\n",
    "X_poly_int = poly.fit_transform(X)\n",
    "X_poly_int = pd.DataFrame(X_poly_int, columns = poly.get_feature_names_out())\n",
    "\n",
    "X_poly_int_address = pd.concat([X_poly_int, address_dummies], axis=1)\n",
    "X_poly_int_energy = pd.concat([X_poly_int, energy_dummies], axis=1)\n",
    "X_poly_int_municipality = pd.concat([X_poly_int, municipality_dummies], axis=1)\n",
    "X_poly_int_address_energy_municipality = pd.concat([X_poly_int_address, energy_dummies, municipality_dummies], axis=1)\n",
    "\n",
    "X_list = [X, X_poly_int, X_poly_int_address, X_poly_int_energy, X_poly_int_municipality, X_poly_int_address_energy_municipality]\n",
    "\n",
    "reg_scores = []\n",
    "reg_rmses = []\n",
    "reg_coefficients = []\n",
    "non_zero_coef = []\n",
    "for Xs in X_list:\n",
    "    X_train, X_test, y_train, y_test = train_test_split(Xs, y, test_size=.2, random_state=1)\n",
    "    scaler = StandardScaler()\n",
    "\n",
    "    X_train_sc = scaler.fit_transform(X_train)\n",
    "    X_test_sc = scaler.fit_transform(X_test)\n",
    "\n",
    "\n",
    "    reg = LassoCV(cv=5, random_state=0, max_iter = 50000).fit(X_train_sc, y_train)\n",
    "\n",
    "\n",
    "    y_pred = reg.predict(X_test_sc)\n",
    "\n",
    "    reg_rmses.append(np.sqrt(mse(y_pred, y_test)))\n",
    "    reg_scores.append(reg.score(X_train_sc, y_train))\n",
    "    reg_coefficients.append(reg.coef_)\n",
    "    bool_array = (reg.coef_ != 0)\n",
    "    non_zero_coef.append(Xs.columns[bool_array])\n",
    "for i in range(0,len(X_list),1):\n",
    "    print(len(non_zero_coef[i]), X_list[i].shape[1], f\"{reg_scores[i]:.4f}\", f\"{reg_rmses[i]:.4f}\")"
   ]
  },
  {
   "cell_type": "code",
   "execution_count": 144,
   "id": "a8952be9-e79a-47c4-9060-41bc9fe55178",
   "metadata": {},
   "outputs": [],
   "source": []
  },
  {
   "cell_type": "code",
   "execution_count": null,
   "id": "3355d05d-19ed-4d1b-b94f-c7505be13f09",
   "metadata": {},
   "outputs": [],
   "source": []
  }
 ],
 "metadata": {
  "kernelspec": {
   "display_name": "Python 3 (ipykernel)",
   "language": "python",
   "name": "python3"
  },
  "language_info": {
   "codemirror_mode": {
    "name": "ipython",
    "version": 3
   },
   "file_extension": ".py",
   "mimetype": "text/x-python",
   "name": "python",
   "nbconvert_exporter": "python",
   "pygments_lexer": "ipython3",
   "version": "3.8.13"
  }
 },
 "nbformat": 4,
 "nbformat_minor": 5
}
