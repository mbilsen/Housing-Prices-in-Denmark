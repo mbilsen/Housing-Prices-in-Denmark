{
 "cells": [
  {
   "cell_type": "code",
   "execution_count": 1,
   "id": "f2a6d6de-2203-42a6-8357-3de678f0d415",
   "metadata": {},
   "outputs": [],
   "source": [
    "import pandas as pd\n",
    "import numpy as np\n",
    "import matplotlib.pyplot as plt\n",
    "from sklearn.linear_model import LassoCV\n",
    "from sklearn.model_selection import train_test_split\n",
    "from sklearn.metrics import mean_squared_error as mse\n",
    "from sklearn.pipeline import make_pipeline\n",
    "from sklearn.preprocessing import StandardScaler, PolynomialFeatures"
   ]
  },
  {
   "cell_type": "code",
   "execution_count": 2,
   "id": "447a1d7c-6301-4458-bafd-d6b3e9e18b5a",
   "metadata": {},
   "outputs": [],
   "source": [
    "def removeValue(givenlist, valuelist):\n",
    "    # Traverse the value list\n",
    "    for value in valuelist:\n",
    "       # using while loop to remove all occurrences of given value\n",
    "        while(value in givenlist):\n",
    "            # removing the value using remove()\n",
    "            givenlist.remove(value)\n",
    "           # return the list\n",
    "    return givenlist"
   ]
  },
  {
   "cell_type": "code",
   "execution_count": 3,
   "id": "3ee6616f-5e02-4584-9687-0775858da7a3",
   "metadata": {},
   "outputs": [],
   "source": [
    "df = pd.read_csv(\"data/boligsiden_3.csv\")\n",
    "\n",
    "df.drop(\"Unnamed: 0\", axis = 1, inplace = True)\n",
    "\n",
    "#df.drop(\"Unnamed: 0.1\", axis = 1, inplace = True)\n",
    "try:\n",
    "    df.drop('daysOnMarket', axis=1, inplace=True)\n",
    "except:\n",
    "    True"
   ]
  },
  {
   "cell_type": "markdown",
   "id": "dd28afb8-4959-4b65-84f9-be19656fd7cb",
   "metadata": {},
   "source": [
    "Set x = True to do subsample analysis to see if we get a much lower RMSE for subsample"
   ]
  },
  {
   "cell_type": "code",
   "execution_count": 14,
   "id": "1cb990ec-d458-4a5f-bf8d-202e2aa00aa5",
   "metadata": {},
   "outputs": [],
   "source": [
    "x = False \n",
    "if x:\n",
    "    df = df[df.priceCash < 10000000]"
   ]
  },
  {
   "cell_type": "code",
   "execution_count": 15,
   "id": "76388109-11fd-4bf9-9dd4-0a712fcbf28a",
   "metadata": {},
   "outputs": [],
   "source": [
    "drop_list = [\"caseUrl\", \"latitude\", \"longitude\", \"zipCode\", \"municipalityCode\", \"perAreaPrice\", \"priceChangePercentage\"]\n",
    "\n",
    "X = df.drop(drop_list, axis = 1)\n",
    "\n",
    "X.dropna(axis=0, how='any', thresh=None, subset=None, inplace=True)\n",
    "\n",
    "X = X.reset_index(drop=True)\n",
    "\n",
    "y = X[\"priceCash\"]\n",
    "X = X.drop(\"priceCash\", axis = 1)\n",
    "\n",
    "\n",
    "address_dummies = pd.get_dummies(X[\"addressType\"])\n",
    "energy_dummies = pd.get_dummies(X[\"energyLabel\"])\n",
    "municipality_dummies =  pd.get_dummies(X[\"municipality\"])"
   ]
  },
  {
   "cell_type": "code",
   "execution_count": 16,
   "id": "2cedd374-ee50-4a1a-a7fb-f05c46a78d61",
   "metadata": {},
   "outputs": [],
   "source": [
    "X_variables = X.columns.values.tolist()\n",
    "\n",
    "X_variables = removeValue(X_variables, [\"addressType\", \"energyLabel\", \"municipalityCode\"])\n",
    "\n",
    "\n",
    "\n",
    "drop_list_2 = [\"addressType\", \"energyLabel\", \"municipality\"]\n",
    "\n",
    "X = X.drop(drop_list_2, axis = 1)\n",
    "X = X.drop(\"numberOfBuildings\", axis = 1) # drop number of buildings - those with more than one building (mostly farms) had NAN values for some variables\n",
    "\n",
    "X.columns = X.columns.astype(str)\n",
    "address_dummies.columns = address_dummies.columns.astype(str)\n",
    "energy_dummies.columns = energy_dummies.columns.astype(str)\n",
    "municipality_dummies.columns = municipality_dummies.columns.astype(str)\n",
    "address_dummies[\"basement\"] = X.basement\n",
    "address_dummies[\"lot\"] = X.lot\n",
    "\n",
    "X = X.drop([\"basement\", \"lot\"], axis = 1)"
   ]
  },
  {
   "cell_type": "code",
   "execution_count": 17,
   "id": "f9e30767-d3b7-4f00-b1ce-34108eb3bd34",
   "metadata": {},
   "outputs": [],
   "source": [
    "X_simple_all = pd.concat([X, address_dummies, energy_dummies, municipality_dummies], axis=1)"
   ]
  },
  {
   "cell_type": "code",
   "execution_count": 18,
   "id": "73bcfc61-6f7e-465d-9776-050270f2d3e1",
   "metadata": {},
   "outputs": [],
   "source": [
    "X_simple_all.to_csv(\"data/X_all_dummies.csv\")"
   ]
  },
  {
   "cell_type": "code",
   "execution_count": 19,
   "id": "1ed8ed79-b589-48b9-8bcd-d4a643fdbc93",
   "metadata": {},
   "outputs": [],
   "source": [
    "name_list = [\"X 7\", \"poly interaction\", \"address indicators\", \"energy indicators\", \"municipality indicators\", \"all indicators\"]"
   ]
  },
  {
   "cell_type": "code",
   "execution_count": 28,
   "id": "1335d45c-6436-4697-806f-e21784f071b4",
   "metadata": {},
   "outputs": [
    {
     "data": {
      "text/plain": [
       "['lotArea',\n",
       " 'monthlyExpense',\n",
       " 'housingArea',\n",
       " 'numberOfFloors',\n",
       " 'numberOfRooms',\n",
       " 'yearBuilt',\n",
       " 'basementArea',\n",
       " 'numberOfBuildings',\n",
       " 'municipality',\n",
       " 'basement',\n",
       " 'lot']"
      ]
     },
     "execution_count": 28,
     "metadata": {},
     "output_type": "execute_result"
    }
   ],
   "source": [
    "X_variables"
   ]
  },
  {
   "cell_type": "markdown",
   "id": "0ef62332-b5e8-41cb-a50c-c004a38549f3",
   "metadata": {},
   "source": [
    "## Polynomial 2"
   ]
  },
  {
   "cell_type": "code",
   "execution_count": 20,
   "id": "666a82fb-5115-4ba0-bf78-eff779a1b5a7",
   "metadata": {},
   "outputs": [
    {
     "name": "stdout",
     "output_type": "stream",
     "text": [
      "X 7 & 6 & 7 & 0.5614 & 1312557 & 13040 \\\\\n",
      "poly interaction & 17 & 35 & 0.6256 & 1257664 & 6053 \\\\\n",
      "address indicators & 34 & 46 & 0.6830 & 1159684 & 2279 \\\\\n",
      "energy indicators & 30 & 46 & 0.6515 & 1238588 & 4270 \\\\\n",
      "municipality indicators & 121 & 133 & 0.7580 & 1110323 & 1398 \\\\\n",
      "all indicators & 140 & 155 & 0.7940 & 1030174 & 1398 \\\\\n"
     ]
    }
   ],
   "source": [
    "poly = PolynomialFeatures(2, include_bias = False)\n",
    "X_poly_int = poly.fit_transform(X)\n",
    "X_poly_int = pd.DataFrame(X_poly_int, columns = poly.get_feature_names_out())\n",
    "\n",
    "X_poly_int_address = pd.concat([X_poly_int, address_dummies], axis=1)\n",
    "X_poly_int_energy = pd.concat([X_poly_int, energy_dummies], axis=1)\n",
    "X_poly_int_municipality = pd.concat([X_poly_int, municipality_dummies], axis=1)\n",
    "X_poly_int_address_energy_municipality = pd.concat([X_poly_int_address, energy_dummies, municipality_dummies], axis=1)\n",
    "\n",
    "X_list = [X, X_poly_int, X_poly_int_address, X_poly_int_energy, X_poly_int_municipality, X_poly_int_address_energy_municipality]\n",
    "\n",
    "reg_scores = []\n",
    "reg_rmses = []\n",
    "reg_coefficients = []\n",
    "non_zero_coef = []\n",
    "alphas = []\n",
    "for Xs in X_list:\n",
    "    X_train, X_test, y_train, y_test = train_test_split(Xs, y, test_size=.2, random_state=1)\n",
    "    scaler = StandardScaler()\n",
    "\n",
    "    X_train_sc = scaler.fit_transform(X_train)\n",
    "    X_test_sc = scaler.fit_transform(X_test)\n",
    "\n",
    "\n",
    "    reg = LassoCV(cv=5, random_state=0, max_iter = 10000).fit(X_train_sc, y_train)\n",
    "\n",
    "\n",
    "    y_pred = reg.predict(X_test_sc)\n",
    "    alphas.append(reg.alpha_)\n",
    "\n",
    "    reg_rmses.append(np.sqrt(mse(y_pred, y_test)))\n",
    "    reg_scores.append(reg.score(X_train_sc, y_train))\n",
    "    reg_coefficients.append(reg.coef_)\n",
    "    bool_array = (reg.coef_ != 0)\n",
    "    non_zero_coef.append(Xs.columns[bool_array])\n",
    "for i in range(0,len(X_list),1):\n",
    "    print(name_list[i],f\"&\",len(non_zero_coef[i]),f\"&\" ,X_list[i].shape[1] ,f\"&\", f\"{reg_scores[i]:.4f}\",f\"&\" ,f\"{reg_rmses[i]:.0f}\",f\"&\",f\"{alphas[i]:.0f}\",r\"\\\\\")\n"
   ]
  },
  {
   "cell_type": "code",
   "execution_count": 21,
   "id": "2777b93c-2a4a-48d3-857a-b1994f40982d",
   "metadata": {},
   "outputs": [
    {
     "data": {
      "text/plain": [
       "[Index(['lotArea', 'monthlyExpense', 'housingArea', 'numberOfFloors',\n",
       "        'yearBuilt', 'basementArea'],\n",
       "       dtype='object'),\n",
       " Index(['monthlyExpense', 'numberOfFloors', 'lotArea^2',\n",
       "        'lotArea monthlyExpense', 'lotArea housingArea',\n",
       "        'lotArea numberOfRooms', 'lotArea yearBuilt', 'monthlyExpense^2',\n",
       "        'monthlyExpense housingArea', 'monthlyExpense numberOfRooms',\n",
       "        'monthlyExpense basementArea', 'housingArea^2',\n",
       "        'housingArea numberOfRooms', 'housingArea basementArea',\n",
       "        'numberOfFloors numberOfRooms', 'numberOfRooms^2', 'basementArea^2'],\n",
       "       dtype='object'),\n",
       " Index(['monthlyExpense', 'yearBuilt', 'lotArea^2', 'lotArea monthlyExpense',\n",
       "        'lotArea housingArea', 'lotArea numberOfFloors',\n",
       "        'lotArea numberOfRooms', 'lotArea yearBuilt', 'lotArea basementArea',\n",
       "        'monthlyExpense^2', 'monthlyExpense housingArea',\n",
       "        'monthlyExpense numberOfFloors', 'monthlyExpense numberOfRooms',\n",
       "        'monthlyExpense basementArea', 'housingArea^2',\n",
       "        'housingArea numberOfRooms', 'housingArea yearBuilt',\n",
       "        'housingArea basementArea', 'numberOfFloors^2',\n",
       "        'numberOfFloors numberOfRooms', 'numberOfFloors basementArea',\n",
       "        'numberOfRooms^2', 'numberOfRooms yearBuilt', 'basementArea^2', 'condo',\n",
       "        'cooperative', 'farm', 'full year plot', 'hobby farm', 'holiday house',\n",
       "        'terraced house', 'villa apartment', 'basement', 'lot'],\n",
       "       dtype='object'),\n",
       " Index(['monthlyExpense', 'housingArea', 'lotArea^2', 'lotArea monthlyExpense',\n",
       "        'lotArea housingArea', 'lotArea numberOfFloors',\n",
       "        'lotArea numberOfRooms', 'lotArea yearBuilt', 'monthlyExpense^2',\n",
       "        'monthlyExpense housingArea', 'monthlyExpense numberOfRooms',\n",
       "        'monthlyExpense basementArea', 'housingArea^2',\n",
       "        'housingArea numberOfRooms', 'housingArea basementArea',\n",
       "        'numberOfFloors^2', 'numberOfFloors numberOfRooms', 'numberOfRooms^2',\n",
       "        'yearBuilt^2', 'basementArea^2', 'a1', 'a2', 'a2010', 'a2015', 'a2020',\n",
       "        'b', 'd', 'e', 'f', 'g'],\n",
       "       dtype='object'),\n",
       " Index(['monthlyExpense', 'yearBuilt', 'basementArea', 'lotArea^2',\n",
       "        'lotArea monthlyExpense', 'lotArea housingArea',\n",
       "        'lotArea numberOfFloors', 'lotArea numberOfRooms', 'lotArea yearBuilt',\n",
       "        'lotArea basementArea',\n",
       "        ...\n",
       "        'Tårnby', 'Tønder', 'Vallensbæk', 'Varde', 'Vejen', 'Vejle',\n",
       "        'Vesthimmerlands', 'Viborg', 'Vordingborg', 'Ærø'],\n",
       "       dtype='object', length=121),\n",
       " Index(['monthlyExpense', 'basementArea', 'lotArea^2', 'lotArea monthlyExpense',\n",
       "        'lotArea numberOfFloors', 'lotArea numberOfRooms', 'lotArea yearBuilt',\n",
       "        'lotArea basementArea', 'monthlyExpense^2',\n",
       "        'monthlyExpense housingArea',\n",
       "        ...\n",
       "        'Tårnby', 'Tønder', 'Vallensbæk', 'Varde', 'Vejen', 'Vejle',\n",
       "        'Vesthimmerlands', 'Viborg', 'Vordingborg', 'Ærø'],\n",
       "       dtype='object', length=140)]"
      ]
     },
     "execution_count": 21,
     "metadata": {},
     "output_type": "execute_result"
    }
   ],
   "source": [
    "non_zero_coef"
   ]
  },
  {
   "cell_type": "markdown",
   "id": "9f2f73cc-615e-4892-904a-07c1d0eda4a7",
   "metadata": {},
   "source": [
    "## Polynomial 4"
   ]
  },
  {
   "cell_type": "code",
   "execution_count": 22,
   "id": "4631f9b3-8998-49b3-9b07-f51383298caf",
   "metadata": {},
   "outputs": [
    {
     "name": "stdout",
     "output_type": "stream",
     "text": [
      "X 7 & 6 & 7 & 0.5614 & 1312557 & 13040 \\\\\n",
      "poly interaction & 43 & 329 & 0.6460 & 1330956 & 5645 \\\\\n",
      "address indicators & 47 & 340 & 0.6943 & 1190428 & 5264 \\\\\n",
      "energy indicators & 57 & 340 & 0.6703 & 1289831 & 5645 \\\\\n",
      "municipality indicators & 150 & 427 & 0.7804 & 1231613 & 3012 \\\\\n",
      "all indicators & 161 & 449 & 0.8100 & 1094372 & 2809 \\\\\n"
     ]
    }
   ],
   "source": [
    "poly = PolynomialFeatures(4, include_bias = False)\n",
    "X_poly_int = poly.fit_transform(X)\n",
    "X_poly_int = pd.DataFrame(X_poly_int, columns = poly.get_feature_names_out())\n",
    "\n",
    "X_poly_int_address = pd.concat([X_poly_int, address_dummies], axis=1)\n",
    "X_poly_int_energy = pd.concat([X_poly_int, energy_dummies], axis=1)\n",
    "X_poly_int_municipality = pd.concat([X_poly_int, municipality_dummies], axis=1)\n",
    "X_poly_int_address_energy_municipality = pd.concat([X_poly_int_address, energy_dummies, municipality_dummies], axis=1)\n",
    "\n",
    "X_list = [X, X_poly_int, X_poly_int_address, X_poly_int_energy, X_poly_int_municipality, X_poly_int_address_energy_municipality]\n",
    "\n",
    "reg_scores = []\n",
    "reg_rmses = []\n",
    "reg_coefficients = []\n",
    "non_zero_coef = []\n",
    "alphas = []\n",
    "for Xs in X_list:\n",
    "    X_train, X_test, y_train, y_test = train_test_split(Xs, y, test_size=.2, random_state=1)\n",
    "    scaler = StandardScaler()\n",
    "\n",
    "    X_train_sc = scaler.fit_transform(X_train)\n",
    "    X_test_sc = scaler.fit_transform(X_test)\n",
    "\n",
    "\n",
    "    reg = LassoCV(cv=5, random_state=0, max_iter = 50000).fit(X_train_sc, y_train)\n",
    "\n",
    "\n",
    "    y_pred = reg.predict(X_test_sc)\n",
    "    alphas.append(reg.alpha_)\n",
    "    reg_rmses.append(np.sqrt(mse(y_pred, y_test)))\n",
    "    reg_scores.append(reg.score(X_train_sc, y_train))\n",
    "    reg_coefficients.append(reg.coef_)\n",
    "    bool_array = (reg.coef_ != 0)\n",
    "    non_zero_coef.append(Xs.columns[bool_array])\n",
    "for i in range(0,len(X_list),1):\n",
    "    print(name_list[i],f\"&\",len(non_zero_coef[i]),f\"&\" ,X_list[i].shape[1] ,f\"&\", f\"{reg_scores[i]:.4f}\",f\"&\" ,f\"{reg_rmses[i]:.0f}\",f\"&\",f\"{alphas[i]:.0f}\",r\"\\\\\")\n"
   ]
  },
  {
   "cell_type": "code",
   "execution_count": 23,
   "id": "a8952be9-e79a-47c4-9060-41bc9fe55178",
   "metadata": {},
   "outputs": [
    {
     "data": {
      "text/plain": [
       "[Index(['lotArea', 'monthlyExpense', 'housingArea', 'numberOfFloors',\n",
       "        'yearBuilt', 'basementArea'],\n",
       "       dtype='object'),\n",
       " Index(['monthlyExpense', 'housingArea', 'numberOfRooms', 'yearBuilt',\n",
       "        'monthlyExpense numberOfRooms', 'monthlyExpense basementArea',\n",
       "        'housingArea^2', 'housingArea numberOfRooms', 'lotArea^3',\n",
       "        'lotArea monthlyExpense^2', 'monthlyExpense^2 basementArea',\n",
       "        'monthlyExpense housingArea yearBuilt',\n",
       "        'monthlyExpense numberOfFloors basementArea',\n",
       "        'numberOfFloors^2 numberOfRooms', 'lotArea^3 numberOfRooms',\n",
       "        'lotArea^3 basementArea', 'lotArea^2 monthlyExpense^2',\n",
       "        'lotArea^2 numberOfFloors^2', 'lotArea housingArea^2 numberOfFloors',\n",
       "        'lotArea housingArea yearBuilt^2', 'lotArea numberOfFloors^3',\n",
       "        'lotArea numberOfFloors^2 basementArea',\n",
       "        'lotArea numberOfRooms yearBuilt^2', 'lotArea yearBuilt^3',\n",
       "        'lotArea basementArea^3', 'monthlyExpense^3 numberOfFloors',\n",
       "        'monthlyExpense^2 numberOfFloors basementArea',\n",
       "        'monthlyExpense^2 yearBuilt^2',\n",
       "        'monthlyExpense housingArea^2 numberOfRooms',\n",
       "        'monthlyExpense housingArea^2 basementArea',\n",
       "        'monthlyExpense housingArea numberOfRooms^2',\n",
       "        'monthlyExpense housingArea numberOfRooms basementArea',\n",
       "        'monthlyExpense housingArea yearBuilt^2',\n",
       "        'monthlyExpense housingArea basementArea^2',\n",
       "        'monthlyExpense numberOfFloors^3',\n",
       "        'monthlyExpense numberOfFloors^2 basementArea',\n",
       "        'housingArea^3 numberOfRooms', 'housingArea^2 numberOfFloors yearBuilt',\n",
       "        'housingArea^2 numberOfRooms^2', 'numberOfFloors^4',\n",
       "        'numberOfFloors^2 numberOfRooms basementArea',\n",
       "        'numberOfFloors yearBuilt^2 basementArea', 'yearBuilt^3 basementArea'],\n",
       "       dtype='object'),\n",
       " Index(['monthlyExpense', 'yearBuilt', 'monthlyExpense numberOfRooms',\n",
       "        'monthlyExpense basementArea', 'housingArea^2',\n",
       "        'housingArea numberOfRooms', 'lotArea^3', 'lotArea monthlyExpense^2',\n",
       "        'monthlyExpense housingArea^2', 'numberOfFloors^2 numberOfRooms',\n",
       "        'lotArea^3 basementArea', 'lotArea^2 monthlyExpense^2',\n",
       "        'lotArea^2 numberOfFloors^2', 'lotArea monthlyExpense^3',\n",
       "        'lotArea monthlyExpense^2 numberOfFloors',\n",
       "        'lotArea housingArea^2 numberOfFloors', 'lotArea numberOfFloors^3',\n",
       "        'lotArea numberOfRooms yearBuilt^2', 'lotArea yearBuilt^3',\n",
       "        'lotArea basementArea^3', 'monthlyExpense^3 numberOfFloors',\n",
       "        'monthlyExpense^2 yearBuilt^2', 'monthlyExpense housingArea^3',\n",
       "        'monthlyExpense housingArea^2 numberOfRooms',\n",
       "        'monthlyExpense housingArea numberOfRooms^2',\n",
       "        'monthlyExpense housingArea numberOfRooms basementArea',\n",
       "        'monthlyExpense housingArea yearBuilt^2',\n",
       "        'monthlyExpense housingArea basementArea^2',\n",
       "        'monthlyExpense numberOfFloors^2 basementArea',\n",
       "        'housingArea^3 numberOfRooms', 'housingArea^2 numberOfFloors yearBuilt',\n",
       "        'housingArea^2 numberOfRooms^2',\n",
       "        'housingArea numberOfFloors numberOfRooms yearBuilt',\n",
       "        'housingArea yearBuilt^3', 'housingArea yearBuilt^2 basementArea',\n",
       "        'numberOfFloors^4', 'numberOfFloors yearBuilt^3',\n",
       "        'numberOfFloors yearBuilt basementArea^2', 'condo', 'cooperative',\n",
       "        'hobby farm', 'holiday house', 'terraced house', 'villa',\n",
       "        'villa apartment', 'basement', 'lot'],\n",
       "       dtype='object'),\n",
       " Index(['monthlyExpense', 'housingArea', 'numberOfRooms', 'yearBuilt',\n",
       "        'monthlyExpense numberOfRooms', 'monthlyExpense basementArea',\n",
       "        'housingArea^2', 'housingArea numberOfRooms', 'numberOfFloors^2',\n",
       "        'lotArea^3', 'lotArea monthlyExpense^2',\n",
       "        'monthlyExpense^2 basementArea', 'monthlyExpense housingArea yearBuilt',\n",
       "        'monthlyExpense numberOfFloors basementArea',\n",
       "        'housingArea^2 numberOfFloors', 'numberOfFloors^2 numberOfRooms',\n",
       "        'lotArea^3 numberOfRooms', 'lotArea^3 basementArea',\n",
       "        'lotArea^2 monthlyExpense^2', 'lotArea^2 numberOfFloors^2',\n",
       "        'lotArea monthlyExpense^2 numberOfFloors',\n",
       "        'lotArea housingArea^2 numberOfFloors',\n",
       "        'lotArea housingArea^2 basementArea',\n",
       "        'lotArea housingArea numberOfFloors basementArea',\n",
       "        'lotArea housingArea yearBuilt^2', 'lotArea numberOfFloors^3',\n",
       "        'lotArea numberOfRooms^2 basementArea',\n",
       "        'lotArea numberOfRooms yearBuilt^2', 'lotArea yearBuilt^3',\n",
       "        'lotArea basementArea^3', 'monthlyExpense^3 numberOfFloors',\n",
       "        'monthlyExpense^2 numberOfFloors basementArea',\n",
       "        'monthlyExpense^2 yearBuilt^2',\n",
       "        'monthlyExpense housingArea^2 numberOfRooms',\n",
       "        'monthlyExpense housingArea numberOfRooms^2',\n",
       "        'monthlyExpense housingArea numberOfRooms basementArea',\n",
       "        'monthlyExpense housingArea yearBuilt^2',\n",
       "        'monthlyExpense housingArea basementArea^2',\n",
       "        'monthlyExpense numberOfFloors^2 numberOfRooms',\n",
       "        'housingArea^3 numberOfRooms', 'housingArea^2 numberOfRooms^2',\n",
       "        'numberOfFloors^4', 'numberOfFloors^2 basementArea^2',\n",
       "        'numberOfFloors numberOfRooms yearBuilt^2',\n",
       "        'numberOfFloors yearBuilt basementArea^2', 'yearBuilt^4',\n",
       "        'yearBuilt^3 basementArea', 'a1', 'a2', 'a2010', 'a2015', 'a2020', 'b',\n",
       "        'd', 'e', 'f', 'g'],\n",
       "       dtype='object'),\n",
       " Index(['yearBuilt', 'lotArea^2', 'monthlyExpense housingArea',\n",
       "        'monthlyExpense numberOfRooms', 'monthlyExpense basementArea',\n",
       "        'housingArea^2', 'housingArea numberOfRooms', 'lotArea^3',\n",
       "        'lotArea monthlyExpense^2', 'monthlyExpense housingArea^2',\n",
       "        ...\n",
       "        'Tårnby', 'Tønder', 'Vallensbæk', 'Varde', 'Vejen', 'Vejle',\n",
       "        'Vesthimmerlands', 'Viborg', 'Vordingborg', 'Ærø'],\n",
       "       dtype='object', length=150),\n",
       " Index(['lotArea^2', 'monthlyExpense housingArea',\n",
       "        'monthlyExpense numberOfRooms', 'monthlyExpense basementArea',\n",
       "        'housingArea^2', 'housingArea numberOfRooms', 'lotArea^3',\n",
       "        'monthlyExpense housingArea^2',\n",
       "        'monthlyExpense housingArea numberOfFloors',\n",
       "        'monthlyExpense housingArea yearBuilt',\n",
       "        ...\n",
       "        'Tårnby', 'Tønder', 'Vallensbæk', 'Varde', 'Vejen', 'Vejle',\n",
       "        'Vesthimmerlands', 'Viborg', 'Vordingborg', 'Ærø'],\n",
       "       dtype='object', length=161)]"
      ]
     },
     "execution_count": 23,
     "metadata": {},
     "output_type": "execute_result"
    }
   ],
   "source": [
    "non_zero_coef"
   ]
  },
  {
   "cell_type": "code",
   "execution_count": null,
   "id": "bd6b0827-6175-45e2-b2ab-88f1978bd4da",
   "metadata": {},
   "outputs": [],
   "source": []
  }
 ],
 "metadata": {
  "kernelspec": {
   "display_name": "Python 3 (ipykernel)",
   "language": "python",
   "name": "python3"
  },
  "language_info": {
   "codemirror_mode": {
    "name": "ipython",
    "version": 3
   },
   "file_extension": ".py",
   "mimetype": "text/x-python",
   "name": "python",
   "nbconvert_exporter": "python",
   "pygments_lexer": "ipython3",
   "version": "3.8.13"
  }
 },
 "nbformat": 4,
 "nbformat_minor": 5
}
