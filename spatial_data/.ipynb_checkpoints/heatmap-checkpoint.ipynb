{
 "cells": [
  {
   "cell_type": "code",
   "execution_count": 3,
   "metadata": {},
   "outputs": [],
   "source": [
    "import pandas as pd\n",
    "import geopandas as gpd\n",
    "import matplotlib.pyplot as plt \n",
    "from shapely.geometry import Point, Polygon \n"
   ]
  },
  {
   "cell_type": "code",
   "execution_count": 4,
   "metadata": {},
   "outputs": [
    {
     "data": {
      "text/plain": [
       "[<shapely.geometry.point.Point at 0x274a2201bd0>,\n",
       " <shapely.geometry.point.Point at 0x274a2201a50>,\n",
       " <shapely.geometry.point.Point at 0x274a2201900>]"
      ]
     },
     "execution_count": 4,
     "metadata": {},
     "output_type": "execute_result"
    }
   ],
   "source": [
    "df_boligsiden = pd.read_csv(r'C:\\Users\\danie\\OneDrive\\Documents\\GitHub\\assignment1\\boligsiden_api_moritz\\data\\boligsiden_10000.csv')\n",
    "geometry = [Point(xy) for xy in zip(df_boligsiden['longitude'], df_boligsiden['latitude'])]\n",
    "geometry[:3]\n",
    "\n",
    "gdp.read_file()\n",
    "#geo_df = geo.GeoDataFrame(df, )"
   ]
  },
  {
   "cell_type": "code",
   "execution_count": null,
   "metadata": {},
   "outputs": [],
   "source": []
  }
 ],
 "metadata": {
  "kernelspec": {
   "display_name": "Python 3 (ipykernel)",
   "language": "python",
   "name": "python3"
  },
  "language_info": {
   "codemirror_mode": {
    "name": "ipython",
    "version": 3
   },
   "file_extension": ".py",
   "mimetype": "text/x-python",
   "name": "python",
   "nbconvert_exporter": "python",
   "pygments_lexer": "ipython3",
   "version": "3.10.5"
  }
 },
 "nbformat": 4,
 "nbformat_minor": 4
}
